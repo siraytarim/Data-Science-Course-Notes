{
 "cells": [
  {
   "cell_type": "code",
   "execution_count": 2,
   "id": "f2b244e4-9fa9-475c-995d-d17f0f93ebf0",
   "metadata": {},
   "outputs": [],
   "source": [
    "import pandas as pd"
   ]
  },
  {
   "cell_type": "code",
   "execution_count": 3,
   "id": "30a99c1e-a4b1-496b-8b2e-e6f045696fab",
   "metadata": {},
   "outputs": [],
   "source": [
    "import numpy as np"
   ]
  },
  {
   "cell_type": "code",
   "execution_count": 64,
   "id": "4dc3daf0-5a67-49b1-b6f2-39cdad98eb7f",
   "metadata": {},
   "outputs": [],
   "source": [
    "data = np.random.rand(4,2)"
   ]
  },
  {
   "cell_type": "code",
   "execution_count": 65,
   "id": "515fdac0-266d-46e5-9a76-d9c9e6d8987c",
   "metadata": {},
   "outputs": [
    {
     "data": {
      "text/plain": [
       "array([[0.34559834, 0.00134518],\n",
       "       [0.18117198, 0.48002287],\n",
       "       [0.08012757, 0.58902156],\n",
       "       [0.82294097, 0.02807874]])"
      ]
     },
     "execution_count": 65,
     "metadata": {},
     "output_type": "execute_result"
    }
   ],
   "source": [
    "data"
   ]
  },
  {
   "cell_type": "code",
   "execution_count": 66,
   "id": "04e5329c-95a1-48f2-b933-1b529ce02593",
   "metadata": {},
   "outputs": [],
   "source": [
    "#DataFrame two dimensional labeled"
   ]
  },
  {
   "cell_type": "code",
   "execution_count": 67,
   "id": "38c5f53f-b288-4751-8b5e-ac56c80b59e0",
   "metadata": {},
   "outputs": [],
   "source": [
    "data_frame = pd.DataFrame(data)"
   ]
  },
  {
   "cell_type": "code",
   "execution_count": 68,
   "id": "ad82f4ba-a269-4027-bf06-77e6b5f9bb53",
   "metadata": {},
   "outputs": [
    {
     "data": {
      "text/html": [
       "<div>\n",
       "<style scoped>\n",
       "    .dataframe tbody tr th:only-of-type {\n",
       "        vertical-align: middle;\n",
       "    }\n",
       "\n",
       "    .dataframe tbody tr th {\n",
       "        vertical-align: top;\n",
       "    }\n",
       "\n",
       "    .dataframe thead th {\n",
       "        text-align: right;\n",
       "    }\n",
       "</style>\n",
       "<table border=\"1\" class=\"dataframe\">\n",
       "  <thead>\n",
       "    <tr style=\"text-align: right;\">\n",
       "      <th></th>\n",
       "      <th>0</th>\n",
       "      <th>1</th>\n",
       "    </tr>\n",
       "  </thead>\n",
       "  <tbody>\n",
       "    <tr>\n",
       "      <th>0</th>\n",
       "      <td>0.345598</td>\n",
       "      <td>0.001345</td>\n",
       "    </tr>\n",
       "    <tr>\n",
       "      <th>1</th>\n",
       "      <td>0.181172</td>\n",
       "      <td>0.480023</td>\n",
       "    </tr>\n",
       "    <tr>\n",
       "      <th>2</th>\n",
       "      <td>0.080128</td>\n",
       "      <td>0.589022</td>\n",
       "    </tr>\n",
       "    <tr>\n",
       "      <th>3</th>\n",
       "      <td>0.822941</td>\n",
       "      <td>0.028079</td>\n",
       "    </tr>\n",
       "  </tbody>\n",
       "</table>\n",
       "</div>"
      ],
      "text/plain": [
       "          0         1\n",
       "0  0.345598  0.001345\n",
       "1  0.181172  0.480023\n",
       "2  0.080128  0.589022\n",
       "3  0.822941  0.028079"
      ]
     },
     "execution_count": 68,
     "metadata": {},
     "output_type": "execute_result"
    }
   ],
   "source": [
    "data_frame"
   ]
  },
  {
   "cell_type": "code",
   "execution_count": 69,
   "id": "cc48d23d-8465-45bf-96e7-575e3f65f7dc",
   "metadata": {},
   "outputs": [],
   "source": [
    "new_df = pd.DataFrame(data, index = [\"Sıroş\",\"Sude\",\"Tubiş\",\"Talha\"], columns = [\"Age\",\"Salary\"])"
   ]
  },
  {
   "cell_type": "code",
   "execution_count": 70,
   "id": "e2cf5c12-6191-48c1-8f72-9a7826da1b27",
   "metadata": {},
   "outputs": [
    {
     "data": {
      "text/html": [
       "<div>\n",
       "<style scoped>\n",
       "    .dataframe tbody tr th:only-of-type {\n",
       "        vertical-align: middle;\n",
       "    }\n",
       "\n",
       "    .dataframe tbody tr th {\n",
       "        vertical-align: top;\n",
       "    }\n",
       "\n",
       "    .dataframe thead th {\n",
       "        text-align: right;\n",
       "    }\n",
       "</style>\n",
       "<table border=\"1\" class=\"dataframe\">\n",
       "  <thead>\n",
       "    <tr style=\"text-align: right;\">\n",
       "      <th></th>\n",
       "      <th>Age</th>\n",
       "      <th>Salary</th>\n",
       "    </tr>\n",
       "  </thead>\n",
       "  <tbody>\n",
       "    <tr>\n",
       "      <th>Sıroş</th>\n",
       "      <td>0.345598</td>\n",
       "      <td>0.001345</td>\n",
       "    </tr>\n",
       "    <tr>\n",
       "      <th>Sude</th>\n",
       "      <td>0.181172</td>\n",
       "      <td>0.480023</td>\n",
       "    </tr>\n",
       "    <tr>\n",
       "      <th>Tubiş</th>\n",
       "      <td>0.080128</td>\n",
       "      <td>0.589022</td>\n",
       "    </tr>\n",
       "    <tr>\n",
       "      <th>Talha</th>\n",
       "      <td>0.822941</td>\n",
       "      <td>0.028079</td>\n",
       "    </tr>\n",
       "  </tbody>\n",
       "</table>\n",
       "</div>"
      ],
      "text/plain": [
       "            Age    Salary\n",
       "Sıroş  0.345598  0.001345\n",
       "Sude   0.181172  0.480023\n",
       "Tubiş  0.080128  0.589022\n",
       "Talha  0.822941  0.028079"
      ]
     },
     "execution_count": 70,
     "metadata": {},
     "output_type": "execute_result"
    }
   ],
   "source": [
    "new_df"
   ]
  },
  {
   "cell_type": "code",
   "execution_count": 71,
   "id": "c47b0ad5-c782-48f3-bd0a-54c37a2ad1e5",
   "metadata": {},
   "outputs": [
    {
     "data": {
      "text/plain": [
       "Sıroş    0.345598\n",
       "Sude     0.181172\n",
       "Tubiş    0.080128\n",
       "Talha    0.822941\n",
       "Name: Age, dtype: float64"
      ]
     },
     "execution_count": 71,
     "metadata": {},
     "output_type": "execute_result"
    }
   ],
   "source": [
    "new_df[\"Age\"]"
   ]
  },
  {
   "cell_type": "code",
   "execution_count": 72,
   "id": "c5f4793d-989c-4de6-800f-a5723b814e38",
   "metadata": {},
   "outputs": [
    {
     "data": {
      "text/plain": [
       "Age       0.080128\n",
       "Salary    0.589022\n",
       "Name: Tubiş, dtype: float64"
      ]
     },
     "execution_count": 72,
     "metadata": {},
     "output_type": "execute_result"
    }
   ],
   "source": [
    "new_df.loc[\"Tubiş\"]"
   ]
  },
  {
   "cell_type": "code",
   "execution_count": 73,
   "id": "b3eaf440-1f84-44be-b66a-121137b46366",
   "metadata": {},
   "outputs": [
    {
     "data": {
      "text/plain": [
       "Age       0.345598\n",
       "Salary    0.001345\n",
       "Name: Sıroş, dtype: float64"
      ]
     },
     "execution_count": 73,
     "metadata": {},
     "output_type": "execute_result"
    }
   ],
   "source": [
    "new_df.iloc[0]"
   ]
  },
  {
   "cell_type": "code",
   "execution_count": 74,
   "id": "00a4193b-a066-46c4-a430-dd7c0cda5a87",
   "metadata": {},
   "outputs": [],
   "source": [
    "new_df[\"Majority\"] = 3"
   ]
  },
  {
   "cell_type": "code",
   "execution_count": 75,
   "id": "b831087c-0cc1-499a-abfc-6bc42a6a0101",
   "metadata": {},
   "outputs": [
    {
     "data": {
      "text/html": [
       "<div>\n",
       "<style scoped>\n",
       "    .dataframe tbody tr th:only-of-type {\n",
       "        vertical-align: middle;\n",
       "    }\n",
       "\n",
       "    .dataframe tbody tr th {\n",
       "        vertical-align: top;\n",
       "    }\n",
       "\n",
       "    .dataframe thead th {\n",
       "        text-align: right;\n",
       "    }\n",
       "</style>\n",
       "<table border=\"1\" class=\"dataframe\">\n",
       "  <thead>\n",
       "    <tr style=\"text-align: right;\">\n",
       "      <th></th>\n",
       "      <th>Age</th>\n",
       "      <th>Salary</th>\n",
       "      <th>Majority</th>\n",
       "    </tr>\n",
       "  </thead>\n",
       "  <tbody>\n",
       "    <tr>\n",
       "      <th>Sıroş</th>\n",
       "      <td>0.345598</td>\n",
       "      <td>0.001345</td>\n",
       "      <td>3</td>\n",
       "    </tr>\n",
       "    <tr>\n",
       "      <th>Sude</th>\n",
       "      <td>0.181172</td>\n",
       "      <td>0.480023</td>\n",
       "      <td>3</td>\n",
       "    </tr>\n",
       "    <tr>\n",
       "      <th>Tubiş</th>\n",
       "      <td>0.080128</td>\n",
       "      <td>0.589022</td>\n",
       "      <td>3</td>\n",
       "    </tr>\n",
       "    <tr>\n",
       "      <th>Talha</th>\n",
       "      <td>0.822941</td>\n",
       "      <td>0.028079</td>\n",
       "      <td>3</td>\n",
       "    </tr>\n",
       "  </tbody>\n",
       "</table>\n",
       "</div>"
      ],
      "text/plain": [
       "            Age    Salary  Majority\n",
       "Sıroş  0.345598  0.001345         3\n",
       "Sude   0.181172  0.480023         3\n",
       "Tubiş  0.080128  0.589022         3\n",
       "Talha  0.822941  0.028079         3"
      ]
     },
     "execution_count": 75,
     "metadata": {},
     "output_type": "execute_result"
    }
   ],
   "source": [
    "new_df"
   ]
  },
  {
   "cell_type": "code",
   "execution_count": 76,
   "id": "f6259212-3c71-4d34-b600-ddece06b1560",
   "metadata": {},
   "outputs": [],
   "source": [
    "new_df.drop(\"Majority\", axis = 1, inplace=True)"
   ]
  },
  {
   "cell_type": "code",
   "execution_count": 77,
   "id": "7049fb58-1968-4fdb-8a7e-5a510458ad43",
   "metadata": {},
   "outputs": [
    {
     "data": {
      "text/html": [
       "<div>\n",
       "<style scoped>\n",
       "    .dataframe tbody tr th:only-of-type {\n",
       "        vertical-align: middle;\n",
       "    }\n",
       "\n",
       "    .dataframe tbody tr th {\n",
       "        vertical-align: top;\n",
       "    }\n",
       "\n",
       "    .dataframe thead th {\n",
       "        text-align: right;\n",
       "    }\n",
       "</style>\n",
       "<table border=\"1\" class=\"dataframe\">\n",
       "  <thead>\n",
       "    <tr style=\"text-align: right;\">\n",
       "      <th></th>\n",
       "      <th>Age</th>\n",
       "      <th>Salary</th>\n",
       "    </tr>\n",
       "  </thead>\n",
       "  <tbody>\n",
       "    <tr>\n",
       "      <th>Sıroş</th>\n",
       "      <td>0.345598</td>\n",
       "      <td>0.001345</td>\n",
       "    </tr>\n",
       "    <tr>\n",
       "      <th>Sude</th>\n",
       "      <td>0.181172</td>\n",
       "      <td>0.480023</td>\n",
       "    </tr>\n",
       "    <tr>\n",
       "      <th>Tubiş</th>\n",
       "      <td>0.080128</td>\n",
       "      <td>0.589022</td>\n",
       "    </tr>\n",
       "    <tr>\n",
       "      <th>Talha</th>\n",
       "      <td>0.822941</td>\n",
       "      <td>0.028079</td>\n",
       "    </tr>\n",
       "  </tbody>\n",
       "</table>\n",
       "</div>"
      ],
      "text/plain": [
       "            Age    Salary\n",
       "Sıroş  0.345598  0.001345\n",
       "Sude   0.181172  0.480023\n",
       "Tubiş  0.080128  0.589022\n",
       "Talha  0.822941  0.028079"
      ]
     },
     "execution_count": 77,
     "metadata": {},
     "output_type": "execute_result"
    }
   ],
   "source": [
    "new_df"
   ]
  },
  {
   "cell_type": "code",
   "execution_count": 78,
   "id": "2bd172ae-8bf8-4ec0-bf98-9b67f59b4224",
   "metadata": {},
   "outputs": [],
   "source": [
    "new_df.drop(\"Sude\", inplace=True)\n",
    "# axis belirtmeyince 0 olarak alıyor (row)"
   ]
  },
  {
   "cell_type": "code",
   "execution_count": 79,
   "id": "4c01b629-3048-4db8-807c-259c17b7d560",
   "metadata": {},
   "outputs": [
    {
     "data": {
      "text/html": [
       "<div>\n",
       "<style scoped>\n",
       "    .dataframe tbody tr th:only-of-type {\n",
       "        vertical-align: middle;\n",
       "    }\n",
       "\n",
       "    .dataframe tbody tr th {\n",
       "        vertical-align: top;\n",
       "    }\n",
       "\n",
       "    .dataframe thead th {\n",
       "        text-align: right;\n",
       "    }\n",
       "</style>\n",
       "<table border=\"1\" class=\"dataframe\">\n",
       "  <thead>\n",
       "    <tr style=\"text-align: right;\">\n",
       "      <th></th>\n",
       "      <th>Age</th>\n",
       "      <th>Salary</th>\n",
       "    </tr>\n",
       "  </thead>\n",
       "  <tbody>\n",
       "    <tr>\n",
       "      <th>Sıroş</th>\n",
       "      <td>0.345598</td>\n",
       "      <td>0.001345</td>\n",
       "    </tr>\n",
       "    <tr>\n",
       "      <th>Tubiş</th>\n",
       "      <td>0.080128</td>\n",
       "      <td>0.589022</td>\n",
       "    </tr>\n",
       "    <tr>\n",
       "      <th>Talha</th>\n",
       "      <td>0.822941</td>\n",
       "      <td>0.028079</td>\n",
       "    </tr>\n",
       "  </tbody>\n",
       "</table>\n",
       "</div>"
      ],
      "text/plain": [
       "            Age    Salary\n",
       "Sıroş  0.345598  0.001345\n",
       "Tubiş  0.080128  0.589022\n",
       "Talha  0.822941  0.028079"
      ]
     },
     "execution_count": 79,
     "metadata": {},
     "output_type": "execute_result"
    }
   ],
   "source": [
    "new_df"
   ]
  },
  {
   "cell_type": "code",
   "execution_count": 80,
   "id": "43423091-2280-4d60-b93e-c43e7e5516fe",
   "metadata": {},
   "outputs": [],
   "source": [
    "#data manipulation\n",
    "new_df.loc[\"Talha\",\"Age\"] = 10"
   ]
  },
  {
   "cell_type": "code",
   "execution_count": 81,
   "id": "49c6a363-0d65-40a4-ab40-5ce1af6cba81",
   "metadata": {},
   "outputs": [
    {
     "data": {
      "text/html": [
       "<div>\n",
       "<style scoped>\n",
       "    .dataframe tbody tr th:only-of-type {\n",
       "        vertical-align: middle;\n",
       "    }\n",
       "\n",
       "    .dataframe tbody tr th {\n",
       "        vertical-align: top;\n",
       "    }\n",
       "\n",
       "    .dataframe thead th {\n",
       "        text-align: right;\n",
       "    }\n",
       "</style>\n",
       "<table border=\"1\" class=\"dataframe\">\n",
       "  <thead>\n",
       "    <tr style=\"text-align: right;\">\n",
       "      <th></th>\n",
       "      <th>Age</th>\n",
       "      <th>Salary</th>\n",
       "    </tr>\n",
       "  </thead>\n",
       "  <tbody>\n",
       "    <tr>\n",
       "      <th>Sıroş</th>\n",
       "      <td>0.345598</td>\n",
       "      <td>0.001345</td>\n",
       "    </tr>\n",
       "    <tr>\n",
       "      <th>Tubiş</th>\n",
       "      <td>0.080128</td>\n",
       "      <td>0.589022</td>\n",
       "    </tr>\n",
       "    <tr>\n",
       "      <th>Talha</th>\n",
       "      <td>10.000000</td>\n",
       "      <td>0.028079</td>\n",
       "    </tr>\n",
       "  </tbody>\n",
       "</table>\n",
       "</div>"
      ],
      "text/plain": [
       "             Age    Salary\n",
       "Sıroş   0.345598  0.001345\n",
       "Tubiş   0.080128  0.589022\n",
       "Talha  10.000000  0.028079"
      ]
     },
     "execution_count": 81,
     "metadata": {},
     "output_type": "execute_result"
    }
   ],
   "source": [
    "new_df"
   ]
  },
  {
   "cell_type": "code",
   "execution_count": 82,
   "id": "a2d43f4c-9f11-49d1-a8e9-85cea0aa7b29",
   "metadata": {},
   "outputs": [],
   "source": [
    "new_df.loc[\"Sıroş\", \"Salary\"] = 65"
   ]
  },
  {
   "cell_type": "code",
   "execution_count": 83,
   "id": "0b4d28b9-6101-4e69-bfbe-f2f56b09f6e7",
   "metadata": {},
   "outputs": [
    {
     "data": {
      "text/html": [
       "<div>\n",
       "<style scoped>\n",
       "    .dataframe tbody tr th:only-of-type {\n",
       "        vertical-align: middle;\n",
       "    }\n",
       "\n",
       "    .dataframe tbody tr th {\n",
       "        vertical-align: top;\n",
       "    }\n",
       "\n",
       "    .dataframe thead th {\n",
       "        text-align: right;\n",
       "    }\n",
       "</style>\n",
       "<table border=\"1\" class=\"dataframe\">\n",
       "  <thead>\n",
       "    <tr style=\"text-align: right;\">\n",
       "      <th></th>\n",
       "      <th>Age</th>\n",
       "      <th>Salary</th>\n",
       "    </tr>\n",
       "  </thead>\n",
       "  <tbody>\n",
       "    <tr>\n",
       "      <th>Sıroş</th>\n",
       "      <td>0.345598</td>\n",
       "      <td>65.000000</td>\n",
       "    </tr>\n",
       "    <tr>\n",
       "      <th>Tubiş</th>\n",
       "      <td>0.080128</td>\n",
       "      <td>0.589022</td>\n",
       "    </tr>\n",
       "    <tr>\n",
       "      <th>Talha</th>\n",
       "      <td>10.000000</td>\n",
       "      <td>0.028079</td>\n",
       "    </tr>\n",
       "  </tbody>\n",
       "</table>\n",
       "</div>"
      ],
      "text/plain": [
       "             Age     Salary\n",
       "Sıroş   0.345598  65.000000\n",
       "Tubiş   0.080128   0.589022\n",
       "Talha  10.000000   0.028079"
      ]
     },
     "execution_count": 83,
     "metadata": {},
     "output_type": "execute_result"
    }
   ],
   "source": [
    "new_df"
   ]
  },
  {
   "cell_type": "code",
   "execution_count": 85,
   "id": "fef31a0d-3040-438c-9d18-760dfadb9b98",
   "metadata": {},
   "outputs": [
    {
     "data": {
      "text/html": [
       "<div>\n",
       "<style scoped>\n",
       "    .dataframe tbody tr th:only-of-type {\n",
       "        vertical-align: middle;\n",
       "    }\n",
       "\n",
       "    .dataframe tbody tr th {\n",
       "        vertical-align: top;\n",
       "    }\n",
       "\n",
       "    .dataframe thead th {\n",
       "        text-align: right;\n",
       "    }\n",
       "</style>\n",
       "<table border=\"1\" class=\"dataframe\">\n",
       "  <thead>\n",
       "    <tr style=\"text-align: right;\">\n",
       "      <th></th>\n",
       "      <th>Age</th>\n",
       "      <th>Salary</th>\n",
       "    </tr>\n",
       "  </thead>\n",
       "  <tbody>\n",
       "    <tr>\n",
       "      <th>Sıroş</th>\n",
       "      <td>0.345598</td>\n",
       "      <td>65.000000</td>\n",
       "    </tr>\n",
       "    <tr>\n",
       "      <th>Tubiş</th>\n",
       "      <td>0.080128</td>\n",
       "      <td>0.589022</td>\n",
       "    </tr>\n",
       "    <tr>\n",
       "      <th>Talha</th>\n",
       "      <td>10.000000</td>\n",
       "      <td>0.028079</td>\n",
       "    </tr>\n",
       "  </tbody>\n",
       "</table>\n",
       "</div>"
      ],
      "text/plain": [
       "             Age     Salary\n",
       "Sıroş   0.345598  65.000000\n",
       "Tubiş   0.080128   0.589022\n",
       "Talha  10.000000   0.028079"
      ]
     },
     "execution_count": 85,
     "metadata": {},
     "output_type": "execute_result"
    }
   ],
   "source": [
    "new_df[new_df > 0]"
   ]
  },
  {
   "cell_type": "code",
   "execution_count": 88,
   "id": "2442f485-b872-4216-a423-4c08541002f5",
   "metadata": {},
   "outputs": [
    {
     "data": {
      "text/html": [
       "<div>\n",
       "<style scoped>\n",
       "    .dataframe tbody tr th:only-of-type {\n",
       "        vertical-align: middle;\n",
       "    }\n",
       "\n",
       "    .dataframe tbody tr th {\n",
       "        vertical-align: top;\n",
       "    }\n",
       "\n",
       "    .dataframe thead th {\n",
       "        text-align: right;\n",
       "    }\n",
       "</style>\n",
       "<table border=\"1\" class=\"dataframe\">\n",
       "  <thead>\n",
       "    <tr style=\"text-align: right;\">\n",
       "      <th></th>\n",
       "      <th>Age</th>\n",
       "      <th>Salary</th>\n",
       "    </tr>\n",
       "  </thead>\n",
       "  <tbody>\n",
       "    <tr>\n",
       "      <th>Sıroş</th>\n",
       "      <td>0.345598</td>\n",
       "      <td>65.000000</td>\n",
       "    </tr>\n",
       "    <tr>\n",
       "      <th>Talha</th>\n",
       "      <td>10.000000</td>\n",
       "      <td>0.028079</td>\n",
       "    </tr>\n",
       "  </tbody>\n",
       "</table>\n",
       "</div>"
      ],
      "text/plain": [
       "             Age     Salary\n",
       "Sıroş   0.345598  65.000000\n",
       "Talha  10.000000   0.028079"
      ]
     },
     "execution_count": 88,
     "metadata": {},
     "output_type": "execute_result"
    }
   ],
   "source": [
    "new_df[new_df['Age'] > 0.2]"
   ]
  },
  {
   "cell_type": "code",
   "execution_count": 89,
   "id": "1aa1cdc6-af61-4936-996b-41f02245222e",
   "metadata": {},
   "outputs": [
    {
     "data": {
      "text/html": [
       "<div>\n",
       "<style scoped>\n",
       "    .dataframe tbody tr th:only-of-type {\n",
       "        vertical-align: middle;\n",
       "    }\n",
       "\n",
       "    .dataframe tbody tr th {\n",
       "        vertical-align: top;\n",
       "    }\n",
       "\n",
       "    .dataframe thead th {\n",
       "        text-align: right;\n",
       "    }\n",
       "</style>\n",
       "<table border=\"1\" class=\"dataframe\">\n",
       "  <thead>\n",
       "    <tr style=\"text-align: right;\">\n",
       "      <th></th>\n",
       "      <th>Age</th>\n",
       "      <th>Salary</th>\n",
       "    </tr>\n",
       "  </thead>\n",
       "  <tbody>\n",
       "    <tr>\n",
       "      <th>Sıroş</th>\n",
       "      <td>0.345598</td>\n",
       "      <td>65.000000</td>\n",
       "    </tr>\n",
       "    <tr>\n",
       "      <th>Tubiş</th>\n",
       "      <td>0.080128</td>\n",
       "      <td>0.589022</td>\n",
       "    </tr>\n",
       "    <tr>\n",
       "      <th>Talha</th>\n",
       "      <td>10.000000</td>\n",
       "      <td>0.028079</td>\n",
       "    </tr>\n",
       "  </tbody>\n",
       "</table>\n",
       "</div>"
      ],
      "text/plain": [
       "             Age     Salary\n",
       "Sıroş   0.345598  65.000000\n",
       "Tubiş   0.080128   0.589022\n",
       "Talha  10.000000   0.028079"
      ]
     },
     "execution_count": 89,
     "metadata": {},
     "output_type": "execute_result"
    }
   ],
   "source": [
    "new_df"
   ]
  },
  {
   "cell_type": "code",
   "execution_count": 90,
   "id": "7efe3157-6c15-42c4-89cd-a51ecdeb106c",
   "metadata": {},
   "outputs": [],
   "source": [
    "new_df = new_df.reset_index()"
   ]
  },
  {
   "cell_type": "code",
   "execution_count": 94,
   "id": "eab129da-d66a-4bc2-afc1-b6a04a918ca3",
   "metadata": {},
   "outputs": [
    {
     "data": {
      "text/html": [
       "<div>\n",
       "<style scoped>\n",
       "    .dataframe tbody tr th:only-of-type {\n",
       "        vertical-align: middle;\n",
       "    }\n",
       "\n",
       "    .dataframe tbody tr th {\n",
       "        vertical-align: top;\n",
       "    }\n",
       "\n",
       "    .dataframe thead th {\n",
       "        text-align: right;\n",
       "    }\n",
       "</style>\n",
       "<table border=\"1\" class=\"dataframe\">\n",
       "  <thead>\n",
       "    <tr style=\"text-align: right;\">\n",
       "      <th></th>\n",
       "      <th>index</th>\n",
       "      <th>Age</th>\n",
       "      <th>Salary</th>\n",
       "    </tr>\n",
       "  </thead>\n",
       "  <tbody>\n",
       "    <tr>\n",
       "      <th>0</th>\n",
       "      <td>Sıroş</td>\n",
       "      <td>0.345598</td>\n",
       "      <td>65.000000</td>\n",
       "    </tr>\n",
       "    <tr>\n",
       "      <th>1</th>\n",
       "      <td>Tubiş</td>\n",
       "      <td>0.080128</td>\n",
       "      <td>0.589022</td>\n",
       "    </tr>\n",
       "    <tr>\n",
       "      <th>2</th>\n",
       "      <td>Talha</td>\n",
       "      <td>10.000000</td>\n",
       "      <td>0.028079</td>\n",
       "    </tr>\n",
       "  </tbody>\n",
       "</table>\n",
       "</div>"
      ],
      "text/plain": [
       "   index        Age     Salary\n",
       "0  Sıroş   0.345598  65.000000\n",
       "1  Tubiş   0.080128   0.589022\n",
       "2  Talha  10.000000   0.028079"
      ]
     },
     "execution_count": 94,
     "metadata": {},
     "output_type": "execute_result"
    }
   ],
   "source": [
    "new_df"
   ]
  },
  {
   "cell_type": "code",
   "execution_count": 95,
   "id": "54da3af8-20b3-4625-9797-b08355a36ba3",
   "metadata": {},
   "outputs": [],
   "source": [
    "new_indices = [\"Sır\",\"Tub\",\"Tal\"]"
   ]
  },
  {
   "cell_type": "code",
   "execution_count": 96,
   "id": "4d4d490b-7123-47e1-abc5-8743aecb32f4",
   "metadata": {},
   "outputs": [],
   "source": [
    "new_df[\"Indices\"] = new_indices"
   ]
  },
  {
   "cell_type": "code",
   "execution_count": 97,
   "id": "15646422-c538-4d39-8a0a-407df57644cf",
   "metadata": {},
   "outputs": [
    {
     "data": {
      "text/html": [
       "<div>\n",
       "<style scoped>\n",
       "    .dataframe tbody tr th:only-of-type {\n",
       "        vertical-align: middle;\n",
       "    }\n",
       "\n",
       "    .dataframe tbody tr th {\n",
       "        vertical-align: top;\n",
       "    }\n",
       "\n",
       "    .dataframe thead th {\n",
       "        text-align: right;\n",
       "    }\n",
       "</style>\n",
       "<table border=\"1\" class=\"dataframe\">\n",
       "  <thead>\n",
       "    <tr style=\"text-align: right;\">\n",
       "      <th></th>\n",
       "      <th>index</th>\n",
       "      <th>Age</th>\n",
       "      <th>Salary</th>\n",
       "      <th>Indices</th>\n",
       "    </tr>\n",
       "  </thead>\n",
       "  <tbody>\n",
       "    <tr>\n",
       "      <th>0</th>\n",
       "      <td>Sıroş</td>\n",
       "      <td>0.345598</td>\n",
       "      <td>65.000000</td>\n",
       "      <td>Sır</td>\n",
       "    </tr>\n",
       "    <tr>\n",
       "      <th>1</th>\n",
       "      <td>Tubiş</td>\n",
       "      <td>0.080128</td>\n",
       "      <td>0.589022</td>\n",
       "      <td>Tub</td>\n",
       "    </tr>\n",
       "    <tr>\n",
       "      <th>2</th>\n",
       "      <td>Talha</td>\n",
       "      <td>10.000000</td>\n",
       "      <td>0.028079</td>\n",
       "      <td>Tal</td>\n",
       "    </tr>\n",
       "  </tbody>\n",
       "</table>\n",
       "</div>"
      ],
      "text/plain": [
       "   index        Age     Salary Indices\n",
       "0  Sıroş   0.345598  65.000000     Sır\n",
       "1  Tubiş   0.080128   0.589022     Tub\n",
       "2  Talha  10.000000   0.028079     Tal"
      ]
     },
     "execution_count": 97,
     "metadata": {},
     "output_type": "execute_result"
    }
   ],
   "source": [
    "new_df"
   ]
  },
  {
   "cell_type": "code",
   "execution_count": 98,
   "id": "ae77c4b8-0461-4ae8-bc6c-ec29ba9af010",
   "metadata": {},
   "outputs": [],
   "source": [
    "new_df.set_index(\"Indices\" , inplace=True)"
   ]
  },
  {
   "cell_type": "code",
   "execution_count": 99,
   "id": "0ff27e46-50f4-4c1f-8146-42fd1f3dfd2c",
   "metadata": {},
   "outputs": [
    {
     "data": {
      "text/html": [
       "<div>\n",
       "<style scoped>\n",
       "    .dataframe tbody tr th:only-of-type {\n",
       "        vertical-align: middle;\n",
       "    }\n",
       "\n",
       "    .dataframe tbody tr th {\n",
       "        vertical-align: top;\n",
       "    }\n",
       "\n",
       "    .dataframe thead th {\n",
       "        text-align: right;\n",
       "    }\n",
       "</style>\n",
       "<table border=\"1\" class=\"dataframe\">\n",
       "  <thead>\n",
       "    <tr style=\"text-align: right;\">\n",
       "      <th></th>\n",
       "      <th>index</th>\n",
       "      <th>Age</th>\n",
       "      <th>Salary</th>\n",
       "    </tr>\n",
       "    <tr>\n",
       "      <th>Indices</th>\n",
       "      <th></th>\n",
       "      <th></th>\n",
       "      <th></th>\n",
       "    </tr>\n",
       "  </thead>\n",
       "  <tbody>\n",
       "    <tr>\n",
       "      <th>Sır</th>\n",
       "      <td>Sıroş</td>\n",
       "      <td>0.345598</td>\n",
       "      <td>65.000000</td>\n",
       "    </tr>\n",
       "    <tr>\n",
       "      <th>Tub</th>\n",
       "      <td>Tubiş</td>\n",
       "      <td>0.080128</td>\n",
       "      <td>0.589022</td>\n",
       "    </tr>\n",
       "    <tr>\n",
       "      <th>Tal</th>\n",
       "      <td>Talha</td>\n",
       "      <td>10.000000</td>\n",
       "      <td>0.028079</td>\n",
       "    </tr>\n",
       "  </tbody>\n",
       "</table>\n",
       "</div>"
      ],
      "text/plain": [
       "         index        Age     Salary\n",
       "Indices                             \n",
       "Sır      Sıroş   0.345598  65.000000\n",
       "Tub      Tubiş   0.080128   0.589022\n",
       "Tal      Talha  10.000000   0.028079"
      ]
     },
     "execution_count": 99,
     "metadata": {},
     "output_type": "execute_result"
    }
   ],
   "source": [
    "new_df"
   ]
  },
  {
   "cell_type": "code",
   "execution_count": 100,
   "id": "0324c172-e470-4a68-b3d0-a0657da7104e",
   "metadata": {},
   "outputs": [],
   "source": [
    "# multi index"
   ]
  },
  {
   "cell_type": "code",
   "execution_count": 101,
   "id": "7542c47f-f86b-402e-8307-cc1fc1ea45b9",
   "metadata": {},
   "outputs": [],
   "source": [
    "first_index = [\"Simpson\",\"Simpson\",\"Simpson\",\"SouthPark\",\"SouthPark\"]"
   ]
  },
  {
   "cell_type": "code",
   "execution_count": 102,
   "id": "b8e5fc0b-9a95-40b7-80ce-73d4a4a527f9",
   "metadata": {},
   "outputs": [],
   "source": [
    "innder_index = [\"Bart\",\"Homer\",\"Cart\",\"Mergment\",\"Cyle\"]"
   ]
  },
  {
   "cell_type": "code",
   "execution_count": 103,
   "id": "9b4d9ab0-afe8-4151-919c-2a552d626dd6",
   "metadata": {},
   "outputs": [],
   "source": [
    "zipped_index = list(zip(first_index, innder_index))"
   ]
  },
  {
   "cell_type": "code",
   "execution_count": 104,
   "id": "56f4ebdc-049a-426f-8b62-bf5dae7b20e3",
   "metadata": {},
   "outputs": [
    {
     "data": {
      "text/plain": [
       "[('Simpson', 'Bart'),\n",
       " ('Simpson', 'Homer'),\n",
       " ('Simpson', 'Cart'),\n",
       " ('SouthPark', 'Mergment'),\n",
       " ('SouthPark', 'Cyle')]"
      ]
     },
     "execution_count": 104,
     "metadata": {},
     "output_type": "execute_result"
    }
   ],
   "source": [
    "zipped_index"
   ]
  },
  {
   "cell_type": "code",
   "execution_count": 105,
   "id": "7a44e314-c0e7-4842-900a-0c3a29500bb3",
   "metadata": {},
   "outputs": [],
   "source": [
    "zipped_index = pd.MultiIndex.from_tuples(zipped_index)"
   ]
  },
  {
   "cell_type": "code",
   "execution_count": 106,
   "id": "94f679ce-fdfb-44ea-ac5b-e3642e9b9024",
   "metadata": {},
   "outputs": [
    {
     "data": {
      "text/plain": [
       "MultiIndex([(  'Simpson',     'Bart'),\n",
       "            (  'Simpson',    'Homer'),\n",
       "            (  'Simpson',     'Cart'),\n",
       "            ('SouthPark', 'Mergment'),\n",
       "            ('SouthPark',     'Cyle')],\n",
       "           )"
      ]
     },
     "execution_count": 106,
     "metadata": {},
     "output_type": "execute_result"
    }
   ],
   "source": [
    "zipped_index"
   ]
  },
  {
   "cell_type": "code",
   "execution_count": 109,
   "id": "d227eeb3-d149-42a8-a564-5be48e1f05e3",
   "metadata": {},
   "outputs": [],
   "source": [
    "sample_values = np.ones((5,2))"
   ]
  },
  {
   "cell_type": "code",
   "execution_count": 111,
   "id": "c5cc2841-1d14-43c3-b929-c91a1342f70e",
   "metadata": {},
   "outputs": [],
   "source": [
    "big_df = pd.DataFrame(sample_values, index = zipped_index, columns = [\"Age\",\"Salary\"])"
   ]
  },
  {
   "cell_type": "code",
   "execution_count": 112,
   "id": "a097662f-858c-46e5-bc17-3e2fb547072c",
   "metadata": {},
   "outputs": [
    {
     "data": {
      "text/html": [
       "<div>\n",
       "<style scoped>\n",
       "    .dataframe tbody tr th:only-of-type {\n",
       "        vertical-align: middle;\n",
       "    }\n",
       "\n",
       "    .dataframe tbody tr th {\n",
       "        vertical-align: top;\n",
       "    }\n",
       "\n",
       "    .dataframe thead th {\n",
       "        text-align: right;\n",
       "    }\n",
       "</style>\n",
       "<table border=\"1\" class=\"dataframe\">\n",
       "  <thead>\n",
       "    <tr style=\"text-align: right;\">\n",
       "      <th></th>\n",
       "      <th></th>\n",
       "      <th>Age</th>\n",
       "      <th>Salary</th>\n",
       "    </tr>\n",
       "  </thead>\n",
       "  <tbody>\n",
       "    <tr>\n",
       "      <th rowspan=\"3\" valign=\"top\">Simpson</th>\n",
       "      <th>Bart</th>\n",
       "      <td>1.0</td>\n",
       "      <td>1.0</td>\n",
       "    </tr>\n",
       "    <tr>\n",
       "      <th>Homer</th>\n",
       "      <td>1.0</td>\n",
       "      <td>1.0</td>\n",
       "    </tr>\n",
       "    <tr>\n",
       "      <th>Cart</th>\n",
       "      <td>1.0</td>\n",
       "      <td>1.0</td>\n",
       "    </tr>\n",
       "    <tr>\n",
       "      <th rowspan=\"2\" valign=\"top\">SouthPark</th>\n",
       "      <th>Mergment</th>\n",
       "      <td>1.0</td>\n",
       "      <td>1.0</td>\n",
       "    </tr>\n",
       "    <tr>\n",
       "      <th>Cyle</th>\n",
       "      <td>1.0</td>\n",
       "      <td>1.0</td>\n",
       "    </tr>\n",
       "  </tbody>\n",
       "</table>\n",
       "</div>"
      ],
      "text/plain": [
       "                    Age  Salary\n",
       "Simpson   Bart      1.0     1.0\n",
       "          Homer     1.0     1.0\n",
       "          Cart      1.0     1.0\n",
       "SouthPark Mergment  1.0     1.0\n",
       "          Cyle      1.0     1.0"
      ]
     },
     "execution_count": 112,
     "metadata": {},
     "output_type": "execute_result"
    }
   ],
   "source": [
    "big_df"
   ]
  },
  {
   "cell_type": "code",
   "execution_count": 121,
   "id": "c0d0be42-5f12-466a-803a-5f7cbdaa467c",
   "metadata": {},
   "outputs": [
    {
     "data": {
      "text/plain": [
       "Age       1.0\n",
       "Salary    1.0\n",
       "Name: Cart, dtype: float64"
      ]
     },
     "execution_count": 121,
     "metadata": {},
     "output_type": "execute_result"
    }
   ],
   "source": [
    "big_df.loc[\"Simpson\"].loc[\"Cart\"]"
   ]
  },
  {
   "cell_type": "code",
   "execution_count": null,
   "id": "12ac1765-65e5-4b64-a516-22106cae14bc",
   "metadata": {},
   "outputs": [],
   "source": []
  }
 ],
 "metadata": {
  "kernelspec": {
   "display_name": "Python [conda env:base] *",
   "language": "python",
   "name": "conda-base-py"
  },
  "language_info": {
   "codemirror_mode": {
    "name": "ipython",
    "version": 3
   },
   "file_extension": ".py",
   "mimetype": "text/x-python",
   "name": "python",
   "nbconvert_exporter": "python",
   "pygments_lexer": "ipython3",
   "version": "3.13.5"
  }
 },
 "nbformat": 4,
 "nbformat_minor": 5
}
