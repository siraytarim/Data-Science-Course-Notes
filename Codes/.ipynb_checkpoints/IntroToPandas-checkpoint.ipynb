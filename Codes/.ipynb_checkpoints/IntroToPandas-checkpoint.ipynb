{
 "cells": [
  {
   "cell_type": "code",
   "execution_count": 1,
   "id": "d2a9cd8c-d0fb-40c4-86c3-d97ea66c4188",
   "metadata": {},
   "outputs": [],
   "source": [
    "import numpy as np"
   ]
  },
  {
   "cell_type": "code",
   "execution_count": 2,
   "id": "23301eda-b5c0-4634-9adc-9d2a1e1a2203",
   "metadata": {},
   "outputs": [],
   "source": [
    "import pandas as pd"
   ]
  },
  {
   "cell_type": "code",
   "execution_count": 3,
   "id": "e0a7ddf4-8856-4868-af22-89351ef9b718",
   "metadata": {},
   "outputs": [],
   "source": [
    "grades = {\"Sıray\": 99, \"Sude\": 68,\"Talha\":98}"
   ]
  },
  {
   "cell_type": "code",
   "execution_count": null,
   "id": "ed5d9f4e-e302-44a3-ba7e-74374516b852",
   "metadata": {},
   "outputs": [],
   "source": [
    "# Series = one dimensional labeled array holding data of any type"
   ]
  },
  {
   "cell_type": "code",
   "execution_count": 5,
   "id": "3f84f9f5-5e3f-4dff-8ca2-db96fe74edde",
   "metadata": {},
   "outputs": [
    {
     "data": {
      "text/plain": [
       "Sıray    99\n",
       "Sude     68\n",
       "Talha    98\n",
       "dtype: int64"
      ]
     },
     "execution_count": 5,
     "metadata": {},
     "output_type": "execute_result"
    }
   ],
   "source": [
    "pd.Series(grades)"
   ]
  },
  {
   "cell_type": "code",
   "execution_count": 9,
   "id": "5a89a510-8c47-4cd2-ad3b-52dd6793a299",
   "metadata": {},
   "outputs": [],
   "source": [
    "names = [\"Sıray\",\"Sude\",\"Talha\"]\n",
    "grades = [99,68,98]"
   ]
  },
  {
   "cell_type": "code",
   "execution_count": 8,
   "id": "7aff81af-89ea-4f5e-ba6f-8c5c4951a08c",
   "metadata": {},
   "outputs": [
    {
     "data": {
      "text/plain": [
       "0    Sıray\n",
       "1     Sude\n",
       "2    Talha\n",
       "dtype: object"
      ]
     },
     "execution_count": 8,
     "metadata": {},
     "output_type": "execute_result"
    }
   ],
   "source": [
    "pd.Series(names)"
   ]
  },
  {
   "cell_type": "code",
   "execution_count": 10,
   "id": "c3c3899c-7887-48c3-95dc-499e3c82f1d9",
   "metadata": {},
   "outputs": [
    {
     "data": {
      "text/plain": [
       "0    99\n",
       "1    68\n",
       "2    98\n",
       "dtype: int64"
      ]
     },
     "execution_count": 10,
     "metadata": {},
     "output_type": "execute_result"
    }
   ],
   "source": [
    "pd.Series(grades)"
   ]
  },
  {
   "cell_type": "code",
   "execution_count": 11,
   "id": "de8d15e4-fa41-4f58-a59e-a6b64d243504",
   "metadata": {},
   "outputs": [],
   "source": [
    "contest_result = pd.Series(data= [20,40,10], index = [\"Sıroş\",\"Paylö\",\"Yuyuyu\"])"
   ]
  },
  {
   "cell_type": "code",
   "execution_count": 12,
   "id": "d19244a9-da1d-455e-9635-36d1342fe493",
   "metadata": {},
   "outputs": [
    {
     "data": {
      "text/plain": [
       "np.int64(20)"
      ]
     },
     "execution_count": 12,
     "metadata": {},
     "output_type": "execute_result"
    }
   ],
   "source": [
    "contest_result[\"Sıroş\"]"
   ]
  },
  {
   "cell_type": "code",
   "execution_count": 14,
   "id": "bceea5da-fff6-4640-b83d-b69eb25d2013",
   "metadata": {},
   "outputs": [
    {
     "data": {
      "text/plain": [
       "Sıroş     20\n",
       "Paylö     40\n",
       "Yuyuyu    10\n",
       "dtype: int64"
      ]
     },
     "execution_count": 14,
     "metadata": {},
     "output_type": "execute_result"
    }
   ],
   "source": [
    "contest_result"
   ]
  },
  {
   "cell_type": "code",
   "execution_count": 15,
   "id": "0fa3d9bb-00b1-4b9f-896f-162674a04f0f",
   "metadata": {},
   "outputs": [],
   "source": [
    "different_series = pd.Series([2,4,60,5], [\"a\",\"b\",\"c\",\"d\"])"
   ]
  },
  {
   "cell_type": "code",
   "execution_count": 16,
   "id": "e1c33b96-fde0-49ab-85da-e256c7def51c",
   "metadata": {},
   "outputs": [],
   "source": [
    "different_series2 = pd.Series([20,2,10,5], [\"a\",\"d\",\"s\",\"f\"])"
   ]
  },
  {
   "cell_type": "code",
   "execution_count": 17,
   "id": "f0891487-2576-46f4-9fbd-513db9a0de37",
   "metadata": {},
   "outputs": [
    {
     "data": {
      "text/plain": [
       "a    22.0\n",
       "b     NaN\n",
       "c     NaN\n",
       "d     7.0\n",
       "f     NaN\n",
       "s     NaN\n",
       "dtype: float64"
      ]
     },
     "execution_count": 17,
     "metadata": {},
     "output_type": "execute_result"
    }
   ],
   "source": [
    "different_series + different_series2"
   ]
  },
  {
   "cell_type": "code",
   "execution_count": null,
   "id": "122a8220-d8e5-4ac0-891f-bc7c20ca0318",
   "metadata": {},
   "outputs": [],
   "source": []
  }
 ],
 "metadata": {
  "kernelspec": {
   "display_name": "Python [conda env:base] *",
   "language": "python",
   "name": "conda-base-py"
  },
  "language_info": {
   "codemirror_mode": {
    "name": "ipython",
    "version": 3
   },
   "file_extension": ".py",
   "mimetype": "text/x-python",
   "name": "python",
   "nbconvert_exporter": "python",
   "pygments_lexer": "ipython3",
   "version": "3.13.5"
  }
 },
 "nbformat": 4,
 "nbformat_minor": 5
}
