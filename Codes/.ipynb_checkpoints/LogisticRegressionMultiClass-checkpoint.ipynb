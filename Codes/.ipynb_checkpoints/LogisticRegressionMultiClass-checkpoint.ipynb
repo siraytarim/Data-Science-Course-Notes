{
 "cells": [
  {
   "cell_type": "code",
   "execution_count": 1,
   "id": "e318eb9f-a031-4e5c-a93e-2a15d3dedf3d",
   "metadata": {},
   "outputs": [],
   "source": [
    "import pandas as pd\n",
    "import numpy as np\n",
    "import matplotlib.pyplot as plt\n",
    "import seaborn as sns\n",
    "%matplotlib inline"
   ]
  },
  {
   "cell_type": "code",
   "execution_count": 2,
   "id": "b8379c0b-d6e6-46a5-bf8b-0180d30691b2",
   "metadata": {},
   "outputs": [],
   "source": [
    "df = pd.read_csv(\"7-cyber_attack_data.csv\")"
   ]
  },
  {
   "cell_type": "code",
   "execution_count": 3,
   "id": "6b7bdc6c-96db-4a3d-bac5-68691d4d9e4b",
   "metadata": {},
   "outputs": [
    {
     "data": {
      "text/html": [
       "<div>\n",
       "<style scoped>\n",
       "    .dataframe tbody tr th:only-of-type {\n",
       "        vertical-align: middle;\n",
       "    }\n",
       "\n",
       "    .dataframe tbody tr th {\n",
       "        vertical-align: top;\n",
       "    }\n",
       "\n",
       "    .dataframe thead th {\n",
       "        text-align: right;\n",
       "    }\n",
       "</style>\n",
       "<table border=\"1\" class=\"dataframe\">\n",
       "  <thead>\n",
       "    <tr style=\"text-align: right;\">\n",
       "      <th></th>\n",
       "      <th>src_packet_rate</th>\n",
       "      <th>dst_packet_rate</th>\n",
       "      <th>avg_payload_size</th>\n",
       "      <th>connection_duration</th>\n",
       "      <th>tcp_flag_count</th>\n",
       "      <th>avg_interarrival_time</th>\n",
       "      <th>failed_login_attempts</th>\n",
       "      <th>unusual_port_activity_score</th>\n",
       "      <th>session_entropy</th>\n",
       "      <th>avg_response_delay</th>\n",
       "      <th>attack_type</th>\n",
       "    </tr>\n",
       "  </thead>\n",
       "  <tbody>\n",
       "    <tr>\n",
       "      <th>0</th>\n",
       "      <td>-1.286132</td>\n",
       "      <td>-0.648334</td>\n",
       "      <td>1.044115</td>\n",
       "      <td>-0.469715</td>\n",
       "      <td>0.789859</td>\n",
       "      <td>-0.083727</td>\n",
       "      <td>-1.647309</td>\n",
       "      <td>-1.316412</td>\n",
       "      <td>1.011910</td>\n",
       "      <td>-0.898063</td>\n",
       "      <td>2</td>\n",
       "    </tr>\n",
       "    <tr>\n",
       "      <th>1</th>\n",
       "      <td>-0.222224</td>\n",
       "      <td>2.083232</td>\n",
       "      <td>1.191114</td>\n",
       "      <td>-1.354527</td>\n",
       "      <td>-0.956992</td>\n",
       "      <td>1.696028</td>\n",
       "      <td>-1.070406</td>\n",
       "      <td>0.981403</td>\n",
       "      <td>-1.628798</td>\n",
       "      <td>1.377594</td>\n",
       "      <td>0</td>\n",
       "    </tr>\n",
       "    <tr>\n",
       "      <th>2</th>\n",
       "      <td>-0.431963</td>\n",
       "      <td>0.375745</td>\n",
       "      <td>-1.370334</td>\n",
       "      <td>0.819214</td>\n",
       "      <td>0.345243</td>\n",
       "      <td>1.389447</td>\n",
       "      <td>-1.904130</td>\n",
       "      <td>1.292602</td>\n",
       "      <td>0.925545</td>\n",
       "      <td>0.232705</td>\n",
       "      <td>0</td>\n",
       "    </tr>\n",
       "    <tr>\n",
       "      <th>3</th>\n",
       "      <td>-0.912633</td>\n",
       "      <td>0.986988</td>\n",
       "      <td>-0.690042</td>\n",
       "      <td>2.014628</td>\n",
       "      <td>-0.442260</td>\n",
       "      <td>0.590347</td>\n",
       "      <td>-1.819353</td>\n",
       "      <td>1.560938</td>\n",
       "      <td>0.823755</td>\n",
       "      <td>0.517762</td>\n",
       "      <td>0</td>\n",
       "    </tr>\n",
       "    <tr>\n",
       "      <th>4</th>\n",
       "      <td>-0.367056</td>\n",
       "      <td>1.667892</td>\n",
       "      <td>0.879172</td>\n",
       "      <td>2.214276</td>\n",
       "      <td>1.846338</td>\n",
       "      <td>-0.894047</td>\n",
       "      <td>1.543838</td>\n",
       "      <td>0.931103</td>\n",
       "      <td>-1.015210</td>\n",
       "      <td>1.061845</td>\n",
       "      <td>1</td>\n",
       "    </tr>\n",
       "  </tbody>\n",
       "</table>\n",
       "</div>"
      ],
      "text/plain": [
       "   src_packet_rate  dst_packet_rate  avg_payload_size  connection_duration  \\\n",
       "0        -1.286132        -0.648334          1.044115            -0.469715   \n",
       "1        -0.222224         2.083232          1.191114            -1.354527   \n",
       "2        -0.431963         0.375745         -1.370334             0.819214   \n",
       "3        -0.912633         0.986988         -0.690042             2.014628   \n",
       "4        -0.367056         1.667892          0.879172             2.214276   \n",
       "\n",
       "   tcp_flag_count  avg_interarrival_time  failed_login_attempts  \\\n",
       "0        0.789859              -0.083727              -1.647309   \n",
       "1       -0.956992               1.696028              -1.070406   \n",
       "2        0.345243               1.389447              -1.904130   \n",
       "3       -0.442260               0.590347              -1.819353   \n",
       "4        1.846338              -0.894047               1.543838   \n",
       "\n",
       "   unusual_port_activity_score  session_entropy  avg_response_delay  \\\n",
       "0                    -1.316412         1.011910           -0.898063   \n",
       "1                     0.981403        -1.628798            1.377594   \n",
       "2                     1.292602         0.925545            0.232705   \n",
       "3                     1.560938         0.823755            0.517762   \n",
       "4                     0.931103        -1.015210            1.061845   \n",
       "\n",
       "   attack_type  \n",
       "0            2  \n",
       "1            0  \n",
       "2            0  \n",
       "3            0  \n",
       "4            1  "
      ]
     },
     "execution_count": 3,
     "metadata": {},
     "output_type": "execute_result"
    }
   ],
   "source": [
    "df.head()"
   ]
  },
  {
   "cell_type": "code",
   "execution_count": 4,
   "id": "f4078faa-dd2f-49be-83c2-ec28c3fcf7cb",
   "metadata": {},
   "outputs": [
    {
     "data": {
      "text/plain": [
       "Index(['src_packet_rate', 'dst_packet_rate', 'avg_payload_size',\n",
       "       'connection_duration', 'tcp_flag_count', 'avg_interarrival_time',\n",
       "       'failed_login_attempts', 'unusual_port_activity_score',\n",
       "       'session_entropy', 'avg_response_delay', 'attack_type'],\n",
       "      dtype='object')"
      ]
     },
     "execution_count": 4,
     "metadata": {},
     "output_type": "execute_result"
    }
   ],
   "source": [
    "df.columns"
   ]
  },
  {
   "cell_type": "code",
   "execution_count": 5,
   "id": "ea4f440e-ae61-4d9d-b9b1-ede6c3108267",
   "metadata": {},
   "outputs": [
    {
     "name": "stdout",
     "output_type": "stream",
     "text": [
      "<class 'pandas.core.frame.DataFrame'>\n",
      "RangeIndex: 1000 entries, 0 to 999\n",
      "Data columns (total 11 columns):\n",
      " #   Column                       Non-Null Count  Dtype  \n",
      "---  ------                       --------------  -----  \n",
      " 0   src_packet_rate              1000 non-null   float64\n",
      " 1   dst_packet_rate              1000 non-null   float64\n",
      " 2   avg_payload_size             1000 non-null   float64\n",
      " 3   connection_duration          1000 non-null   float64\n",
      " 4   tcp_flag_count               1000 non-null   float64\n",
      " 5   avg_interarrival_time        1000 non-null   float64\n",
      " 6   failed_login_attempts        1000 non-null   float64\n",
      " 7   unusual_port_activity_score  1000 non-null   float64\n",
      " 8   session_entropy              1000 non-null   float64\n",
      " 9   avg_response_delay           1000 non-null   float64\n",
      " 10  attack_type                  1000 non-null   int64  \n",
      "dtypes: float64(10), int64(1)\n",
      "memory usage: 86.1 KB\n"
     ]
    }
   ],
   "source": [
    "df.info()"
   ]
  },
  {
   "cell_type": "code",
   "execution_count": 6,
   "id": "278138bf-6e6c-427c-820d-fbf65a77f825",
   "metadata": {},
   "outputs": [
    {
     "data": {
      "text/html": [
       "<div>\n",
       "<style scoped>\n",
       "    .dataframe tbody tr th:only-of-type {\n",
       "        vertical-align: middle;\n",
       "    }\n",
       "\n",
       "    .dataframe tbody tr th {\n",
       "        vertical-align: top;\n",
       "    }\n",
       "\n",
       "    .dataframe thead th {\n",
       "        text-align: right;\n",
       "    }\n",
       "</style>\n",
       "<table border=\"1\" class=\"dataframe\">\n",
       "  <thead>\n",
       "    <tr style=\"text-align: right;\">\n",
       "      <th></th>\n",
       "      <th>src_packet_rate</th>\n",
       "      <th>dst_packet_rate</th>\n",
       "      <th>avg_payload_size</th>\n",
       "      <th>connection_duration</th>\n",
       "      <th>tcp_flag_count</th>\n",
       "      <th>avg_interarrival_time</th>\n",
       "      <th>failed_login_attempts</th>\n",
       "      <th>unusual_port_activity_score</th>\n",
       "      <th>session_entropy</th>\n",
       "      <th>avg_response_delay</th>\n",
       "      <th>attack_type</th>\n",
       "    </tr>\n",
       "  </thead>\n",
       "  <tbody>\n",
       "    <tr>\n",
       "      <th>count</th>\n",
       "      <td>1000.000000</td>\n",
       "      <td>1000.000000</td>\n",
       "      <td>1000.000000</td>\n",
       "      <td>1000.000000</td>\n",
       "      <td>1000.000000</td>\n",
       "      <td>1000.000000</td>\n",
       "      <td>1000.000000</td>\n",
       "      <td>1000.000000</td>\n",
       "      <td>1000.000000</td>\n",
       "      <td>1000.000000</td>\n",
       "      <td>1000.000000</td>\n",
       "    </tr>\n",
       "    <tr>\n",
       "      <th>mean</th>\n",
       "      <td>-0.012296</td>\n",
       "      <td>0.239737</td>\n",
       "      <td>-0.031142</td>\n",
       "      <td>0.013329</td>\n",
       "      <td>0.008900</td>\n",
       "      <td>0.016681</td>\n",
       "      <td>0.026614</td>\n",
       "      <td>0.315347</td>\n",
       "      <td>-0.045636</td>\n",
       "      <td>0.179530</td>\n",
       "      <td>1.003000</td>\n",
       "    </tr>\n",
       "    <tr>\n",
       "      <th>std</th>\n",
       "      <td>1.406123</td>\n",
       "      <td>1.635646</td>\n",
       "      <td>0.989677</td>\n",
       "      <td>1.001178</td>\n",
       "      <td>1.000905</td>\n",
       "      <td>1.027824</td>\n",
       "      <td>1.022217</td>\n",
       "      <td>1.364824</td>\n",
       "      <td>1.472316</td>\n",
       "      <td>0.960834</td>\n",
       "      <td>0.817104</td>\n",
       "    </tr>\n",
       "    <tr>\n",
       "      <th>min</th>\n",
       "      <td>-4.267039</td>\n",
       "      <td>-7.960328</td>\n",
       "      <td>-3.718638</td>\n",
       "      <td>-3.250031</td>\n",
       "      <td>-3.288725</td>\n",
       "      <td>-3.178790</td>\n",
       "      <td>-3.057529</td>\n",
       "      <td>-4.045045</td>\n",
       "      <td>-5.869039</td>\n",
       "      <td>-4.409592</td>\n",
       "      <td>0.000000</td>\n",
       "    </tr>\n",
       "    <tr>\n",
       "      <th>25%</th>\n",
       "      <td>-1.007421</td>\n",
       "      <td>-0.871250</td>\n",
       "      <td>-0.657668</td>\n",
       "      <td>-0.672964</td>\n",
       "      <td>-0.654218</td>\n",
       "      <td>-0.697799</td>\n",
       "      <td>-0.653787</td>\n",
       "      <td>-0.712015</td>\n",
       "      <td>-1.074499</td>\n",
       "      <td>-0.591831</td>\n",
       "      <td>0.000000</td>\n",
       "    </tr>\n",
       "    <tr>\n",
       "      <th>50%</th>\n",
       "      <td>0.085888</td>\n",
       "      <td>0.296278</td>\n",
       "      <td>-0.008968</td>\n",
       "      <td>0.045505</td>\n",
       "      <td>-0.032894</td>\n",
       "      <td>0.014639</td>\n",
       "      <td>0.049283</td>\n",
       "      <td>0.567003</td>\n",
       "      <td>0.121580</td>\n",
       "      <td>0.248920</td>\n",
       "      <td>1.000000</td>\n",
       "    </tr>\n",
       "    <tr>\n",
       "      <th>75%</th>\n",
       "      <td>1.080743</td>\n",
       "      <td>1.518676</td>\n",
       "      <td>0.615381</td>\n",
       "      <td>0.678219</td>\n",
       "      <td>0.687831</td>\n",
       "      <td>0.703139</td>\n",
       "      <td>0.713809</td>\n",
       "      <td>1.235890</td>\n",
       "      <td>1.013049</td>\n",
       "      <td>0.983239</td>\n",
       "      <td>2.000000</td>\n",
       "    </tr>\n",
       "    <tr>\n",
       "      <th>max</th>\n",
       "      <td>3.874738</td>\n",
       "      <td>7.168331</td>\n",
       "      <td>3.206344</td>\n",
       "      <td>2.741943</td>\n",
       "      <td>3.477044</td>\n",
       "      <td>3.600187</td>\n",
       "      <td>3.357941</td>\n",
       "      <td>4.020627</td>\n",
       "      <td>4.986178</td>\n",
       "      <td>4.112542</td>\n",
       "      <td>2.000000</td>\n",
       "    </tr>\n",
       "  </tbody>\n",
       "</table>\n",
       "</div>"
      ],
      "text/plain": [
       "       src_packet_rate  dst_packet_rate  avg_payload_size  \\\n",
       "count      1000.000000      1000.000000       1000.000000   \n",
       "mean         -0.012296         0.239737         -0.031142   \n",
       "std           1.406123         1.635646          0.989677   \n",
       "min          -4.267039        -7.960328         -3.718638   \n",
       "25%          -1.007421        -0.871250         -0.657668   \n",
       "50%           0.085888         0.296278         -0.008968   \n",
       "75%           1.080743         1.518676          0.615381   \n",
       "max           3.874738         7.168331          3.206344   \n",
       "\n",
       "       connection_duration  tcp_flag_count  avg_interarrival_time  \\\n",
       "count          1000.000000     1000.000000            1000.000000   \n",
       "mean              0.013329        0.008900               0.016681   \n",
       "std               1.001178        1.000905               1.027824   \n",
       "min              -3.250031       -3.288725              -3.178790   \n",
       "25%              -0.672964       -0.654218              -0.697799   \n",
       "50%               0.045505       -0.032894               0.014639   \n",
       "75%               0.678219        0.687831               0.703139   \n",
       "max               2.741943        3.477044               3.600187   \n",
       "\n",
       "       failed_login_attempts  unusual_port_activity_score  session_entropy  \\\n",
       "count            1000.000000                  1000.000000      1000.000000   \n",
       "mean                0.026614                     0.315347        -0.045636   \n",
       "std                 1.022217                     1.364824         1.472316   \n",
       "min                -3.057529                    -4.045045        -5.869039   \n",
       "25%                -0.653787                    -0.712015        -1.074499   \n",
       "50%                 0.049283                     0.567003         0.121580   \n",
       "75%                 0.713809                     1.235890         1.013049   \n",
       "max                 3.357941                     4.020627         4.986178   \n",
       "\n",
       "       avg_response_delay  attack_type  \n",
       "count         1000.000000  1000.000000  \n",
       "mean             0.179530     1.003000  \n",
       "std              0.960834     0.817104  \n",
       "min             -4.409592     0.000000  \n",
       "25%             -0.591831     0.000000  \n",
       "50%              0.248920     1.000000  \n",
       "75%              0.983239     2.000000  \n",
       "max              4.112542     2.000000  "
      ]
     },
     "execution_count": 6,
     "metadata": {},
     "output_type": "execute_result"
    }
   ],
   "source": [
    "df.describe()"
   ]
  },
  {
   "cell_type": "code",
   "execution_count": 8,
   "id": "ef14d4ce-7942-412f-8a0b-b670c8cb1e7d",
   "metadata": {},
   "outputs": [],
   "source": [
    "X = df.drop(\"attack_type\", axis = 1)\n",
    "y = df[\"attack_type\"]"
   ]
  },
  {
   "cell_type": "code",
   "execution_count": 21,
   "id": "f3fea32a-851e-483a-8cda-e4a8cdf7f123",
   "metadata": {},
   "outputs": [],
   "source": [
    "from sklearn.model_selection import train_test_split\n",
    "X_train,X_test,y_train,y_test = train_test_split(X,y,test_size = 0.3, random_state=15)"
   ]
  },
  {
   "cell_type": "code",
   "execution_count": 22,
   "id": "759e3484-699c-46dd-a851-e0020b9f0084",
   "metadata": {},
   "outputs": [],
   "source": [
    "from sklearn.linear_model import LogisticRegression\n",
    "model = LogisticRegression()\n",
    "model.fit(X_train,y_train)\n",
    "y_pred = model.predict(X_test)"
   ]
  },
  {
   "cell_type": "code",
   "execution_count": 23,
   "id": "44d17fe2-4059-40b2-b161-836be6ff301a",
   "metadata": {},
   "outputs": [
    {
     "data": {
      "text/plain": [
       "array([2, 0, 0, 0, 2, 0, 1, 1, 2, 0, 2, 1, 2, 1, 0, 0, 2, 2, 0, 2, 0, 0,\n",
       "       0, 1, 1, 1, 1, 2, 2, 2, 1, 0, 2, 2, 2, 2, 1, 2, 1, 0, 2, 1, 0, 2,\n",
       "       1, 1, 2, 0, 0, 0, 2, 0, 1, 2, 0, 2, 1, 2, 2, 1, 0, 0, 0, 2, 1, 2,\n",
       "       1, 0, 2, 0, 2, 0, 2, 1, 2, 0, 2, 1, 1, 2, 1, 0, 1, 2, 2, 0, 2, 2,\n",
       "       1, 0, 1, 0, 0, 0, 1, 1, 2, 1, 1, 0, 1, 1, 1, 2, 1, 1, 1, 0, 0, 1,\n",
       "       2, 1, 2, 1, 0, 1, 2, 0, 0, 1, 0, 0, 2, 1, 0, 1, 0, 2, 2, 1, 0, 2,\n",
       "       2, 2, 1, 2, 0, 2, 0, 2, 1, 0, 2, 0, 2, 2, 0, 1, 1, 2, 1, 2, 1, 1,\n",
       "       0, 0, 1, 1, 1, 2, 2, 0, 0, 2, 2, 1, 2, 1, 1, 1, 0, 0, 1, 0, 1, 2,\n",
       "       0, 2, 2, 0, 2, 1, 1, 1, 2, 1, 0, 1, 0, 1, 1, 2, 0, 2, 1, 2, 1, 0,\n",
       "       1, 2, 0, 2, 1, 0, 1, 0, 2, 1, 0, 1, 2, 0, 0, 0, 0, 0, 0, 1, 2, 0,\n",
       "       2, 0, 2, 1, 2, 1, 0, 0, 1, 1, 2, 1, 0, 2, 1, 0, 2, 1, 1, 2, 2, 1,\n",
       "       1, 2, 2, 1, 2, 2, 2, 2, 0, 2, 2, 2, 0, 2, 0, 0, 1, 2, 1, 1, 2, 0,\n",
       "       2, 0, 1, 0, 1, 2, 2, 1, 2, 2, 2, 2, 0, 2, 1, 0, 0, 0, 2, 1, 2, 2,\n",
       "       2, 1, 0, 0, 2, 1, 2, 2, 1, 2, 1, 2, 1, 2])"
      ]
     },
     "execution_count": 23,
     "metadata": {},
     "output_type": "execute_result"
    }
   ],
   "source": [
    "y_pred"
   ]
  },
  {
   "cell_type": "code",
   "execution_count": 24,
   "id": "8ac638da-954c-45f4-8a62-49a00f4004c2",
   "metadata": {},
   "outputs": [],
   "source": [
    "from sklearn.metrics import accuracy_score, confusion_matrix, classification_report"
   ]
  },
  {
   "cell_type": "code",
   "execution_count": 25,
   "id": "a6691407-e5b8-470f-8950-57d6f8b1abe4",
   "metadata": {},
   "outputs": [
    {
     "name": "stdout",
     "output_type": "stream",
     "text": [
      "score:  0.7866666666666666\n",
      "              precision    recall  f1-score   support\n",
      "\n",
      "           0       0.78      0.91      0.84        90\n",
      "           1       0.74      0.73      0.73        99\n",
      "           2       0.84      0.74      0.78       111\n",
      "\n",
      "    accuracy                           0.79       300\n",
      "   macro avg       0.79      0.79      0.79       300\n",
      "weighted avg       0.79      0.79      0.79       300\n",
      "\n",
      "confusion_matrix: \n",
      "  [[82  2  6]\n",
      " [17 72 10]\n",
      " [ 6 23 82]]\n"
     ]
    }
   ],
   "source": [
    "score = accuracy_score(y_pred, y_test)\n",
    "print(\"score: \", score)\n",
    "print(classification_report(y_pred, y_test))\n",
    "print(\"confusion_matrix: \\n \", confusion_matrix(y_pred, y_test))"
   ]
  },
  {
   "cell_type": "code",
   "execution_count": 27,
   "id": "3ab50ef9-61bb-47d8-b071-5de1351d8243",
   "metadata": {},
   "outputs": [],
   "source": [
    "# one vs rest"
   ]
  },
  {
   "cell_type": "code",
   "execution_count": 26,
   "id": "6946df68-cbf0-450c-9855-cfbaccce7170",
   "metadata": {},
   "outputs": [],
   "source": [
    "from sklearn.multiclass import OneVsOneClassifier, OneVsRestClassifier"
   ]
  },
  {
   "cell_type": "code",
   "execution_count": 29,
   "id": "57b1dcf7-f356-444b-852c-f5641a659553",
   "metadata": {},
   "outputs": [],
   "source": [
    "onevsonemodel = OneVsOneClassifier(LogisticRegression())"
   ]
  },
  {
   "cell_type": "code",
   "execution_count": 30,
   "id": "a46cf74b-c778-4ad1-a4f4-da5675ff9d53",
   "metadata": {},
   "outputs": [],
   "source": [
    "onevsrestmodel = OneVsRestClassifier(LogisticRegression())"
   ]
  },
  {
   "cell_type": "code",
   "execution_count": 31,
   "id": "a8d9c8ee-8123-4175-a097-0e14d39c51e4",
   "metadata": {},
   "outputs": [
    {
     "name": "stdout",
     "output_type": "stream",
     "text": [
      "score:  0.7966666666666666\n",
      "              precision    recall  f1-score   support\n",
      "\n",
      "           0       0.80      0.92      0.86        91\n",
      "           1       0.74      0.76      0.75        95\n",
      "           2       0.85      0.73      0.78       114\n",
      "\n",
      "    accuracy                           0.80       300\n",
      "   macro avg       0.80      0.80      0.80       300\n",
      "weighted avg       0.80      0.80      0.80       300\n",
      "\n",
      "confusion_matrix: \n",
      "  [[84  3  4]\n",
      " [12 72 11]\n",
      " [ 9 22 83]]\n"
     ]
    }
   ],
   "source": [
    "onevsonemodel.fit(X_train, y_train)\n",
    "y_pred = onevsonemodel.predict(X_test)\n",
    "score = accuracy_score(y_pred, y_test)\n",
    "print(\"score: \", score)\n",
    "print(classification_report(y_pred, y_test))\n",
    "print(\"confusion_matrix: \\n \", confusion_matrix(y_pred, y_test))"
   ]
  },
  {
   "cell_type": "code",
   "execution_count": 33,
   "id": "fc6ad843-1d50-4e60-8a5f-d5e9468a9f3b",
   "metadata": {},
   "outputs": [
    {
     "name": "stdout",
     "output_type": "stream",
     "text": [
      "score:  0.7833333333333333\n",
      "              precision    recall  f1-score   support\n",
      "\n",
      "           0       0.79      0.91      0.85        91\n",
      "           1       0.71      0.73      0.72        94\n",
      "           2       0.85      0.72      0.78       115\n",
      "\n",
      "    accuracy                           0.78       300\n",
      "   macro avg       0.78      0.79      0.78       300\n",
      "weighted avg       0.79      0.78      0.78       300\n",
      "\n",
      "confusion_matrix: \n",
      "  [[83  2  6]\n",
      " [16 69  9]\n",
      " [ 6 26 83]]\n"
     ]
    }
   ],
   "source": [
    "onevsrestmodel.fit(X_train, y_train)\n",
    "y_pred = onevsrestmodel.predict(X_test)\n",
    "score = accuracy_score(y_pred, y_test)\n",
    "print(\"score: \", score)\n",
    "print(classification_report(y_pred, y_test))\n",
    "print(\"confusion_matrix: \\n \", confusion_matrix(y_pred, y_test))"
   ]
  },
  {
   "cell_type": "code",
   "execution_count": null,
   "id": "03b9dbc2-c645-46e0-a31b-326f9aaa7ac4",
   "metadata": {},
   "outputs": [],
   "source": []
  }
 ],
 "metadata": {
  "kernelspec": {
   "display_name": "Python [conda env:base] *",
   "language": "python",
   "name": "conda-base-py"
  },
  "language_info": {
   "codemirror_mode": {
    "name": "ipython",
    "version": 3
   },
   "file_extension": ".py",
   "mimetype": "text/x-python",
   "name": "python",
   "nbconvert_exporter": "python",
   "pygments_lexer": "ipython3",
   "version": "3.13.5"
  }
 },
 "nbformat": 4,
 "nbformat_minor": 5
}
