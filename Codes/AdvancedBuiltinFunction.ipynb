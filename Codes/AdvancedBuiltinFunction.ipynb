{
 "cells": [
  {
   "cell_type": "code",
   "execution_count": 2,
   "id": "fafadd64-4332-489a-b363-f1c14085832a",
   "metadata": {},
   "outputs": [],
   "source": [
    "#range"
   ]
  },
  {
   "cell_type": "code",
   "execution_count": 3,
   "id": "d4bf347b-9730-4f69-b318-06b66ff842a5",
   "metadata": {},
   "outputs": [
    {
     "data": {
      "text/plain": [
       "range(0, 50)"
      ]
     },
     "execution_count": 3,
     "metadata": {},
     "output_type": "execute_result"
    }
   ],
   "source": [
    "range(50)"
   ]
  },
  {
   "cell_type": "code",
   "execution_count": 28,
   "id": "4498b402-aa54-4362-9361-c28acf270a85",
   "metadata": {},
   "outputs": [],
   "source": [
    "myList = list(range(10,30))"
   ]
  },
  {
   "cell_type": "code",
   "execution_count": 6,
   "id": "f4a36061-6f69-4039-a147-dc6e5e1cdd9e",
   "metadata": {},
   "outputs": [
    {
     "name": "stdout",
     "output_type": "stream",
     "text": [
      "11\n",
      "22\n",
      "33\n",
      "44\n",
      "55\n",
      "66\n",
      "77\n",
      "88\n",
      "99\n"
     ]
    }
   ],
   "source": [
    "for num in list(range(10,101)):\n",
    "    if num %11 == 0:\n",
    "        print(num)"
   ]
  },
  {
   "cell_type": "code",
   "execution_count": 7,
   "id": "203bcd4c-a1ec-4403-8c60-0405d0eb6131",
   "metadata": {},
   "outputs": [],
   "source": [
    "#enumerate"
   ]
  },
  {
   "cell_type": "code",
   "execution_count": 11,
   "id": "15c2af8e-7d8b-40db-acf9-a26a29f87677",
   "metadata": {
    "collapsed": true,
    "jupyter": {
     "outputs_hidden": true
    }
   },
   "outputs": [
    {
     "name": "stdout",
     "output_type": "stream",
     "text": [
      "(0, 10)\n",
      "(1, 11)\n",
      "(2, 12)\n",
      "(3, 13)\n",
      "(4, 14)\n",
      "(5, 15)\n",
      "(6, 16)\n",
      "(7, 17)\n",
      "(8, 18)\n",
      "(9, 19)\n",
      "(10, 20)\n",
      "(11, 21)\n",
      "(12, 22)\n",
      "(13, 23)\n",
      "(14, 24)\n",
      "(15, 25)\n",
      "(16, 26)\n",
      "(17, 27)\n",
      "(18, 28)\n",
      "(19, 29)\n",
      "(20, 30)\n",
      "(21, 31)\n",
      "(22, 32)\n",
      "(23, 33)\n",
      "(24, 34)\n",
      "(25, 35)\n",
      "(26, 36)\n",
      "(27, 37)\n",
      "(28, 38)\n",
      "(29, 39)\n",
      "(30, 40)\n",
      "(31, 41)\n",
      "(32, 42)\n",
      "(33, 43)\n",
      "(34, 44)\n",
      "(35, 45)\n",
      "(36, 46)\n",
      "(37, 47)\n",
      "(38, 48)\n",
      "(39, 49)\n",
      "(40, 50)\n",
      "(41, 51)\n",
      "(42, 52)\n",
      "(43, 53)\n",
      "(44, 54)\n",
      "(45, 55)\n",
      "(46, 56)\n",
      "(47, 57)\n",
      "(48, 58)\n",
      "(49, 59)\n",
      "(50, 60)\n",
      "(51, 61)\n",
      "(52, 62)\n",
      "(53, 63)\n",
      "(54, 64)\n",
      "(55, 65)\n",
      "(56, 66)\n",
      "(57, 67)\n",
      "(58, 68)\n",
      "(59, 69)\n",
      "(60, 70)\n",
      "(61, 71)\n",
      "(62, 72)\n",
      "(63, 73)\n",
      "(64, 74)\n",
      "(65, 75)\n",
      "(66, 76)\n",
      "(67, 77)\n",
      "(68, 78)\n",
      "(69, 79)\n",
      "(70, 80)\n",
      "(71, 81)\n",
      "(72, 82)\n",
      "(73, 83)\n",
      "(74, 84)\n",
      "(75, 85)\n",
      "(76, 86)\n",
      "(77, 87)\n",
      "(78, 88)\n",
      "(79, 89)\n",
      "(80, 90)\n",
      "(81, 91)\n",
      "(82, 92)\n",
      "(83, 93)\n",
      "(84, 94)\n",
      "(85, 95)\n",
      "(86, 96)\n",
      "(87, 97)\n",
      "(88, 98)\n",
      "(89, 99)\n",
      "(90, 100)\n"
     ]
    }
   ],
   "source": [
    "for element in enumerate(myList):\n",
    "    print(element)\n",
    "    "
   ]
  },
  {
   "cell_type": "code",
   "execution_count": 12,
   "id": "4912b6fb-7a17-475b-ab26-061209b4d95e",
   "metadata": {},
   "outputs": [],
   "source": [
    "from random import randint"
   ]
  },
  {
   "cell_type": "code",
   "execution_count": 19,
   "id": "18508a8c-4239-4077-9569-1b76ae876218",
   "metadata": {},
   "outputs": [],
   "source": [
    "x = randint(5,40)"
   ]
  },
  {
   "cell_type": "code",
   "execution_count": 20,
   "id": "76151d38-02b9-4c10-92e8-6fd3bfae5101",
   "metadata": {},
   "outputs": [
    {
     "name": "stdout",
     "output_type": "stream",
     "text": [
      "7\n"
     ]
    }
   ],
   "source": [
    "print(x)"
   ]
  },
  {
   "cell_type": "code",
   "execution_count": 24,
   "id": "1ba8c5f9-6727-45d4-acc2-62cd15217946",
   "metadata": {},
   "outputs": [],
   "source": [
    "from random import shuffle"
   ]
  },
  {
   "cell_type": "code",
   "execution_count": 34,
   "id": "2597cc65-e412-410e-98bf-975f34c2849c",
   "metadata": {},
   "outputs": [],
   "source": [
    "shuffle(myList)"
   ]
  },
  {
   "cell_type": "code",
   "execution_count": 35,
   "id": "69bdcd5a-cb29-45cb-94fe-7e63a2fe1dd9",
   "metadata": {
    "collapsed": true,
    "jupyter": {
     "outputs_hidden": true
    },
    "scrolled": true
   },
   "outputs": [
    {
     "data": {
      "text/plain": [
       "[19,\n",
       " 20,\n",
       " 11,\n",
       " 22,\n",
       " 14,\n",
       " 18,\n",
       " 10,\n",
       " 23,\n",
       " 25,\n",
       " 27,\n",
       " 17,\n",
       " 26,\n",
       " 15,\n",
       " 16,\n",
       " 21,\n",
       " 24,\n",
       " 28,\n",
       " 13,\n",
       " 12,\n",
       " 29]"
      ]
     },
     "execution_count": 35,
     "metadata": {},
     "output_type": "execute_result"
    }
   ],
   "source": [
    "myList"
   ]
  },
  {
   "cell_type": "code",
   "execution_count": null,
   "id": "887baf03-61ba-4b84-8a10-2f1349154fa4",
   "metadata": {},
   "outputs": [],
   "source": [
    "#zip"
   ]
  },
  {
   "cell_type": "code",
   "execution_count": 36,
   "id": "e11e28ef-75d3-497e-abf3-b89590dc270b",
   "metadata": {},
   "outputs": [],
   "source": [
    "food_list= [\"elma\", \"banana\",\"pear\"]"
   ]
  },
  {
   "cell_type": "code",
   "execution_count": 37,
   "id": "4a118ed4-54b4-4484-89f5-a940d961c1f1",
   "metadata": {},
   "outputs": [],
   "source": [
    "calories_list= [110,120,105]"
   ]
  },
  {
   "cell_type": "code",
   "execution_count": 38,
   "id": "750d4334-162a-4482-b133-4a0c01430120",
   "metadata": {},
   "outputs": [],
   "source": [
    "days= [\"monday\",\"tuesday\",\"wednesday\"]"
   ]
  },
  {
   "cell_type": "code",
   "execution_count": 40,
   "id": "59741d21-9591-4895-83d8-638c50c92f4b",
   "metadata": {},
   "outputs": [],
   "source": [
    "zipped_list= list(zip(food_list,calories_list,days))"
   ]
  },
  {
   "cell_type": "code",
   "execution_count": 41,
   "id": "6cf22d74-c4b5-48a5-9cf0-f2d325054ba9",
   "metadata": {},
   "outputs": [
    {
     "data": {
      "text/plain": [
       "[('elma', 110, 'monday'),\n",
       " ('banana', 120, 'tuesday'),\n",
       " ('pear', 105, 'wednesday')]"
      ]
     },
     "execution_count": 41,
     "metadata": {},
     "output_type": "execute_result"
    }
   ],
   "source": [
    "zipped_list"
   ]
  },
  {
   "cell_type": "code",
   "execution_count": 42,
   "id": "dac26791-d041-4a00-9047-bbb6c615916b",
   "metadata": {},
   "outputs": [],
   "source": [
    "name = \"tubiş\""
   ]
  },
  {
   "cell_type": "code",
   "execution_count": 43,
   "id": "0703f9ee-8b1b-4997-8a84-cd1abc08b726",
   "metadata": {},
   "outputs": [],
   "source": [
    "name_list = [element for element in name]"
   ]
  },
  {
   "cell_type": "code",
   "execution_count": 44,
   "id": "467dd163-d9cb-410d-97b3-fbf7a26c86ca",
   "metadata": {},
   "outputs": [
    {
     "data": {
      "text/plain": [
       "['t', 'u', 'b', 'i', 'ş']"
      ]
     },
     "execution_count": 44,
     "metadata": {},
     "output_type": "execute_result"
    }
   ],
   "source": [
    "name_list"
   ]
  },
  {
   "cell_type": "code",
   "execution_count": null,
   "id": "5242235f-f1bb-4e66-b5f1-70171e431fe5",
   "metadata": {},
   "outputs": [],
   "source": []
  }
 ],
 "metadata": {
  "kernelspec": {
   "display_name": "Python [conda env:base] *",
   "language": "python",
   "name": "conda-base-py"
  },
  "language_info": {
   "codemirror_mode": {
    "name": "ipython",
    "version": 3
   },
   "file_extension": ".py",
   "mimetype": "text/x-python",
   "name": "python",
   "nbconvert_exporter": "python",
   "pygments_lexer": "ipython3",
   "version": "3.13.5"
  }
 },
 "nbformat": 4,
 "nbformat_minor": 5
}
