{
 "cells": [
  {
   "cell_type": "code",
   "execution_count": 35,
   "id": "2b4acff4-f43f-49fa-b70c-622c7f66fe6a",
   "metadata": {},
   "outputs": [],
   "source": [
    "## class içindeki her bir method'u tanımlarken parametre almasa bile self yazılır"
   ]
  },
  {
   "cell_type": "code",
   "execution_count": 44,
   "id": "af38aee6-eda9-4d86-aa00-d2201281af81",
   "metadata": {},
   "outputs": [],
   "source": [
    "class Person:\n",
    "    #name = \"\"\n",
    "    #age = 0\n",
    "    #gender = \"\"\n",
    "    job=\"soldier\"\n",
    "\n",
    "    # initializer method\n",
    "    def __init__(self,name,age,gender):\n",
    "        self.name=name\n",
    "        self.age= age\n",
    "        self.gender = gender\n",
    "        \n",
    "    #method\n",
    "    def test(self):\n",
    "        print(\"testing\")"
   ]
  },
  {
   "cell_type": "code",
   "execution_count": 45,
   "id": "8b3bae46-116e-4987-bc8d-c56df061797d",
   "metadata": {},
   "outputs": [],
   "source": [
    "sıray = Person(\"sıray\",22,\"kadın\")"
   ]
  },
  {
   "cell_type": "code",
   "execution_count": 46,
   "id": "434dfd91-8894-4fab-a0af-d0585dbfae5f",
   "metadata": {},
   "outputs": [
    {
     "data": {
      "text/plain": [
       "'kadın'"
      ]
     },
     "execution_count": 46,
     "metadata": {},
     "output_type": "execute_result"
    }
   ],
   "source": [
    "sıray.gender"
   ]
  },
  {
   "cell_type": "code",
   "execution_count": 43,
   "id": "7039c436-fcb2-4b42-9a66-22464501250c",
   "metadata": {},
   "outputs": [
    {
     "name": "stdout",
     "output_type": "stream",
     "text": [
      "testing\n"
     ]
    }
   ],
   "source": [
    "sıray.test()"
   ]
  },
  {
   "cell_type": "code",
   "execution_count": 47,
   "id": "e6eb03ce-d5be-4e6e-91f8-5fa5b4938481",
   "metadata": {},
   "outputs": [],
   "source": [
    "sıray.job = \"developer\""
   ]
  },
  {
   "cell_type": "code",
   "execution_count": 48,
   "id": "7c3666e7-49e2-4cd2-8e25-137ea72f002f",
   "metadata": {},
   "outputs": [
    {
     "data": {
      "text/plain": [
       "'developer'"
      ]
     },
     "execution_count": 48,
     "metadata": {},
     "output_type": "execute_result"
    }
   ],
   "source": [
    "sıray.job\n"
   ]
  },
  {
   "cell_type": "code",
   "execution_count": 69,
   "id": "151f1e20-7225-4097-b167-2da04fda5361",
   "metadata": {},
   "outputs": [],
   "source": [
    "class Dog:\n",
    "    year = 7\n",
    "    def __init__(self,age):\n",
    "        self.age = age\n",
    "        self.dogHumanAge = self.age * self.year\n",
    "\n",
    "    def humanAge(self):\n",
    "            return self.age * self.year   # Dog.year"
   ]
  },
  {
   "cell_type": "code",
   "execution_count": 70,
   "id": "e2eda4b1-0927-43e4-bb81-594cc4770101",
   "metadata": {},
   "outputs": [],
   "source": [
    "lino = Dog(6)"
   ]
  },
  {
   "cell_type": "code",
   "execution_count": 71,
   "id": "9ec44b95-170e-482a-9bcd-23abc5f42261",
   "metadata": {},
   "outputs": [
    {
     "data": {
      "text/plain": [
       "6"
      ]
     },
     "execution_count": 71,
     "metadata": {},
     "output_type": "execute_result"
    }
   ],
   "source": [
    "lino.age"
   ]
  },
  {
   "cell_type": "code",
   "execution_count": 72,
   "id": "6b0fe2f8-2583-4c81-8b34-c0ffd1b394ae",
   "metadata": {},
   "outputs": [
    {
     "data": {
      "text/plain": [
       "42"
      ]
     },
     "execution_count": 72,
     "metadata": {},
     "output_type": "execute_result"
    }
   ],
   "source": [
    "lino.humanAge()"
   ]
  },
  {
   "cell_type": "code",
   "execution_count": 73,
   "id": "eba18f55-514d-4b8a-9721-78a009bc90e9",
   "metadata": {},
   "outputs": [
    {
     "data": {
      "text/plain": [
       "42"
      ]
     },
     "execution_count": 73,
     "metadata": {},
     "output_type": "execute_result"
    }
   ],
   "source": [
    "lino.dogHumanAge\n"
   ]
  },
  {
   "cell_type": "code",
   "execution_count": null,
   "id": "682e18ff-2665-4116-9ca8-8771aeb9bb70",
   "metadata": {},
   "outputs": [],
   "source": []
  }
 ],
 "metadata": {
  "kernelspec": {
   "display_name": "Python [conda env:base] *",
   "language": "python",
   "name": "conda-base-py"
  },
  "language_info": {
   "codemirror_mode": {
    "name": "ipython",
    "version": 3
   },
   "file_extension": ".py",
   "mimetype": "text/x-python",
   "name": "python",
   "nbconvert_exporter": "python",
   "pygments_lexer": "ipython3",
   "version": "3.13.5"
  }
 },
 "nbformat": 4,
 "nbformat_minor": 5
}
