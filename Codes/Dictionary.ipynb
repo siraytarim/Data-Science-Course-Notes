{
 "cells": [
  {
   "cell_type": "code",
   "execution_count": 1,
   "id": "f1b07c8c-7106-4757-a2df-13eb843cd804",
   "metadata": {},
   "outputs": [],
   "source": [
    "food_dictionary = {\"banana\":150, \"apple\":70}"
   ]
  },
  {
   "cell_type": "code",
   "execution_count": 2,
   "id": "5f7bf934-2eb1-4cbc-9f5b-95df893c752c",
   "metadata": {},
   "outputs": [
    {
     "data": {
      "text/plain": [
       "150"
      ]
     },
     "execution_count": 2,
     "metadata": {},
     "output_type": "execute_result"
    }
   ],
   "source": [
    "food_dictionary[\"banana\"]"
   ]
  },
  {
   "cell_type": "code",
   "execution_count": 9,
   "id": "b8ad4b1a-33be-41dd-90d2-908f24b5cc25",
   "metadata": {},
   "outputs": [],
   "source": [
    "food_dictionary.update({\"banana\":120})"
   ]
  },
  {
   "cell_type": "code",
   "execution_count": 39,
   "id": "2ae94ddf-4fed-47a3-90da-1d61d6e73d4c",
   "metadata": {},
   "outputs": [
    {
     "data": {
      "text/plain": [
       "{'banana': 120, 'apple': 70}"
      ]
     },
     "execution_count": 39,
     "metadata": {},
     "output_type": "execute_result"
    }
   ],
   "source": [
    "food_dictionary"
   ]
  },
  {
   "cell_type": "code",
   "execution_count": 41,
   "id": "44a8aabb-9a94-4e8a-a238-1cea9cb2e384",
   "metadata": {},
   "outputs": [
    {
     "data": {
      "text/plain": [
       "dict_values([120, 70])"
      ]
     },
     "execution_count": 41,
     "metadata": {},
     "output_type": "execute_result"
    }
   ],
   "source": [
    "food_dictionary.values()"
   ]
  },
  {
   "cell_type": "code",
   "execution_count": 46,
   "id": "002be182-57b3-41b2-8a68-f789b6868e3f",
   "metadata": {},
   "outputs": [
    {
     "data": {
      "text/plain": [
       "dict_values"
      ]
     },
     "execution_count": 46,
     "metadata": {},
     "output_type": "execute_result"
    }
   ],
   "source": [
    "type(food_dictionary.values())"
   ]
  },
  {
   "cell_type": "code",
   "execution_count": 47,
   "id": "efecbc24-e1f7-4c1b-88e5-7f2dcc66cde5",
   "metadata": {},
   "outputs": [],
   "source": [
    "food_dictionary[\"melon\"] = 250"
   ]
  },
  {
   "cell_type": "code",
   "execution_count": 48,
   "id": "b9cf0a85-cb20-4e3f-bac3-e6dc083bcfa9",
   "metadata": {},
   "outputs": [
    {
     "data": {
      "text/plain": [
       "{'banana': 120, 'apple': 70, 'melon': 250}"
      ]
     },
     "execution_count": 48,
     "metadata": {},
     "output_type": "execute_result"
    }
   ],
   "source": [
    "food_dictionary"
   ]
  },
  {
   "cell_type": "code",
   "execution_count": 52,
   "id": "6bb49d43-d1a1-4ff6-a773-8cc71ccbdce7",
   "metadata": {},
   "outputs": [
    {
     "data": {
      "text/plain": [
       "5"
      ]
     },
     "execution_count": 52,
     "metadata": {},
     "output_type": "execute_result"
    }
   ],
   "source": [
    "food_dictionary.get(\"meln\",0)         #sözlükte yoksa 0 değerini atıyor"
   ]
  },
  {
   "cell_type": "code",
   "execution_count": 55,
   "id": "f63e481e-22d8-4691-9315-e40c239b9b41",
   "metadata": {},
   "outputs": [],
   "source": [
    "food_dictionary[\"apple\"] = 100"
   ]
  },
  {
   "cell_type": "code",
   "execution_count": 58,
   "id": "f213060b-e974-4508-8f5f-3c3b2cd9e4e3",
   "metadata": {},
   "outputs": [
    {
     "data": {
      "text/plain": [
       "{'banana': 120, 'apple': 100, 'melon': 250, 'peach': 150}"
      ]
     },
     "execution_count": 58,
     "metadata": {},
     "output_type": "execute_result"
    }
   ],
   "source": [
    "food_dictionary"
   ]
  },
  {
   "cell_type": "code",
   "execution_count": 57,
   "id": "31da3593-e9a5-49cf-ac42-bb7262487ae6",
   "metadata": {},
   "outputs": [],
   "source": [
    "food_dictionary[\"peach\"] = 150"
   ]
  },
  {
   "cell_type": "code",
   "execution_count": 69,
   "id": "c69cbf1b-7967-44cb-9e5d-83e407d96dd0",
   "metadata": {},
   "outputs": [],
   "source": [
    "my_mixed_dict = {\"key1\": 1,\"key2\":5.791,\"key3\":[1,2,3]}"
   ]
  },
  {
   "cell_type": "code",
   "execution_count": 70,
   "id": "c0463850-efd6-47e1-a7da-ae6f5bd2d158",
   "metadata": {},
   "outputs": [
    {
     "data": {
      "text/plain": [
       "[1, 2, 3]"
      ]
     },
     "execution_count": 70,
     "metadata": {},
     "output_type": "execute_result"
    }
   ],
   "source": [
    "my_mixed_dict[\"key3\"]"
   ]
  },
  {
   "cell_type": "code",
   "execution_count": 72,
   "id": "6f9d82f9-1dd7-4092-a954-cda63a03a640",
   "metadata": {},
   "outputs": [
    {
     "data": {
      "text/plain": [
       "2"
      ]
     },
     "execution_count": 72,
     "metadata": {},
     "output_type": "execute_result"
    }
   ],
   "source": [
    "my_mixed_dict[\"key3\"][1]"
   ]
  },
  {
   "cell_type": "code",
   "execution_count": 85,
   "id": "a889584d-f375-474a-83af-f7c83f756b2c",
   "metadata": {},
   "outputs": [],
   "source": [
    "last_dict= {\"str1\":1, \"str2\":[10,20,30,40], \"str3\": {\"k1\":100,\"k2\":200},\"kk2\":[40,{\"k21\":\"a\"}]}"
   ]
  },
  {
   "cell_type": "code",
   "execution_count": 86,
   "id": "9ada55c8-0d95-43e4-9296-a1124539c590",
   "metadata": {},
   "outputs": [
    {
     "data": {
      "text/plain": [
       "'a'"
      ]
     },
     "execution_count": 86,
     "metadata": {},
     "output_type": "execute_result"
    }
   ],
   "source": [
    "last_dict[\"kk2\"][1][\"k21\"]     #dictionarydeki a değerini  elde etmek için"
   ]
  },
  {
   "cell_type": "code",
   "execution_count": null,
   "id": "0c060072-fbe0-4b21-8d60-0353b1d61379",
   "metadata": {},
   "outputs": [],
   "source": []
  }
 ],
 "metadata": {
  "kernelspec": {
   "display_name": "Python [conda env:base] *",
   "language": "python",
   "name": "conda-base-py"
  },
  "language_info": {
   "codemirror_mode": {
    "name": "ipython",
    "version": 3
   },
   "file_extension": ".py",
   "mimetype": "text/x-python",
   "name": "python",
   "nbconvert_exporter": "python",
   "pygments_lexer": "ipython3",
   "version": "3.13.5"
  }
 },
 "nbformat": 4,
 "nbformat_minor": 5
}
