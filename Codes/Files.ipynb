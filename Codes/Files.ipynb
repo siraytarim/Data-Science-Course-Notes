{
 "cells": [
  {
   "cell_type": "code",
   "execution_count": null,
   "id": "e439aecb-d9d6-4805-91b6-667cbbe2f1e0",
   "metadata": {},
   "outputs": [],
   "source": [
    "# dosya oluşturma"
   ]
  },
  {
   "cell_type": "code",
   "execution_count": 4,
   "id": "985ccf2b-8557-4d33-a17b-299d06e29dfb",
   "metadata": {},
   "outputs": [
    {
     "name": "stdout",
     "output_type": "stream",
     "text": [
      "Overwriting myfile.txt\n"
     ]
    }
   ],
   "source": [
    "%%writefile myfile.txt\n",
    "test 1\n",
    "test 2\n",
    "test 3"
   ]
  },
  {
   "cell_type": "code",
   "execution_count": 5,
   "id": "f6b221fa-2cb2-4a2c-9464-995960ddf180",
   "metadata": {},
   "outputs": [],
   "source": [
    "myFile = open(\"myfile.txt\")"
   ]
  },
  {
   "cell_type": "code",
   "execution_count": 7,
   "id": "08dc203a-6309-4b08-bbef-4624b3b3bd04",
   "metadata": {},
   "outputs": [
    {
     "data": {
      "text/plain": [
       "_io.TextIOWrapper"
      ]
     },
     "execution_count": 7,
     "metadata": {},
     "output_type": "execute_result"
    }
   ],
   "source": [
    "type(myFile)"
   ]
  },
  {
   "cell_type": "code",
   "execution_count": 8,
   "id": "9798c832-1bb7-4066-bb35-2910caf78cd5",
   "metadata": {},
   "outputs": [
    {
     "data": {
      "text/plain": [
       "'test 1\\ntest 2\\ntest 3\\n'"
      ]
     },
     "execution_count": 8,
     "metadata": {},
     "output_type": "execute_result"
    }
   ],
   "source": [
    "myFile.read()"
   ]
  },
  {
   "cell_type": "code",
   "execution_count": 9,
   "id": "148a39db-81bc-4944-b42c-a77cec50801e",
   "metadata": {},
   "outputs": [
    {
     "data": {
      "text/plain": [
       "0"
      ]
     },
     "execution_count": 9,
     "metadata": {},
     "output_type": "execute_result"
    }
   ],
   "source": [
    "myFile.seek(0)"
   ]
  },
  {
   "cell_type": "code",
   "execution_count": 10,
   "id": "75dbf7c6-302d-47b9-af32-61cfdbe1c11c",
   "metadata": {},
   "outputs": [
    {
     "data": {
      "text/plain": [
       "'test 1\\ntest 2\\ntest 3\\n'"
      ]
     },
     "execution_count": 10,
     "metadata": {},
     "output_type": "execute_result"
    }
   ],
   "source": [
    "myFile.read()"
   ]
  },
  {
   "cell_type": "code",
   "execution_count": 14,
   "id": "6ee775bf-5958-485c-93eb-db4ce81e7e5f",
   "metadata": {},
   "outputs": [],
   "source": [
    "with open(\"myfile.txt\") as myFile:\n",
    "    myContent = myFile.read()"
   ]
  },
  {
   "cell_type": "code",
   "execution_count": 15,
   "id": "36c05584-d6c9-43f0-ac99-c0b1a2dc1c56",
   "metadata": {},
   "outputs": [
    {
     "data": {
      "text/plain": [
       "'test 1\\ntest 2\\ntest 3\\n'"
      ]
     },
     "execution_count": 15,
     "metadata": {},
     "output_type": "execute_result"
    }
   ],
   "source": [
    "myContent"
   ]
  },
  {
   "cell_type": "code",
   "execution_count": 16,
   "id": "ed8671d4-8148-4170-aaf0-50f87753ac1a",
   "metadata": {},
   "outputs": [
    {
     "data": {
      "text/plain": [
       "'test 1\\ntest 2\\ntest 3\\n'"
      ]
     },
     "execution_count": 16,
     "metadata": {},
     "output_type": "execute_result"
    }
   ],
   "source": [
    "myContent"
   ]
  },
  {
   "cell_type": "code",
   "execution_count": null,
   "id": "c9564a5d-6e15-4c67-9af4-d69cdc847f59",
   "metadata": {},
   "outputs": [],
   "source": [
    "# mode w dosya içeriğini komple değiştiriyor"
   ]
  },
  {
   "cell_type": "code",
   "execution_count": 49,
   "id": "5428a94b-b19e-4beb-b6ca-5202fe7f1502",
   "metadata": {},
   "outputs": [],
   "source": [
    "with open(\"myfile.txt\", mode=\"w\") as WriteFile:\n",
    "    WriteFile.write(\"new line\")"
   ]
  },
  {
   "cell_type": "code",
   "execution_count": 50,
   "id": "952dee51-ff44-4ae3-a68e-aebfb7e1b503",
   "metadata": {},
   "outputs": [],
   "source": [
    "with open(\"myfile.txt\", mode=\"r\") as ReadFile:\n",
    "    myConten2 = ReadFile.read()"
   ]
  },
  {
   "cell_type": "code",
   "execution_count": 51,
   "id": "a01af76c-eb76-4c36-bd2a-9ac493d78952",
   "metadata": {},
   "outputs": [
    {
     "data": {
      "text/plain": [
       "'new line'"
      ]
     },
     "execution_count": 51,
     "metadata": {},
     "output_type": "execute_result"
    }
   ],
   "source": [
    "myConten2"
   ]
  },
  {
   "cell_type": "code",
   "execution_count": null,
   "id": "6912affc-904d-4e31-a124-d402a502dc90",
   "metadata": {},
   "outputs": [],
   "source": [
    "# mode a (append) dosyaya ekleme yapıyor"
   ]
  },
  {
   "cell_type": "code",
   "execution_count": 52,
   "id": "b7d58af5-5299-4d8b-a96a-1e9d02d59af9",
   "metadata": {},
   "outputs": [],
   "source": [
    "with open(\"myfile.txt\", mode=\"a\") as WriteFile:\n",
    "    WriteFile.write(\"new line 2\")"
   ]
  },
  {
   "cell_type": "code",
   "execution_count": 53,
   "id": "7e18093f-b0d0-4546-8b4c-6f6d6a07ac13",
   "metadata": {},
   "outputs": [],
   "source": [
    "with open(\"myfile.txt\", mode=\"r\") as ReadFile:\n",
    "    myContent3 = ReadFile.read()"
   ]
  },
  {
   "cell_type": "code",
   "execution_count": 54,
   "id": "2921a9a3-51fd-4fea-b516-081450fd726f",
   "metadata": {},
   "outputs": [
    {
     "data": {
      "text/plain": [
       "'new linenew line 2'"
      ]
     },
     "execution_count": 54,
     "metadata": {},
     "output_type": "execute_result"
    }
   ],
   "source": [
    "myContent3"
   ]
  }
 ],
 "metadata": {
  "kernelspec": {
   "display_name": "Python [conda env:base] *",
   "language": "python",
   "name": "conda-base-py"
  },
  "language_info": {
   "codemirror_mode": {
    "name": "ipython",
    "version": 3
   },
   "file_extension": ".py",
   "mimetype": "text/x-python",
   "name": "python",
   "nbconvert_exporter": "python",
   "pygments_lexer": "ipython3",
   "version": "3.13.5"
  }
 },
 "nbformat": 4,
 "nbformat_minor": 5
}
