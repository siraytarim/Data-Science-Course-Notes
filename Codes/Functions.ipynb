{
 "cells": [
  {
   "cell_type": "code",
   "execution_count": 1,
   "id": "8ed5e22b-7497-469a-9b81-4325bd9478e7",
   "metadata": {},
   "outputs": [],
   "source": [
    "name= \"sıroş\""
   ]
  },
  {
   "cell_type": "code",
   "execution_count": 2,
   "id": "6b9ea6bb-3959-4345-b952-8c73f7692007",
   "metadata": {},
   "outputs": [
    {
     "data": {
      "text/plain": [
       "'SIROŞ'"
      ]
     },
     "execution_count": 2,
     "metadata": {},
     "output_type": "execute_result"
    }
   ],
   "source": [
    "name.upper()"
   ]
  },
  {
   "cell_type": "code",
   "execution_count": 4,
   "id": "1a2587ab-8a8c-4676-b1b9-4d769dfed2bb",
   "metadata": {},
   "outputs": [
    {
     "name": "stdout",
     "output_type": "stream",
     "text": [
      "Help on built-in function upper:\n",
      "\n",
      "upper() method of builtins.str instance\n",
      "    Return a copy of the string converted to uppercase.\n",
      "\n"
     ]
    }
   ],
   "source": [
    "help(name.upper)"
   ]
  },
  {
   "cell_type": "code",
   "execution_count": 5,
   "id": "449ca533-bbad-4664-bbfa-78e11bef8ed1",
   "metadata": {},
   "outputs": [],
   "source": [
    "#functions"
   ]
  },
  {
   "cell_type": "code",
   "execution_count": 8,
   "id": "498c5f77-d227-4236-b476-d30a647e68e0",
   "metadata": {},
   "outputs": [],
   "source": [
    "def hello():\n",
    "    print(\"mrb\")\n",
    "    print(\"tubiş\")"
   ]
  },
  {
   "cell_type": "code",
   "execution_count": 9,
   "id": "b40205d3-04c8-4b49-a496-1f5c435f394d",
   "metadata": {},
   "outputs": [
    {
     "name": "stdout",
     "output_type": "stream",
     "text": [
      "mrb\n",
      "tubiş\n"
     ]
    }
   ],
   "source": [
    "hello()"
   ]
  },
  {
   "cell_type": "code",
   "execution_count": 11,
   "id": "568c9a2c-ddde-4b80-9345-3650ca2d7a39",
   "metadata": {},
   "outputs": [],
   "source": [
    "def hello(name):\n",
    "    print(\"hello\",name)"
   ]
  },
  {
   "cell_type": "code",
   "execution_count": 12,
   "id": "2cd6ef79-c176-4e41-abdf-1996a40fd69e",
   "metadata": {},
   "outputs": [
    {
     "name": "stdout",
     "output_type": "stream",
     "text": [
      "hello sıray\n"
     ]
    }
   ],
   "source": [
    "hello(\"sıray\")"
   ]
  },
  {
   "cell_type": "code",
   "execution_count": 13,
   "id": "da78ef0c-1ef4-4177-8932-42ead19eef6f",
   "metadata": {},
   "outputs": [],
   "source": [
    "# default value for functions\n",
    "\n",
    "def welcome(name=\"sıray\"):\n",
    "    print(\"welcome\", name)"
   ]
  },
  {
   "cell_type": "code",
   "execution_count": 14,
   "id": "f8122faa-8baa-4365-b244-efec5b81bb11",
   "metadata": {},
   "outputs": [
    {
     "name": "stdout",
     "output_type": "stream",
     "text": [
      "welcome sıray\n"
     ]
    }
   ],
   "source": [
    "welcome()"
   ]
  },
  {
   "cell_type": "code",
   "execution_count": 15,
   "id": "6d1841c2-1688-4990-8437-c97567b99f91",
   "metadata": {},
   "outputs": [],
   "source": [
    "def sum(num1,num2):\n",
    "    return num1+num2\n",
    "    "
   ]
  },
  {
   "cell_type": "code",
   "execution_count": 16,
   "id": "e42523e8-1391-4325-bc75-2e070509ec10",
   "metadata": {},
   "outputs": [
    {
     "data": {
      "text/plain": [
       "7"
      ]
     },
     "execution_count": 16,
     "metadata": {},
     "output_type": "execute_result"
    }
   ],
   "source": [
    "sum(5,2)"
   ]
  },
  {
   "cell_type": "code",
   "execution_count": 64,
   "id": "00575763-dced-4e15-95e9-176440a57386",
   "metadata": {},
   "outputs": [],
   "source": [
    "name_list = [\"sıray\",\"tuğberk\",\"sude\",\"talha\",\"sevgi\",\"sevde\",\"ceyda\",\"rabia\"]\n",
    "new_list= [];"
   ]
  },
  {
   "cell_type": "code",
   "execution_count": 65,
   "id": "33883102-2d3d-4a8b-a9a1-57a2b61a94d9",
   "metadata": {},
   "outputs": [],
   "source": [
    "def find_name():\n",
    "    for name in name_list:\n",
    "        if len(name) == 5:\n",
    "            new_list.append(name)\n",
    "find_name()"
   ]
  },
  {
   "cell_type": "code",
   "execution_count": 66,
   "id": "1fd54365-a3f6-4b17-86c4-5997952357b3",
   "metadata": {},
   "outputs": [
    {
     "data": {
      "text/plain": [
       "['sıray', 'talha', 'sevgi', 'sevde', 'ceyda', 'rabia']"
      ]
     },
     "execution_count": 66,
     "metadata": {},
     "output_type": "execute_result"
    }
   ],
   "source": [
    "new_list"
   ]
  },
  {
   "cell_type": "code",
   "execution_count": 67,
   "id": "1fba779c-82f3-44ea-9873-73926632b132",
   "metadata": {},
   "outputs": [],
   "source": [
    "# args, kwargs (arguments, key word arguments)"
   ]
  },
  {
   "cell_type": "code",
   "execution_count": 77,
   "id": "3c199089-6959-4dc2-96c6-70cf4a71f589",
   "metadata": {},
   "outputs": [],
   "source": [
    "def args_sum(*args):\n",
    "    print(args)"
   ]
  },
  {
   "cell_type": "code",
   "execution_count": 79,
   "id": "ed31362a-1d20-4f0e-aaee-8f02defc3e49",
   "metadata": {},
   "outputs": [
    {
     "name": "stdout",
     "output_type": "stream",
     "text": [
      "(1, 2, 3, 4, 5)\n"
     ]
    }
   ],
   "source": [
    "args_sum(1,2,3,4,5)"
   ]
  },
  {
   "cell_type": "code",
   "execution_count": 92,
   "id": "fbe29b46-5b66-447f-8b16-10453c53a1da",
   "metadata": {},
   "outputs": [],
   "source": [
    "def kwargs_examp(**kwargs):\n",
    "    if \"sıray\" in kwargs:\n",
    "        print(\"yess\")\n",
    "    "
   ]
  },
  {
   "cell_type": "code",
   "execution_count": 91,
   "id": "c690c4f9-9cab-4445-aab3-42a1b2c8fe73",
   "metadata": {},
   "outputs": [
    {
     "name": "stdout",
     "output_type": "stream",
     "text": [
      "yess\n"
     ]
    }
   ],
   "source": [
    "kwargs_examp(sıray=10,tubiş=20)"
   ]
  },
  {
   "cell_type": "code",
   "execution_count": null,
   "id": "17aba8cd-9503-474e-a43e-e91e97331eb3",
   "metadata": {},
   "outputs": [],
   "source": []
  }
 ],
 "metadata": {
  "kernelspec": {
   "display_name": "Python [conda env:base] *",
   "language": "python",
   "name": "conda-base-py"
  },
  "language_info": {
   "codemirror_mode": {
    "name": "ipython",
    "version": 3
   },
   "file_extension": ".py",
   "mimetype": "text/x-python",
   "name": "python",
   "nbconvert_exporter": "python",
   "pygments_lexer": "ipython3",
   "version": "3.13.5"
  }
 },
 "nbformat": 4,
 "nbformat_minor": 5
}
