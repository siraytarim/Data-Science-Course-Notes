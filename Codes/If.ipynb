{
 "cells": [
  {
   "cell_type": "code",
   "execution_count": 1,
   "id": "bcdc46b6-2969-428a-9e45-aeeb710af0ff",
   "metadata": {},
   "outputs": [],
   "source": [
    "x = 5\n",
    "y = 2\n"
   ]
  },
  {
   "cell_type": "code",
   "execution_count": 2,
   "id": "61b83798-0095-4622-bc29-e630d1b76438",
   "metadata": {},
   "outputs": [
    {
     "data": {
      "text/plain": [
       "True"
      ]
     },
     "execution_count": 2,
     "metadata": {},
     "output_type": "execute_result"
    }
   ],
   "source": [
    "x > y"
   ]
  },
  {
   "cell_type": "code",
   "execution_count": 3,
   "id": "339892ea-1440-423f-9ccc-7b465a9b4810",
   "metadata": {},
   "outputs": [],
   "source": [
    "x = 10\n",
    "y = 8\n"
   ]
  },
  {
   "cell_type": "code",
   "execution_count": 4,
   "id": "89295a60-3e5f-40d8-ab86-6f11715fab37",
   "metadata": {},
   "outputs": [
    {
     "data": {
      "text/plain": [
       "False"
      ]
     },
     "execution_count": 4,
     "metadata": {},
     "output_type": "execute_result"
    }
   ],
   "source": [
    "x == y"
   ]
  },
  {
   "cell_type": "code",
   "execution_count": 5,
   "id": "6487312c-7daa-4abe-b1e9-9da57c8430cb",
   "metadata": {},
   "outputs": [],
   "source": [
    "z = 6"
   ]
  },
  {
   "cell_type": "code",
   "execution_count": 9,
   "id": "5971cb34-6cf5-4249-a849-c77f28f08cbd",
   "metadata": {},
   "outputs": [
    {
     "data": {
      "text/plain": [
       "True"
      ]
     },
     "execution_count": 9,
     "metadata": {},
     "output_type": "execute_result"
    }
   ],
   "source": [
    "x > y and z < y"
   ]
  },
  {
   "cell_type": "code",
   "execution_count": 10,
   "id": "337826c3-f43c-47a9-8081-9384422d796f",
   "metadata": {},
   "outputs": [
    {
     "data": {
      "text/plain": [
       "True"
      ]
     },
     "execution_count": 10,
     "metadata": {},
     "output_type": "execute_result"
    }
   ],
   "source": [
    "x > y or y < z "
   ]
  },
  {
   "cell_type": "code",
   "execution_count": 12,
   "id": "7d0fcef4-05b5-4c0c-9f57-012686b68bac",
   "metadata": {},
   "outputs": [
    {
     "data": {
      "text/plain": [
       "False"
      ]
     },
     "execution_count": 12,
     "metadata": {},
     "output_type": "execute_result"
    }
   ],
   "source": [
    "not 1 == 1"
   ]
  },
  {
   "cell_type": "code",
   "execution_count": 13,
   "id": "32c72539-3918-42a7-8c91-32aa0f93755d",
   "metadata": {},
   "outputs": [
    {
     "data": {
      "text/plain": [
       "True"
      ]
     },
     "execution_count": 13,
     "metadata": {},
     "output_type": "execute_result"
    }
   ],
   "source": [
    "10 in [10,20,30]"
   ]
  },
  {
   "cell_type": "code",
   "execution_count": 14,
   "id": "fffad1e3-5093-4b7f-9940-dc09b44896c8",
   "metadata": {},
   "outputs": [
    {
     "data": {
      "text/plain": [
       "True"
      ]
     },
     "execution_count": 14,
     "metadata": {},
     "output_type": "execute_result"
    }
   ],
   "source": [
    "5 not in [10,20,30]"
   ]
  },
  {
   "cell_type": "code",
   "execution_count": 15,
   "id": "b587e2d2-53ce-47d2-84cd-590f9dded551",
   "metadata": {},
   "outputs": [],
   "source": [
    "my_dict= {1:\"a\", 2: \"b\", 3:\"c\"}"
   ]
  },
  {
   "cell_type": "code",
   "execution_count": 17,
   "id": "1d20ff45-8477-4c00-9dd7-b4498cbd2af5",
   "metadata": {},
   "outputs": [
    {
     "data": {
      "text/plain": [
       "True"
      ]
     },
     "execution_count": 17,
     "metadata": {},
     "output_type": "execute_result"
    }
   ],
   "source": [
    "3 in my_dict.keys()"
   ]
  },
  {
   "cell_type": "code",
   "execution_count": 38,
   "id": "b393254d-743e-41cc-8254-cfd183afb46f",
   "metadata": {},
   "outputs": [
    {
     "name": "stdin",
     "output_type": "stream",
     "text": [
      "Enter a superhero: Spiderman\n"
     ]
    }
   ],
   "source": [
    "myHero = input(\"Enter a superhero:\")"
   ]
  },
  {
   "cell_type": "code",
   "execution_count": 39,
   "id": "1eae0294-2fd8-4f05-8ddb-55e8b208e4f3",
   "metadata": {},
   "outputs": [
    {
     "name": "stdout",
     "output_type": "stream",
     "text": [
      "Spiderman\n"
     ]
    }
   ],
   "source": [
    "if myHero == \"Superman\":\n",
    "    print(\"Superman\")\n",
    "elif myHero == \"Batman\":\n",
    "    print(\"Batman\")\n",
    "elif myHero == \"Spiderman\":\n",
    "    print(\"Spiderman\")\n",
    "else:\n",
    "    print(\"Tubiş seçilmiş gibi duruyor :)\")"
   ]
  },
  {
   "cell_type": "code",
   "execution_count": 47,
   "id": "3a4f6304-d477-47d1-8b97-9ebb9e73299a",
   "metadata": {},
   "outputs": [
    {
     "name": "stdin",
     "output_type": "stream",
     "text": [
      "Yaşınızı giriniz:  26\n"
     ]
    }
   ],
   "source": [
    "myAge = input(\"Yaşınızı giriniz: \")\n",
    "# input default str alır!\n",
    "x = int(myAge)"
   ]
  },
  {
   "cell_type": "code",
   "execution_count": 48,
   "id": "c72669af-451e-4eb4-9517-efb95622bf95",
   "metadata": {},
   "outputs": [
    {
     "name": "stdout",
     "output_type": "stream",
     "text": [
      "Siteye yönlendiriliyorsunuz...\n"
     ]
    }
   ],
   "source": [
    "if x >= 18:\n",
    "    print(\"Siteye yönlendiriliyorsunuz...\")\n",
    "elif x < 18:\n",
    "    print(\"Siteye erişim izniniz yok.\")"
   ]
  },
  {
   "cell_type": "code",
   "execution_count": 60,
   "id": "90984abe-d066-4999-ad1d-8508d280d3b2",
   "metadata": {},
   "outputs": [
    {
     "name": "stdin",
     "output_type": "stream",
     "text": [
      "Enter a name of friends:  Sevgi\n"
     ]
    }
   ],
   "source": [
    "myFriend = input(\"Enter a name of friends: \")"
   ]
  },
  {
   "cell_type": "code",
   "execution_count": 61,
   "id": "b9c6d824-9b04-4cb6-b808-878480fc5cfc",
   "metadata": {},
   "outputs": [],
   "source": [
    "myFirendList = [\"Sıray\",\"Sude\",\"Talha\",\"Sevde\",\"Sevgi\",\"Ceyda\"]"
   ]
  },
  {
   "cell_type": "code",
   "execution_count": 62,
   "id": "60806a3f-c4aa-4c12-b8dc-231c8d529b83",
   "metadata": {},
   "outputs": [
    {
     "name": "stdout",
     "output_type": "stream",
     "text": [
      "Doğru kişi.\n"
     ]
    }
   ],
   "source": [
    "if myFriend in myFirendList:\n",
    "    print(\"Doğru kişi.\")\n",
    "else:\n",
    "    print(\"Böyle bir arkadaşınız yok.\")"
   ]
  },
  {
   "cell_type": "code",
   "execution_count": null,
   "id": "18915d48-7941-478c-81af-031bfec0137c",
   "metadata": {},
   "outputs": [],
   "source": []
  }
 ],
 "metadata": {
  "kernelspec": {
   "display_name": "Python [conda env:base] *",
   "language": "python",
   "name": "conda-base-py"
  },
  "language_info": {
   "codemirror_mode": {
    "name": "ipython",
    "version": 3
   },
   "file_extension": ".py",
   "mimetype": "text/x-python",
   "name": "python",
   "nbconvert_exporter": "python",
   "pygments_lexer": "ipython3",
   "version": "3.13.5"
  }
 },
 "nbformat": 4,
 "nbformat_minor": 5
}
