{
 "cells": [
  {
   "cell_type": "code",
   "execution_count": 2,
   "id": "5a56674e-6ccf-4b9c-b473-f1f697384097",
   "metadata": {},
   "outputs": [],
   "source": [
    "import numpy as n"
   ]
  },
  {
   "cell_type": "code",
   "execution_count": 3,
   "id": "e2e0ea15-e2db-4637-8ae8-ebe2954bf5ab",
   "metadata": {},
   "outputs": [],
   "source": [
    "my_list = [10,20,30]"
   ]
  },
  {
   "cell_type": "code",
   "execution_count": 4,
   "id": "c1d56dda-90c0-4b15-9181-4974c73b2cab",
   "metadata": {},
   "outputs": [
    {
     "data": {
      "text/plain": [
       "list"
      ]
     },
     "execution_count": 4,
     "metadata": {},
     "output_type": "execute_result"
    }
   ],
   "source": [
    "type(my_list)"
   ]
  },
  {
   "cell_type": "code",
   "execution_count": 5,
   "id": "3f632e45-f881-4518-a110-ed26f2b48783",
   "metadata": {},
   "outputs": [],
   "source": [
    "np_my_array = np.array(my_list)"
   ]
  },
  {
   "cell_type": "code",
   "execution_count": 6,
   "id": "c7c1c857-e1cb-4559-91e2-ee2487b8d684",
   "metadata": {},
   "outputs": [
    {
     "data": {
      "text/plain": [
       "numpy.ndarray"
      ]
     },
     "execution_count": 6,
     "metadata": {},
     "output_type": "execute_result"
    }
   ],
   "source": [
    "type(np_my_array)"
   ]
  },
  {
   "cell_type": "code",
   "execution_count": 7,
   "id": "7a03fd47-7971-475a-832c-47637bc159b8",
   "metadata": {},
   "outputs": [
    {
     "data": {
      "text/plain": [
       "np.int64(30)"
      ]
     },
     "execution_count": 7,
     "metadata": {},
     "output_type": "execute_result"
    }
   ],
   "source": [
    "np_my_array.max()"
   ]
  },
  {
   "cell_type": "code",
   "execution_count": 8,
   "id": "a18cd2d9-b94e-4a7d-a562-7fb3eb450a7e",
   "metadata": {},
   "outputs": [
    {
     "data": {
      "text/plain": [
       "array([0., 0., 0., 0., 0.])"
      ]
     },
     "execution_count": 8,
     "metadata": {},
     "output_type": "execute_result"
    }
   ],
   "source": [
    "np.zeros(5)"
   ]
  },
  {
   "cell_type": "code",
   "execution_count": 9,
   "id": "c4feccb5-e611-4a12-be8e-80fd7d576e4d",
   "metadata": {},
   "outputs": [
    {
     "data": {
      "text/plain": [
       "array([0.02418465, 0.54598232, 0.4409979 ])"
      ]
     },
     "execution_count": 9,
     "metadata": {},
     "output_type": "execute_result"
    }
   ],
   "source": [
    "np.random.random(3)"
   ]
  },
  {
   "cell_type": "code",
   "execution_count": 10,
   "id": "24dde5e7-08ca-4414-b7bf-f401b420110c",
   "metadata": {},
   "outputs": [],
   "source": [
    "# array arithmetic"
   ]
  },
  {
   "cell_type": "code",
   "execution_count": 11,
   "id": "411e72f0-47a5-4744-ad5a-6ec42720e93d",
   "metadata": {},
   "outputs": [],
   "source": [
    "my_list1 = [1,2]"
   ]
  },
  {
   "cell_type": "code",
   "execution_count": 12,
   "id": "77c72108-504e-4f2d-899d-ed39d3715b5a",
   "metadata": {},
   "outputs": [],
   "source": [
    "my_list2 = [2,3]"
   ]
  },
  {
   "cell_type": "code",
   "execution_count": 13,
   "id": "3322bf8d-b114-4f95-824c-8f81cb4463f6",
   "metadata": {},
   "outputs": [
    {
     "data": {
      "text/plain": [
       "[1, 2, 2, 3]"
      ]
     },
     "execution_count": 13,
     "metadata": {},
     "output_type": "execute_result"
    }
   ],
   "source": [
    "my_list1 + my_list2"
   ]
  },
  {
   "cell_type": "code",
   "execution_count": 15,
   "id": "01b36f9c-6509-4b0c-9b81-bd36153f57be",
   "metadata": {},
   "outputs": [],
   "source": [
    "np_array1 = np.array(my_list1)"
   ]
  },
  {
   "cell_type": "code",
   "execution_count": 17,
   "id": "cbf9351e-75eb-460b-95f3-7bf9048e9951",
   "metadata": {},
   "outputs": [],
   "source": [
    "np_array2 = np.array(my_list2)"
   ]
  },
  {
   "cell_type": "code",
   "execution_count": 18,
   "id": "5fb19d89-7810-415a-a81d-ead36e940dd1",
   "metadata": {},
   "outputs": [
    {
     "data": {
      "text/plain": [
       "array([3, 5])"
      ]
     },
     "execution_count": 18,
     "metadata": {},
     "output_type": "execute_result"
    }
   ],
   "source": [
    "np_array1 + np_array2"
   ]
  },
  {
   "cell_type": "code",
   "execution_count": 19,
   "id": "e7bc216e-a85f-4b71-9e95-b6a26389d5b4",
   "metadata": {},
   "outputs": [
    {
     "data": {
      "text/plain": [
       "array([2, 6])"
      ]
     },
     "execution_count": 19,
     "metadata": {},
     "output_type": "execute_result"
    }
   ],
   "source": [
    "np_array1 * np_array2"
   ]
  },
  {
   "cell_type": "code",
   "execution_count": 20,
   "id": "497ab365-7cf5-4245-947d-4f77d8348a09",
   "metadata": {},
   "outputs": [
    {
     "data": {
      "text/plain": [
       "array([-1, -1])"
      ]
     },
     "execution_count": 20,
     "metadata": {},
     "output_type": "execute_result"
    }
   ],
   "source": [
    "np_array1 - np_array2"
   ]
  },
  {
   "cell_type": "code",
   "execution_count": 23,
   "id": "e4b24007-8eb5-4777-be1a-dc658f206761",
   "metadata": {},
   "outputs": [
    {
     "data": {
      "text/plain": [
       "array([ 5, 10])"
      ]
     },
     "execution_count": 23,
     "metadata": {},
     "output_type": "execute_result"
    }
   ],
   "source": [
    "np_array1 * 5\n",
    "# dizinin değerlerini 5 ile çarpıyor"
   ]
  },
  {
   "cell_type": "code",
   "execution_count": 24,
   "id": "7401b3b6-6a09-4d0b-9678-0e10318e4299",
   "metadata": {},
   "outputs": [
    {
     "data": {
      "text/plain": [
       "[1, 2, 1, 2, 1, 2, 1, 2, 1, 2]"
      ]
     },
     "execution_count": 24,
     "metadata": {},
     "output_type": "execute_result"
    }
   ],
   "source": [
    "my_list1 * 5\n",
    "# listeyi 5 defa yazıyor"
   ]
  },
  {
   "cell_type": "code",
   "execution_count": 26,
   "id": "3fd7f73e-2cf7-45ab-a548-5f09f6954ad1",
   "metadata": {},
   "outputs": [],
   "source": [
    "other_array = np.array([20,40,30,10,50])"
   ]
  },
  {
   "cell_type": "code",
   "execution_count": 27,
   "id": "31b7b5a4-aaa1-4de3-9641-3ba9ab55b6e2",
   "metadata": {},
   "outputs": [
    {
     "data": {
      "text/plain": [
       "np.int64(10)"
      ]
     },
     "execution_count": 27,
     "metadata": {},
     "output_type": "execute_result"
    }
   ],
   "source": [
    "other_array.min()"
   ]
  },
  {
   "cell_type": "code",
   "execution_count": 28,
   "id": "9062aa2b-9035-4977-8484-fbbfa7edc3bf",
   "metadata": {},
   "outputs": [
    {
     "data": {
      "text/plain": [
       "np.int64(150)"
      ]
     },
     "execution_count": 28,
     "metadata": {},
     "output_type": "execute_result"
    }
   ],
   "source": [
    "other_array.sum()"
   ]
  },
  {
   "cell_type": "code",
   "execution_count": 31,
   "id": "0af7e4c0-0000-4b85-9160-78062db5fa72",
   "metadata": {},
   "outputs": [],
   "source": [
    "# other_array * np_array_1\n",
    "# hata verir çünkü broadcasting kuralından dolayı.diziler eşit sayıda indekse  sahip olmalı ya da tek bir sayıyla çarpılmalı"
   ]
  },
  {
   "cell_type": "markdown",
   "id": "148159b4-a585-45f5-a28b-021636779fd8",
   "metadata": {},
   "source": [
    "# arrange & index"
   ]
  },
  {
   "cell_type": "code",
   "execution_count": 34,
   "id": "39652a80-5e91-46dd-b601-646c035669e6",
   "metadata": {},
   "outputs": [
    {
     "data": {
      "text/plain": [
       "[0, 1, 2, 3, 4, 5, 6, 7, 8, 9]"
      ]
     },
     "execution_count": 34,
     "metadata": {},
     "output_type": "execute_result"
    }
   ],
   "source": [
    "list(range(0,10))"
   ]
  },
  {
   "cell_type": "code",
   "execution_count": 35,
   "id": "7111e272-54af-490e-acba-604692ab6019",
   "metadata": {},
   "outputs": [
    {
     "data": {
      "text/plain": [
       "array([0, 1, 2, 3, 4, 5, 6, 7, 8, 9])"
      ]
     },
     "execution_count": 35,
     "metadata": {},
     "output_type": "execute_result"
    }
   ],
   "source": [
    "np.arange(0,10)"
   ]
  },
  {
   "cell_type": "code",
   "execution_count": 38,
   "id": "acae1a10-bd62-4244-992b-41a92ef3003f",
   "metadata": {},
   "outputs": [],
   "source": [
    "np_array = np.arange(0,15)"
   ]
  },
  {
   "cell_type": "code",
   "execution_count": 39,
   "id": "3c4a7151-17f9-4984-881c-29b582cdf139",
   "metadata": {},
   "outputs": [
    {
     "data": {
      "text/plain": [
       "np.int64(0)"
      ]
     },
     "execution_count": 39,
     "metadata": {},
     "output_type": "execute_result"
    }
   ],
   "source": [
    "np_array[0]"
   ]
  },
  {
   "cell_type": "code",
   "execution_count": 42,
   "id": "10137afe-ad04-4a81-9ef1-448ba3048869",
   "metadata": {},
   "outputs": [
    {
     "data": {
      "text/plain": [
       "array([1, 2, 3, 4, 5])"
      ]
     },
     "execution_count": 42,
     "metadata": {},
     "output_type": "execute_result"
    }
   ],
   "source": [
    "np_array[1:6]"
   ]
  },
  {
   "cell_type": "code",
   "execution_count": 43,
   "id": "804851e1-4de5-4ae5-881a-3f4f1ab2d84d",
   "metadata": {},
   "outputs": [
    {
     "data": {
      "text/plain": [
       "array([14, 13, 12, 11, 10,  9,  8,  7,  6,  5,  4,  3,  2,  1,  0])"
      ]
     },
     "execution_count": 43,
     "metadata": {},
     "output_type": "execute_result"
    }
   ],
   "source": [
    "np_array[::-1]"
   ]
  },
  {
   "cell_type": "markdown",
   "id": "80e4c944-1ad7-4ba8-b1fd-28551917cd06",
   "metadata": {},
   "source": [
    "# random"
   ]
  },
  {
   "cell_type": "code",
   "execution_count": 44,
   "id": "27be0ae0-642d-4773-8133-34342e899585",
   "metadata": {},
   "outputs": [
    {
     "data": {
      "text/plain": [
       "array([ 0.165885  , -1.08338464, -1.19536873, -0.91929716])"
      ]
     },
     "execution_count": 44,
     "metadata": {},
     "output_type": "execute_result"
    }
   ],
   "source": [
    "np.random.randn(4)"
   ]
  },
  {
   "cell_type": "code",
   "execution_count": 45,
   "id": "1fa66d89-bcb6-4bf2-ac81-71c7ad7051dd",
   "metadata": {},
   "outputs": [
    {
     "data": {
      "text/plain": [
       "array([[ 0.44772141,  0.94642901, -0.89986323, -0.6880159 ],\n",
       "       [ 0.65865751, -0.29004175, -2.21657805,  1.26953149],\n",
       "       [ 1.67228255, -0.05629661,  1.40003668,  0.29807803],\n",
       "       [-1.69413095, -1.41217347,  0.53789088,  0.02031018]])"
      ]
     },
     "execution_count": 45,
     "metadata": {},
     "output_type": "execute_result"
    }
   ],
   "source": [
    "np.random.randn(4,4)"
   ]
  },
  {
   "cell_type": "code",
   "execution_count": 50,
   "id": "feef769d-c50c-4b0f-ba38-f87d4bddff24",
   "metadata": {},
   "outputs": [
    {
     "data": {
      "text/plain": [
       "array([495, 463,  19,   3, 199, 141], dtype=int32)"
      ]
     },
     "execution_count": 50,
     "metadata": {},
     "output_type": "execute_result"
    }
   ],
   "source": [
    "np.random.randint(1,500,6)\n",
    "# 1'den 500'e kadar olan sayılardan rastgele 6 tanesini seçiyor"
   ]
  },
  {
   "cell_type": "code",
   "execution_count": null,
   "id": "536e3fdc-3a3f-4af7-943e-28cc6fe16a8b",
   "metadata": {},
   "outputs": [],
   "source": []
  }
 ],
 "metadata": {
  "kernelspec": {
   "display_name": "Python [conda env:base] *",
   "language": "python",
   "name": "conda-base-py"
  },
  "language_info": {
   "codemirror_mode": {
    "name": "ipython",
    "version": 3
   },
   "file_extension": ".py",
   "mimetype": "text/x-python",
   "name": "python",
   "nbconvert_exporter": "python",
   "pygments_lexer": "ipython3",
   "version": "3.13.5"
  }
 },
 "nbformat": 4,
 "nbformat_minor": 5
}
