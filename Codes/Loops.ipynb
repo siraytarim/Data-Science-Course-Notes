{
 "cells": [
  {
   "cell_type": "code",
   "execution_count": 8,
   "id": "2419a308-94e2-4da9-ac9e-ebb8598fc435",
   "metadata": {},
   "outputs": [],
   "source": [
    "myList = [10,20,30,40,50,60]"
   ]
  },
  {
   "cell_type": "code",
   "execution_count": 2,
   "id": "a80bdd41-c89e-4bf7-b32d-a4631ef4f858",
   "metadata": {},
   "outputs": [
    {
     "name": "stdout",
     "output_type": "stream",
     "text": [
      "20\n",
      "40\n",
      "60\n",
      "80\n",
      "100\n",
      "120\n"
     ]
    }
   ],
   "source": [
    "for number in myList:\n",
    "    number = number *2\n",
    "    print(number)"
   ]
  },
  {
   "cell_type": "code",
   "execution_count": 9,
   "id": "3f4fb2d5-a83e-424f-8c92-2f3eb2deee23",
   "metadata": {},
   "outputs": [
    {
     "name": "stdout",
     "output_type": "stream",
     "text": [
      "30\n",
      "60\n"
     ]
    }
   ],
   "source": [
    "for number in myList:\n",
    "    if number %6 == 0:\n",
    "        print(number)"
   ]
  },
  {
   "cell_type": "code",
   "execution_count": 10,
   "id": "1a232bbf-c4c4-498b-8ddf-63da6b5a7e9e",
   "metadata": {},
   "outputs": [],
   "source": [
    "my_list = [(\"a\",\"b\"), (\"c\",\"d\"), (\"e\",\"f\")]"
   ]
  },
  {
   "cell_type": "code",
   "execution_count": 11,
   "id": "0825b0cf-7a0b-46e5-92b6-0535b8183daf",
   "metadata": {},
   "outputs": [
    {
     "name": "stdout",
     "output_type": "stream",
     "text": [
      "b\n",
      "d\n",
      "f\n"
     ]
    }
   ],
   "source": [
    "for (x,y) in my_list:\n",
    "    print(y)\n"
   ]
  },
  {
   "cell_type": "code",
   "execution_count": 17,
   "id": "0b6e4e9c-79a2-4548-8cd3-043540df1aa4",
   "metadata": {},
   "outputs": [],
   "source": [
    "myList = [10,20,30,50,60]"
   ]
  },
  {
   "cell_type": "code",
   "execution_count": 18,
   "id": "c8899393-a2cd-4f89-88ba-a2fbb01281c3",
   "metadata": {},
   "outputs": [],
   "source": [
    "for item in myList:\n",
    "    if item == 40:\n",
    "        print(\"yes\")\n",
    "        break\n",
    "    elif item != 40:\n",
    "        continue"
   ]
  },
  {
   "cell_type": "code",
   "execution_count": 5,
   "id": "7954cd8c-dd64-4a42-bdca-4e77a0b36c6f",
   "metadata": {},
   "outputs": [],
   "source": [
    "num = 10"
   ]
  },
  {
   "cell_type": "code",
   "execution_count": 6,
   "id": "b9f0a282-f7ab-40e2-8b17-84a88eb4ca30",
   "metadata": {},
   "outputs": [
    {
     "name": "stdout",
     "output_type": "stream",
     "text": [
      "10\n",
      "9\n",
      "8\n",
      "7\n",
      "6\n",
      "5\n",
      "4\n",
      "3\n",
      "2\n",
      "1\n",
      "0\n"
     ]
    }
   ],
   "source": [
    "while num >= 0:\n",
    "    print(num)\n",
    "    num= num-1"
   ]
  },
  {
   "cell_type": "code",
   "execution_count": 9,
   "id": "e3ae3308-75fd-4e47-8123-65fb5667d038",
   "metadata": {},
   "outputs": [
    {
     "name": "stdin",
     "output_type": "stream",
     "text": [
      "Enter your name: tubiş\n"
     ]
    }
   ],
   "source": [
    "name = input(\"Enter your name:\")"
   ]
  },
  {
   "cell_type": "code",
   "execution_count": 8,
   "id": "2a1b9a6a-690d-431d-9b40-4a7604b5f0d2",
   "metadata": {},
   "outputs": [
    {
     "name": "stdout",
     "output_type": "stream",
     "text": [
      "welcome sıray\n"
     ]
    }
   ],
   "source": [
    "print(f\"welcome {name}\")"
   ]
  },
  {
   "cell_type": "code",
   "execution_count": 10,
   "id": "c00d4762-b106-4130-ab10-643c42c220cc",
   "metadata": {},
   "outputs": [
    {
     "name": "stdout",
     "output_type": "stream",
     "text": [
      "welcome tubiş\n"
     ]
    }
   ],
   "source": [
    "print(\"welcome\",name)"
   ]
  },
  {
   "cell_type": "code",
   "execution_count": 22,
   "id": "9eca2735-1dbe-491a-91a9-f5ea8e53672b",
   "metadata": {},
   "outputs": [],
   "source": [
    "x = 4\n",
    "y = \"Your team members are: \""
   ]
  },
  {
   "cell_type": "code",
   "execution_count": 23,
   "id": "2dcc8a00-8bfb-4daa-ba2c-a4af91635c18",
   "metadata": {},
   "outputs": [
    {
     "name": "stdin",
     "output_type": "stream",
     "text": [
      "Enter a name:  sıray\n",
      "Enter a name:  tubiş\n",
      "Enter a name:  paylö\n",
      "Enter a name:  yuyuyu\n",
      "Enter a name:  lino\n"
     ]
    },
    {
     "name": "stdout",
     "output_type": "stream",
     "text": [
      "Your team members are: sıray, tubiş, paylö, yuyuyu, lino, \n"
     ]
    }
   ],
   "source": [
    "while x >= 0:\n",
    "    name = input(\"Enter a name: \")\n",
    "    x-=1\n",
    "    y += name + \" \"\n",
    "print(y)"
   ]
  },
  {
   "cell_type": "code",
   "execution_count": null,
   "id": "b8365427-fb60-4a6b-a8a0-1be1cb3fa1db",
   "metadata": {},
   "outputs": [],
   "source": []
  }
 ],
 "metadata": {
  "kernelspec": {
   "display_name": "Python [conda env:base] *",
   "language": "python",
   "name": "conda-base-py"
  },
  "language_info": {
   "codemirror_mode": {
    "name": "ipython",
    "version": 3
   },
   "file_extension": ".py",
   "mimetype": "text/x-python",
   "name": "python",
   "nbconvert_exporter": "python",
   "pygments_lexer": "ipython3",
   "version": "3.13.5"
  }
 },
 "nbformat": 4,
 "nbformat_minor": 5
}
