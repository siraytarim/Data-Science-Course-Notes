{
 "cells": [
  {
   "cell_type": "markdown",
   "id": "adfb370a-bd54-4feb-874e-cbccc02aa6e7",
   "metadata": {},
   "source": [
    "# inheritance"
   ]
  },
  {
   "cell_type": "code",
   "execution_count": 74,
   "id": "c44480d3-d469-4c3c-bfb1-cf01638c7a5e",
   "metadata": {},
   "outputs": [],
   "source": [
    "class Musician():\n",
    "\n",
    "    def __init__(self,name):\n",
    "        self.name = name\n",
    "        print(\"musician class\")\n",
    "\n",
    "    def test1(self):\n",
    "        print(\"test1\")\n",
    "\n",
    "    def test2(self):   # METODLARIN İÇİNDE SELF'İ UNUTMA\n",
    "        print(\"test2\")"
   ]
  },
  {
   "cell_type": "code",
   "execution_count": 75,
   "id": "0ecc2c8b-772d-4251-aad0-354a58242c01",
   "metadata": {},
   "outputs": [
    {
     "name": "stdout",
     "output_type": "stream",
     "text": [
      "musician class\n"
     ]
    }
   ],
   "source": [
    "bts = Musician(\"BTS\")"
   ]
  },
  {
   "cell_type": "code",
   "execution_count": 76,
   "id": "af3d822d-9e16-4963-8a75-b50cb8f49b2d",
   "metadata": {},
   "outputs": [
    {
     "name": "stdout",
     "output_type": "stream",
     "text": [
      "test1\n"
     ]
    }
   ],
   "source": [
    "bts.test1()"
   ]
  },
  {
   "cell_type": "code",
   "execution_count": 77,
   "id": "bd2d6c4c-c679-4e2a-9dd5-eebf294df5ac",
   "metadata": {},
   "outputs": [],
   "source": [
    "class MusicianPlus(Musician):\n",
    "\n",
    "    def __init__(self,name):\n",
    "        Musician.__init__(self,name)\n",
    "        print(\"musician plus\")\n",
    "        \n",
    "    # override\n",
    "    def test1(self):\n",
    "         print(\"musician plus test1\")"
   ]
  },
  {
   "cell_type": "code",
   "execution_count": 78,
   "id": "ac1f558d-3387-4e2d-a441-90a1ded35bb9",
   "metadata": {},
   "outputs": [
    {
     "name": "stdout",
     "output_type": "stream",
     "text": [
      "musician class\n",
      "musician plus\n"
     ]
    }
   ],
   "source": [
    "mabel = MusicianPlus(\"Mabel Matiz\")"
   ]
  },
  {
   "cell_type": "code",
   "execution_count": 79,
   "id": "499b8e91-3069-4385-a8d3-6aebb8ded913",
   "metadata": {},
   "outputs": [
    {
     "name": "stdout",
     "output_type": "stream",
     "text": [
      "musician plus test1\n"
     ]
    }
   ],
   "source": [
    "mabel.test1()"
   ]
  },
  {
   "cell_type": "code",
   "execution_count": 80,
   "id": "584cb992-15b5-46cf-aa79-10d69fa6284e",
   "metadata": {},
   "outputs": [
    {
     "data": {
      "text/plain": [
       "__main__.MusicianPlus"
      ]
     },
     "execution_count": 80,
     "metadata": {},
     "output_type": "execute_result"
    }
   ],
   "source": [
    "type(mabel)"
   ]
  },
  {
   "cell_type": "markdown",
   "id": "2a32db1c-0ab5-490a-8b04-4f5d5db2df1e",
   "metadata": {},
   "source": [
    "# polymorphism"
   ]
  },
  {
   "cell_type": "code",
   "execution_count": 83,
   "id": "3e788a9c-6a60-4a3c-801c-09331e8ff6df",
   "metadata": {},
   "outputs": [],
   "source": [
    "class Banana():\n",
    "\n",
    "    def __init__(self,name):\n",
    "        self.name = name\n",
    "\n",
    "    def info(self):\n",
    "        return f\"100 calories {self.name}\"\n",
    "\n",
    "class Apple():\n",
    "\n",
    "    def __init__(self,name):\n",
    "        self.name = name\n",
    "\n",
    "    def info(self):\n",
    "        return f\"110 calories {self.name}\""
   ]
  },
  {
   "cell_type": "code",
   "execution_count": 88,
   "id": "d2ef7526-d40a-4fa8-a4b2-802b70c0ab9d",
   "metadata": {},
   "outputs": [],
   "source": [
    "muz = Banana(\"muz\")"
   ]
  },
  {
   "cell_type": "code",
   "execution_count": 89,
   "id": "654d767c-4580-44fe-ae96-97853cb3ef88",
   "metadata": {},
   "outputs": [
    {
     "data": {
      "text/plain": [
       "'100 calories muz'"
      ]
     },
     "execution_count": 89,
     "metadata": {},
     "output_type": "execute_result"
    }
   ],
   "source": [
    "muz.info()"
   ]
  },
  {
   "cell_type": "code",
   "execution_count": 90,
   "id": "f6375d71-651a-4669-b888-56595c1c7a60",
   "metadata": {},
   "outputs": [],
   "source": [
    "elma = Apple(\"elma\")"
   ]
  },
  {
   "cell_type": "code",
   "execution_count": 91,
   "id": "4725a623-7d2e-47ac-80fd-e012504e5634",
   "metadata": {},
   "outputs": [],
   "source": [
    "fruitList = [muz,elma]"
   ]
  },
  {
   "cell_type": "code",
   "execution_count": 93,
   "id": "511e87c6-016f-4b86-9140-ab9f61db983f",
   "metadata": {},
   "outputs": [
    {
     "name": "stdout",
     "output_type": "stream",
     "text": [
      "100 calories muz\n",
      "110 calories elma\n"
     ]
    }
   ],
   "source": [
    "for fruit in fruitList:\n",
    "    print(fruit.info())"
   ]
  },
  {
   "cell_type": "markdown",
   "id": "f5d1c2c0-0b35-4c18-ad5d-9b66ce7f6cd7",
   "metadata": {},
   "source": [
    "# encapsulation"
   ]
  },
  {
   "cell_type": "code",
   "execution_count": 123,
   "id": "c53a7441-b8ba-4fd1-90e4-a7831ec6c9a9",
   "metadata": {},
   "outputs": [],
   "source": [
    "class Phone():\n",
    "\n",
    "    def __init__(self,name,price):\n",
    "        self.name = name\n",
    "        self.__price = price   # encapsulate edeceğimiz verinin önüne __ koyuyoruz\n",
    "\n",
    "    def info(self):\n",
    "        print(f\"{self.name} price is : ${self.__price}\")\n",
    "\n",
    "    def changePrice(self,price):\n",
    "        self.__price = price\n",
    "        "
   ]
  },
  {
   "cell_type": "code",
   "execution_count": 124,
   "id": "70873db1-3288-472e-977a-036c9b2c659b",
   "metadata": {},
   "outputs": [],
   "source": [
    "iphone = Phone(\"Iphone 14\", 500)"
   ]
  },
  {
   "cell_type": "code",
   "execution_count": 125,
   "id": "e902fb0b-7bc1-4214-89dd-7b6afa834113",
   "metadata": {},
   "outputs": [
    {
     "name": "stdout",
     "output_type": "stream",
     "text": [
      "Iphone 14 price is : $500\n"
     ]
    }
   ],
   "source": [
    "iphone.info()"
   ]
  },
  {
   "cell_type": "code",
   "execution_count": 126,
   "id": "536f0380-353b-48e8-8a97-fc6e66fb8036",
   "metadata": {},
   "outputs": [],
   "source": [
    "iphone.price = 600"
   ]
  },
  {
   "cell_type": "code",
   "execution_count": 127,
   "id": "c7cb7cbd-9531-46b8-bf53-3c559d04df76",
   "metadata": {},
   "outputs": [
    {
     "name": "stdout",
     "output_type": "stream",
     "text": [
      "Iphone 14 price is : $500\n"
     ]
    }
   ],
   "source": [
    "iphone.info()"
   ]
  },
  {
   "cell_type": "code",
   "execution_count": 128,
   "id": "137629cb-68e1-47fa-8307-69605427c86e",
   "metadata": {},
   "outputs": [],
   "source": [
    "iphone.changePrice(900)"
   ]
  },
  {
   "cell_type": "code",
   "execution_count": 129,
   "id": "711a1fdd-9366-4c8e-ac67-bd9bea6cbcf5",
   "metadata": {},
   "outputs": [
    {
     "name": "stdout",
     "output_type": "stream",
     "text": [
      "Iphone 14 price is : $900\n"
     ]
    }
   ],
   "source": [
    "iphone.info()"
   ]
  },
  {
   "cell_type": "markdown",
   "id": "bdaa0ac7-1f54-4142-bd28-63fdc8c44eb0",
   "metadata": {},
   "source": [
    "# abstraction"
   ]
  },
  {
   "cell_type": "code",
   "execution_count": 130,
   "id": "d866d360-6c02-438f-b1cc-6f7debd5f00c",
   "metadata": {},
   "outputs": [],
   "source": [
    "from abc import ABC, abstractmethod"
   ]
  },
  {
   "cell_type": "code",
   "execution_count": 131,
   "id": "c907346e-871e-4c31-901c-7b7429abf1db",
   "metadata": {},
   "outputs": [],
   "source": [
    "class Car(ABC):\n",
    "\n",
    "    @abstractmethod\n",
    "    def maxSpeed():\n",
    "        pass"
   ]
  },
  {
   "cell_type": "code",
   "execution_count": 139,
   "id": "2530d09e-02b1-47ea-8d68-2867b073a1c6",
   "metadata": {},
   "outputs": [],
   "source": [
    "class Tesla(Car):\n",
    "    def maxSpeed(self):\n",
    "        print(\"Max Speed is 200 km\")"
   ]
  },
  {
   "cell_type": "code",
   "execution_count": 140,
   "id": "213d1303-9a3e-4ab5-af33-815e8f949d5c",
   "metadata": {},
   "outputs": [],
   "source": [
    "tesla = Tesla()"
   ]
  },
  {
   "cell_type": "code",
   "execution_count": 141,
   "id": "d47f3c5c-952f-4a86-8611-8fa9eff65147",
   "metadata": {},
   "outputs": [
    {
     "name": "stdout",
     "output_type": "stream",
     "text": [
      "Max Speed is 200 km\n"
     ]
    }
   ],
   "source": [
    "tesla.maxSpeed()"
   ]
  },
  {
   "cell_type": "code",
   "execution_count": null,
   "id": "fdeb0928-5156-4c63-9069-708019fa61ec",
   "metadata": {},
   "outputs": [],
   "source": []
  }
 ],
 "metadata": {
  "kernelspec": {
   "display_name": "Python [conda env:base] *",
   "language": "python",
   "name": "conda-base-py"
  },
  "language_info": {
   "codemirror_mode": {
    "name": "ipython",
    "version": 3
   },
   "file_extension": ".py",
   "mimetype": "text/x-python",
   "name": "python",
   "nbconvert_exporter": "python",
   "pygments_lexer": "ipython3",
   "version": "3.13.5"
  }
 },
 "nbformat": 4,
 "nbformat_minor": 5
}
