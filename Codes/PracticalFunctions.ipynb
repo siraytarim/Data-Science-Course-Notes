{
 "cells": [
  {
   "cell_type": "code",
   "execution_count": 1,
   "id": "d187b50d-84a1-4e4a-ade2-34428add9bb8",
   "metadata": {},
   "outputs": [],
   "source": [
    "my_list = [1,30,50,60,80]"
   ]
  },
  {
   "cell_type": "code",
   "execution_count": 2,
   "id": "79799e05-9ec9-4d6f-b407-c39642fda490",
   "metadata": {},
   "outputs": [],
   "source": [
    "def divideNum(num):\n",
    "    return num/2"
   ]
  },
  {
   "cell_type": "code",
   "execution_count": 3,
   "id": "e53738f0-a81c-4f9c-a11c-e34fbfc257c5",
   "metadata": {},
   "outputs": [],
   "source": [
    "my_result_list= []"
   ]
  },
  {
   "cell_type": "code",
   "execution_count": 5,
   "id": "523bb941-3f92-49eb-bf37-57b785c756a0",
   "metadata": {},
   "outputs": [],
   "source": [
    "for element in my_list:\n",
    "    new = divideNum(element)\n",
    "    my_result_list.append(new)"
   ]
  },
  {
   "cell_type": "code",
   "execution_count": 6,
   "id": "1b084582-8fe4-47fd-b02f-fb1ba5d8a7c1",
   "metadata": {},
   "outputs": [
    {
     "data": {
      "text/plain": [
       "[0.5, 15.0, 25.0, 30.0, 40.0]"
      ]
     },
     "execution_count": 6,
     "metadata": {},
     "output_type": "execute_result"
    }
   ],
   "source": [
    "my_result_list"
   ]
  },
  {
   "cell_type": "markdown",
   "id": "91d179b5-ef73-4339-a728-5e1a5ad26974",
   "metadata": {},
   "source": [
    "### map"
   ]
  },
  {
   "cell_type": "code",
   "execution_count": 11,
   "id": "d8bb503b-f761-44d2-a603-eaceebaa890c",
   "metadata": {},
   "outputs": [
    {
     "data": {
      "text/plain": [
       "[0.5, 15.0, 25.0, 30.0, 40.0]"
      ]
     },
     "execution_count": 11,
     "metadata": {},
     "output_type": "execute_result"
    }
   ],
   "source": [
    "# map sınıfında objeleri haritalıyor, o fonksiyonu uyguluyor\n",
    "list(map(divideNum,my_list))"
   ]
  },
  {
   "cell_type": "markdown",
   "id": "43f4103a-dfc6-47cc-831b-2bb11f6df70d",
   "metadata": {},
   "source": [
    "### filter"
   ]
  },
  {
   "cell_type": "code",
   "execution_count": 12,
   "id": "08ff30b7-7884-46b9-88ca-797ea2baf604",
   "metadata": {},
   "outputs": [],
   "source": [
    "# koleksiyondaki belirli isteğe göre filtreleme"
   ]
  },
  {
   "cell_type": "code",
   "execution_count": 25,
   "id": "c3ae870f-6451-45cc-890f-3ee77e67f1e2",
   "metadata": {},
   "outputs": [],
   "source": [
    "def filternames(my_names):\n",
    "    return \"sıray\" in my_names    "
   ]
  },
  {
   "cell_type": "code",
   "execution_count": 26,
   "id": "7ce0767c-2edc-4d29-ae72-2bf61efb437e",
   "metadata": {},
   "outputs": [],
   "source": [
    "my_names= [\"sıray\",\"tubiş\",\"sıroş\",\"tuğberk\",\"sıray tarım\",\"tuğberk şahinbaş\",\"tarım sıray\",\"şahinbaş tuğberk\"]"
   ]
  },
  {
   "cell_type": "code",
   "execution_count": 27,
   "id": "099d3b1b-710a-4978-a656-297085dd5f5b",
   "metadata": {},
   "outputs": [
    {
     "data": {
      "text/plain": [
       "['sıray', 'sıray tarım', 'tarım sıray']"
      ]
     },
     "execution_count": 27,
     "metadata": {},
     "output_type": "execute_result"
    }
   ],
   "source": [
    "list(filter(filternames,my_names))"
   ]
  },
  {
   "cell_type": "markdown",
   "id": "d7eee8ec-a2fd-45a8-af59-3b8199366090",
   "metadata": {},
   "source": [
    "### lambda"
   ]
  },
  {
   "cell_type": "code",
   "execution_count": 34,
   "id": "300bafc2-38ce-4b8a-8b49-769e52f73699",
   "metadata": {},
   "outputs": [],
   "source": [
    "multiplyLambda = lambda num: num *5"
   ]
  },
  {
   "cell_type": "code",
   "execution_count": 35,
   "id": "f60e49f2-d003-4e90-b672-0ed9c532b87b",
   "metadata": {},
   "outputs": [],
   "source": [
    "numList = [10,20,30,4210]"
   ]
  },
  {
   "cell_type": "code",
   "execution_count": 38,
   "id": "3c5cb489-d59b-41b1-a75e-7a7ba4ef002c",
   "metadata": {},
   "outputs": [
    {
     "data": {
      "text/plain": [
       "[50, 100, 150, 21050]"
      ]
     },
     "execution_count": 38,
     "metadata": {},
     "output_type": "execute_result"
    }
   ],
   "source": [
    "list(map(lambda num: num *5, numList))"
   ]
  },
  {
   "cell_type": "markdown",
   "id": "8b30a768-6e21-4a06-811a-6b7de06b666c",
   "metadata": {},
   "source": [
    "### LEGB => L>Local, E>Enclosing, G>Global, B>Built in"
   ]
  },
  {
   "cell_type": "code",
   "execution_count": 50,
   "id": "094cd4a4-8da7-4eb0-8065-a1460a74be62",
   "metadata": {},
   "outputs": [],
   "source": [
    "# Global\n",
    "myString = \"Sıroş\"\n",
    "\n",
    "def myName():\n",
    "    # Enclosing\n",
    "    myString = \"Sıroş 2\"\n",
    "    #print(myString)\n",
    "    def MyName2():\n",
    "        # local\n",
    "        myString = \"Sıroş 3\"\n",
    "        print(myString)\n",
    "    MyName2()"
   ]
  },
  {
   "cell_type": "code",
   "execution_count": 48,
   "id": "194a7981-b504-4c84-826b-ac34be67a51c",
   "metadata": {},
   "outputs": [
    {
     "data": {
      "text/plain": [
       "'Sıroş'"
      ]
     },
     "execution_count": 48,
     "metadata": {},
     "output_type": "execute_result"
    }
   ],
   "source": [
    "myString"
   ]
  },
  {
   "cell_type": "code",
   "execution_count": 51,
   "id": "1e338177-965a-43cc-a080-3eac5d0e51e2",
   "metadata": {},
   "outputs": [
    {
     "name": "stdout",
     "output_type": "stream",
     "text": [
      "Sıroş 3\n"
     ]
    }
   ],
   "source": [
    "myName()"
   ]
  },
  {
   "cell_type": "code",
   "execution_count": 86,
   "id": "a4bca087-df12-4647-8357-0db306d96d14",
   "metadata": {},
   "outputs": [],
   "source": [
    "y = 3"
   ]
  },
  {
   "cell_type": "code",
   "execution_count": 87,
   "id": "e34f4e7e-2203-4aa5-85f8-9bde69440a2d",
   "metadata": {},
   "outputs": [],
   "source": [
    "def myFunction(y):\n",
    "    print(y)\n",
    "    y = 6\n",
    "    print(y)\n",
    "    return y"
   ]
  },
  {
   "cell_type": "code",
   "execution_count": 89,
   "id": "2db61ef8-0a84-4b73-b301-f74b09189d3d",
   "metadata": {},
   "outputs": [
    {
     "name": "stdout",
     "output_type": "stream",
     "text": [
      "9\n",
      "6\n"
     ]
    },
    {
     "data": {
      "text/plain": [
       "3"
      ]
     },
     "execution_count": 89,
     "metadata": {},
     "output_type": "execute_result"
    }
   ],
   "source": [
    "myFunction(9)\n",
    "y"
   ]
  },
  {
   "cell_type": "code",
   "execution_count": 76,
   "id": "b9af8dc5-5bac-426e-97e0-8e186b689178",
   "metadata": {},
   "outputs": [],
   "source": [
    "z = 10"
   ]
  },
  {
   "cell_type": "code",
   "execution_count": 81,
   "id": "47d12428-a336-4a35-adb0-cc0b23720a72",
   "metadata": {},
   "outputs": [],
   "source": [
    "def changeZ():\n",
    "    global z\n",
    "    z = 16\n",
    "    print(z)"
   ]
  },
  {
   "cell_type": "code",
   "execution_count": 84,
   "id": "8765c00f-0ed2-431a-84dc-b23fbea41ade",
   "metadata": {},
   "outputs": [
    {
     "name": "stdout",
     "output_type": "stream",
     "text": [
      "16\n"
     ]
    }
   ],
   "source": [
    "changeZ()"
   ]
  },
  {
   "cell_type": "code",
   "execution_count": 85,
   "id": "e5cd08b9-8dae-49c0-a5f9-9e3c0c892f18",
   "metadata": {},
   "outputs": [
    {
     "data": {
      "text/plain": [
       "16"
      ]
     },
     "execution_count": 85,
     "metadata": {},
     "output_type": "execute_result"
    }
   ],
   "source": [
    "z"
   ]
  },
  {
   "cell_type": "code",
   "execution_count": null,
   "id": "1c8f5370-c324-4b84-8e64-00ab2e1b685e",
   "metadata": {},
   "outputs": [],
   "source": []
  }
 ],
 "metadata": {
  "kernelspec": {
   "display_name": "Python [conda env:base] *",
   "language": "python",
   "name": "conda-base-py"
  },
  "language_info": {
   "codemirror_mode": {
    "name": "ipython",
    "version": 3
   },
   "file_extension": ".py",
   "mimetype": "text/x-python",
   "name": "python",
   "nbconvert_exporter": "python",
   "pygments_lexer": "ipython3",
   "version": "3.13.5"
  }
 },
 "nbformat": 4,
 "nbformat_minor": 5
}
