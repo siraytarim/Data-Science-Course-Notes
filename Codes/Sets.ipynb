{
 "cells": [
  {
   "cell_type": "code",
   "execution_count": 18,
   "id": "9f8b7629-9274-4fb8-b246-1f3e924cdeb5",
   "metadata": {},
   "outputs": [],
   "source": [
    "# unique elements, unordered, her bir element bir kez var olabilir"
   ]
  },
  {
   "cell_type": "code",
   "execution_count": 5,
   "id": "954f88bd-ff1d-4902-bb36-6af22914dd68",
   "metadata": {},
   "outputs": [],
   "source": [
    "myList = [10,20,30,40,10,20,30,50,40,60]"
   ]
  },
  {
   "cell_type": "code",
   "execution_count": 6,
   "id": "5f8149d4-aaab-47d6-ad76-a75a4110663f",
   "metadata": {},
   "outputs": [],
   "source": [
    "mySet = set(myList)"
   ]
  },
  {
   "cell_type": "code",
   "execution_count": 7,
   "id": "5971c9a9-bb9e-4ab8-8976-88a9ef8427c9",
   "metadata": {},
   "outputs": [
    {
     "data": {
      "text/plain": [
       "{10, 20, 30, 40, 50, 60}"
      ]
     },
     "execution_count": 7,
     "metadata": {},
     "output_type": "execute_result"
    }
   ],
   "source": [
    "mySet"
   ]
  },
  {
   "cell_type": "code",
   "execution_count": 8,
   "id": "103def34-fc49-464b-9ff3-bfbb12c1b8b6",
   "metadata": {},
   "outputs": [],
   "source": [
    "mySet = {1,20,10,20,30,10,10}"
   ]
  },
  {
   "cell_type": "code",
   "execution_count": 11,
   "id": "b3ecee61-c229-4dcc-8d41-8f9b0eef97c3",
   "metadata": {},
   "outputs": [
    {
     "data": {
      "text/plain": [
       "{1, 10, 20, 30}"
      ]
     },
     "execution_count": 11,
     "metadata": {},
     "output_type": "execute_result"
    }
   ],
   "source": [
    "mySet"
   ]
  },
  {
   "cell_type": "code",
   "execution_count": 12,
   "id": "631510da-4326-4291-9f1b-7bd03c6b99ee",
   "metadata": {},
   "outputs": [],
   "source": [
    "mySet2 = {30,40,50,60}"
   ]
  },
  {
   "cell_type": "code",
   "execution_count": 13,
   "id": "8c884d79-e1e7-46e4-8ab3-ad27ccf5cbe9",
   "metadata": {},
   "outputs": [
    {
     "data": {
      "text/plain": [
       "{1, 10, 20, 30, 40, 50, 60}"
      ]
     },
     "execution_count": 13,
     "metadata": {},
     "output_type": "execute_result"
    }
   ],
   "source": [
    "mySet.union(mySet2)"
   ]
  },
  {
   "cell_type": "code",
   "execution_count": 14,
   "id": "5c58aac5-6ae3-4a3c-9969-f6b4c0b687de",
   "metadata": {},
   "outputs": [
    {
     "data": {
      "text/plain": [
       "{30}"
      ]
     },
     "execution_count": 14,
     "metadata": {},
     "output_type": "execute_result"
    }
   ],
   "source": [
    "mySet.intersection(mySet2)"
   ]
  },
  {
   "cell_type": "code",
   "execution_count": 15,
   "id": "a2e4f636-84c2-417a-ba2e-32ea70732509",
   "metadata": {},
   "outputs": [],
   "source": [
    "country_List = [\"TR\", \"DE\",\"NE\", \"F\",\"TR\",\"DE\",\"NE\"]"
   ]
  },
  {
   "cell_type": "code",
   "execution_count": 19,
   "id": "51ac444e-4023-4b82-81ff-f0e251321f7e",
   "metadata": {},
   "outputs": [
    {
     "data": {
      "text/plain": [
       "{'DE', 'F', 'NE', 'TR'}"
      ]
     },
     "execution_count": 19,
     "metadata": {},
     "output_type": "execute_result"
    }
   ],
   "source": [
    "set(country_List)"
   ]
  },
  {
   "cell_type": "code",
   "execution_count": null,
   "id": "fb879e52-c736-4b89-b9b6-9fd60c01edff",
   "metadata": {},
   "outputs": [],
   "source": []
  }
 ],
 "metadata": {
  "kernelspec": {
   "display_name": "Python [conda env:base] *",
   "language": "python",
   "name": "conda-base-py"
  },
  "language_info": {
   "codemirror_mode": {
    "name": "ipython",
    "version": 3
   },
   "file_extension": ".py",
   "mimetype": "text/x-python",
   "name": "python",
   "nbconvert_exporter": "python",
   "pygments_lexer": "ipython3",
   "version": "3.13.5"
  }
 },
 "nbformat": 4,
 "nbformat_minor": 5
}
