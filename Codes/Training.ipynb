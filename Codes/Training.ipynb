{
 "cells": [
  {
   "cell_type": "code",
   "execution_count": 1,
   "id": "228d46af-39b4-4fff-a3b4-44272e3dea99",
   "metadata": {},
   "outputs": [
    {
     "data": {
      "text/plain": [
       "0.8333333333333334"
      ]
     },
     "execution_count": 1,
     "metadata": {},
     "output_type": "execute_result"
    }
   ],
   "source": [
    "5/6"
   ]
  },
  {
   "cell_type": "code",
   "execution_count": 2,
   "id": "81c3c0ba-d5b3-41be-9d76-12d3f667c28a",
   "metadata": {},
   "outputs": [
    {
     "data": {
      "text/plain": [
       "0"
      ]
     },
     "execution_count": 2,
     "metadata": {},
     "output_type": "execute_result"
    }
   ],
   "source": [
    "2^2"
   ]
  },
  {
   "cell_type": "code",
   "execution_count": 3,
   "id": "c1e69440-83e3-41a2-8605-a692852fa417",
   "metadata": {},
   "outputs": [],
   "source": [
    "yas = 5"
   ]
  },
  {
   "cell_type": "code",
   "execution_count": 4,
   "id": "d097317d-94cb-4e43-8aa8-703d914dbf7f",
   "metadata": {},
   "outputs": [
    {
     "data": {
      "text/plain": [
       "25"
      ]
     },
     "execution_count": 4,
     "metadata": {},
     "output_type": "execute_result"
    }
   ],
   "source": [
    "yas *5"
   ]
  },
  {
   "cell_type": "code",
   "execution_count": 5,
   "id": "fe11a546-fe9d-4ada-b345-b18bd9f4e0ec",
   "metadata": {},
   "outputs": [
    {
     "data": {
      "text/plain": [
       "2"
      ]
     },
     "execution_count": 5,
     "metadata": {},
     "output_type": "execute_result"
    }
   ],
   "source": [
    "yas-3"
   ]
  },
  {
   "cell_type": "code",
   "execution_count": 6,
   "id": "c3d9346d-caa5-4f6d-af7f-6d2f6b60d780",
   "metadata": {},
   "outputs": [
    {
     "data": {
      "text/plain": [
       "int"
      ]
     },
     "execution_count": 6,
     "metadata": {},
     "output_type": "execute_result"
    }
   ],
   "source": [
    "type(yas)\n"
   ]
  },
  {
   "cell_type": "code",
   "execution_count": 7,
   "id": "926ee6aa-2842-4427-bfda-5e1aab7bd130",
   "metadata": {},
   "outputs": [],
   "source": [
    "yas = 5.8"
   ]
  },
  {
   "cell_type": "code",
   "execution_count": 8,
   "id": "8fab704b-3dc1-4809-9181-43bc4877f402",
   "metadata": {},
   "outputs": [
    {
     "data": {
      "text/plain": [
       "float"
      ]
     },
     "execution_count": 8,
     "metadata": {},
     "output_type": "execute_result"
    }
   ],
   "source": [
    "type(yas)\n"
   ]
  },
  {
   "cell_type": "code",
   "execution_count": 9,
   "id": "c4b61ad2-96f1-4e99-a2ec-b2e090ff30df",
   "metadata": {},
   "outputs": [],
   "source": [
    "name = \"sıros\""
   ]
  },
  {
   "cell_type": "code",
   "execution_count": 10,
   "id": "7cda1b66-3c84-4712-bb1a-47840b877e20",
   "metadata": {
    "collapsed": true,
    "jupyter": {
     "outputs_hidden": true
    },
    "scrolled": true
   },
   "outputs": [
    {
     "ename": "NameError",
     "evalue": "name 'sıros' is not defined",
     "output_type": "error",
     "traceback": [
      "\u001b[1;31m---------------------------------------------------------------------------\u001b[0m",
      "\u001b[1;31mNameError\u001b[0m                                 Traceback (most recent call last)",
      "Cell \u001b[1;32mIn[10], line 1\u001b[0m\n\u001b[1;32m----> 1\u001b[0m \u001b[38;5;28mprint\u001b[39m(sıros)\n",
      "\u001b[1;31mNameError\u001b[0m: name 'sıros' is not defined"
     ]
    }
   ],
   "source": [
    "print(sıros)"
   ]
  },
  {
   "cell_type": "code",
   "execution_count": 11,
   "id": "e0814ae0-0733-43e7-90ce-eb085893f943",
   "metadata": {},
   "outputs": [
    {
     "name": "stdout",
     "output_type": "stream",
     "text": [
      "sıros\n"
     ]
    }
   ],
   "source": [
    "print(name)"
   ]
  },
  {
   "cell_type": "code",
   "execution_count": 12,
   "id": "aa13007b-a12c-4429-bc89-76b58f0e5a31",
   "metadata": {},
   "outputs": [],
   "source": [
    "name = \"sıros tarımko\""
   ]
  },
  {
   "cell_type": "code",
   "execution_count": 13,
   "id": "4501ba64-f71a-422e-986e-199b57896d6c",
   "metadata": {
    "collapsed": true,
    "jupyter": {
     "outputs_hidden": true
    },
    "scrolled": true
   },
   "outputs": [
    {
     "ename": "AttributeError",
     "evalue": "'str' object has no attribute 'capitalixze'",
     "output_type": "error",
     "traceback": [
      "\u001b[1;31m---------------------------------------------------------------------------\u001b[0m",
      "\u001b[1;31mAttributeError\u001b[0m                            Traceback (most recent call last)",
      "Cell \u001b[1;32mIn[13], line 1\u001b[0m\n\u001b[1;32m----> 1\u001b[0m name\u001b[38;5;241m.\u001b[39mcapitalixze()\n",
      "\u001b[1;31mAttributeError\u001b[0m: 'str' object has no attribute 'capitalixze'"
     ]
    }
   ],
   "source": [
    "name.capitalixze()"
   ]
  },
  {
   "cell_type": "code",
   "execution_count": 14,
   "id": "cdc51ca5-1622-4296-8ba7-79e437271e21",
   "metadata": {},
   "outputs": [
    {
     "data": {
      "text/plain": [
       "'Sıros tarımko'"
      ]
     },
     "execution_count": 14,
     "metadata": {},
     "output_type": "execute_result"
    }
   ],
   "source": [
    "name.capitalize()"
   ]
  },
  {
   "cell_type": "code",
   "execution_count": 15,
   "id": "b0a1854b-9469-41d4-8d56-e952185db901",
   "metadata": {},
   "outputs": [
    {
     "data": {
      "text/plain": [
       "True"
      ]
     },
     "execution_count": 15,
     "metadata": {},
     "output_type": "execute_result"
    }
   ],
   "source": [
    "name.islower()\n"
   ]
  },
  {
   "cell_type": "code",
   "execution_count": 16,
   "id": "6cc07c17-f625-46d7-b41f-c883bf221370",
   "metadata": {
    "collapsed": true,
    "jupyter": {
     "outputs_hidden": true
    },
    "scrolled": true
   },
   "outputs": [
    {
     "ename": "NameError",
     "evalue": "name 'os' is not defined",
     "output_type": "error",
     "traceback": [
      "\u001b[1;31m---------------------------------------------------------------------------\u001b[0m",
      "\u001b[1;31mNameError\u001b[0m                                 Traceback (most recent call last)",
      "Cell \u001b[1;32mIn[16], line 1\u001b[0m\n\u001b[1;32m----> 1\u001b[0m name\u001b[38;5;241m.\u001b[39mfind(os)\n",
      "\u001b[1;31mNameError\u001b[0m: name 'os' is not defined"
     ]
    }
   ],
   "source": [
    "name.find(os)"
   ]
  },
  {
   "cell_type": "code",
   "execution_count": 17,
   "id": "8b641ccc-c211-49a8-b46a-c1e27cda64ae",
   "metadata": {
    "collapsed": true,
    "jupyter": {
     "outputs_hidden": true
    },
    "scrolled": true
   },
   "outputs": [
    {
     "ename": "TypeError",
     "evalue": "find expected at least 1 argument, got 0",
     "output_type": "error",
     "traceback": [
      "\u001b[1;31m---------------------------------------------------------------------------\u001b[0m",
      "\u001b[1;31mTypeError\u001b[0m                                 Traceback (most recent call last)",
      "Cell \u001b[1;32mIn[17], line 1\u001b[0m\n\u001b[1;32m----> 1\u001b[0m name\u001b[38;5;241m.\u001b[39mfind()\n",
      "\u001b[1;31mTypeError\u001b[0m: find expected at least 1 argument, got 0"
     ]
    }
   ],
   "source": [
    "name.find()"
   ]
  },
  {
   "cell_type": "code",
   "execution_count": 18,
   "id": "6b7a5d90-41d6-4a8d-a486-8c9e9b6b17d9",
   "metadata": {},
   "outputs": [
    {
     "data": {
      "text/plain": [
       "False"
      ]
     },
     "execution_count": 18,
     "metadata": {},
     "output_type": "execute_result"
    }
   ],
   "source": [
    "name.isupper()"
   ]
  },
  {
   "cell_type": "code",
   "execution_count": 19,
   "id": "ff0584fa-025d-4fce-929c-b745bcbfc4e6",
   "metadata": {
    "collapsed": true,
    "jupyter": {
     "outputs_hidden": true
    },
    "scrolled": true
   },
   "outputs": [
    {
     "ename": "TypeError",
     "evalue": "count expected at least 1 argument, got 0",
     "output_type": "error",
     "traceback": [
      "\u001b[1;31m---------------------------------------------------------------------------\u001b[0m",
      "\u001b[1;31mTypeError\u001b[0m                                 Traceback (most recent call last)",
      "Cell \u001b[1;32mIn[19], line 1\u001b[0m\n\u001b[1;32m----> 1\u001b[0m name\u001b[38;5;241m.\u001b[39mcount()\n",
      "\u001b[1;31mTypeError\u001b[0m: count expected at least 1 argument, got 0"
     ]
    }
   ],
   "source": [
    "name.count()"
   ]
  },
  {
   "cell_type": "code",
   "execution_count": 20,
   "id": "fb016343-2e6c-45cb-ac2e-70eec79383e3",
   "metadata": {},
   "outputs": [
    {
     "data": {
      "text/plain": [
       "'SIROS TARIMKO'"
      ]
     },
     "execution_count": 20,
     "metadata": {},
     "output_type": "execute_result"
    }
   ],
   "source": [
    "name.upper()"
   ]
  },
  {
   "cell_type": "code",
   "execution_count": 21,
   "id": "78f2ba17-e636-49d3-934c-c87c8c69da14",
   "metadata": {},
   "outputs": [
    {
     "data": {
      "text/plain": [
       "8"
      ]
     },
     "execution_count": 21,
     "metadata": {},
     "output_type": "execute_result"
    }
   ],
   "source": [
    "pow(2,3)"
   ]
  },
  {
   "cell_type": "code",
   "execution_count": 22,
   "id": "ed3cc649-19ed-415b-a79f-a6f48865b11d",
   "metadata": {
    "collapsed": true,
    "jupyter": {
     "outputs_hidden": true
    },
    "scrolled": true
   },
   "outputs": [
    {
     "name": "stdout",
     "output_type": "stream",
     "text": [
      "No Python documentation found for 'sıros tarımko'.\n",
      "Use help() to get the interactive help utility.\n",
      "Use help(str) for help on the str class.\n",
      "\n"
     ]
    }
   ],
   "source": [
    "help(name.format())\n"
   ]
  },
  {
   "cell_type": "code",
   "execution_count": 23,
   "id": "1819140a-3e7b-4c64-a8f6-528fb2abcf60",
   "metadata": {
    "collapsed": true,
    "jupyter": {
     "outputs_hidden": true
    }
   },
   "outputs": [
    {
     "name": "stdout",
     "output_type": "stream",
     "text": [
      "Help on built-in function count:\n",
      "\n",
      "count(sub[, start[, end]], /) method of builtins.str instance\n",
      "    Return the number of non-overlapping occurrences of substring sub in string S[start:end].\n",
      "\n",
      "    Optional arguments start and end are interpreted as in slice notation.\n",
      "\n"
     ]
    }
   ],
   "source": [
    "help(name.count)"
   ]
  },
  {
   "cell_type": "code",
   "execution_count": 24,
   "id": "153b3ff0-926d-4954-93d0-8dbaf834a6ce",
   "metadata": {
    "collapsed": true,
    "jupyter": {
     "outputs_hidden": true,
     "source_hidden": true
    },
    "scrolled": true
   },
   "outputs": [
    {
     "name": "stdout",
     "output_type": "stream",
     "text": [
      "Help on built-in function translate:\n",
      "\n",
      "translate(table, /) method of builtins.str instance\n",
      "    Replace each character in the string using the given translation table.\n",
      "\n",
      "      table\n",
      "        Translation table, which must be a mapping of Unicode ordinals to\n",
      "        Unicode ordinals, strings, or None.\n",
      "\n",
      "    The table must implement lookup/indexing via __getitem__, for instance a\n",
      "    dictionary or list.  If this operation raises LookupError, the character is\n",
      "    left untouched.  Characters mapped to None are deleted.\n",
      "\n"
     ]
    }
   ],
   "source": [
    "help(name.translate)"
   ]
  },
  {
   "cell_type": "code",
   "execution_count": 25,
   "id": "4559b3fe-17e6-4cf6-bb21-f9da3c8cad5c",
   "metadata": {
    "collapsed": true,
    "jupyter": {
     "outputs_hidden": true
    }
   },
   "outputs": [
    {
     "name": "stdout",
     "output_type": "stream",
     "text": [
      "Help on built-in function count:\n",
      "\n",
      "count(sub[, start[, end]], /) method of builtins.str instance\n",
      "    Return the number of non-overlapping occurrences of substring sub in string S[start:end].\n",
      "\n",
      "    Optional arguments start and end are interpreted as in slice notation.\n",
      "\n"
     ]
    }
   ],
   "source": [
    "help(name.count)"
   ]
  },
  {
   "cell_type": "code",
   "execution_count": 26,
   "id": "191c334f-a336-48e0-9edd-38c873b2571a",
   "metadata": {},
   "outputs": [
    {
     "data": {
      "text/plain": [
       "0"
      ]
     },
     "execution_count": 26,
     "metadata": {},
     "output_type": "execute_result"
    }
   ],
   "source": [
    "name.count(\"l\")"
   ]
  },
  {
   "cell_type": "code",
   "execution_count": 27,
   "id": "719dc791-ee04-44c8-b900-87f96512a5b5",
   "metadata": {},
   "outputs": [
    {
     "data": {
      "text/plain": [
       "2"
      ]
     },
     "execution_count": 27,
     "metadata": {},
     "output_type": "execute_result"
    }
   ],
   "source": [
    "name.count(\"s\")"
   ]
  },
  {
   "cell_type": "code",
   "execution_count": 29,
   "id": "4f3b2e10-f7f3-440f-a977-958901947996",
   "metadata": {},
   "outputs": [
    {
     "data": {
      "text/plain": [
       "3"
      ]
     },
     "execution_count": 29,
     "metadata": {},
     "output_type": "execute_result"
    }
   ],
   "source": [
    "name.find(\"o\")"
   ]
  },
  {
   "cell_type": "code",
   "execution_count": 28,
   "id": "2a2de833-a226-4863-a717-407cc726d566",
   "metadata": {
    "collapsed": true,
    "jupyter": {
     "outputs_hidden": true
    },
    "scrolled": true
   },
   "outputs": [
    {
     "name": "stdout",
     "output_type": "stream",
     "text": [
      "Help on built-in function find:\n",
      "\n",
      "find(sub[, start[, end]], /) method of builtins.str instance\n",
      "    Return the lowest index in S where substring sub is found, such that sub is contained within S[start:end].\n",
      "\n",
      "    Optional arguments start and end are interpreted as in slice notation.\n",
      "    Return -1 on failure.\n",
      "\n"
     ]
    }
   ],
   "source": [
    "help(name.find)"
   ]
  },
  {
   "cell_type": "code",
   "execution_count": 30,
   "id": "33249081-51e9-4f59-bf41-d1882e9f3f22",
   "metadata": {},
   "outputs": [
    {
     "name": "stdout",
     "output_type": "stream",
     "text": [
      "sıros /n nbr\n"
     ]
    }
   ],
   "source": [
    "print(\"sıros /n nbr\")"
   ]
  },
  {
   "cell_type": "code",
   "execution_count": null,
   "id": "11d0f2fd-b543-47c4-bade-46d330d212b0",
   "metadata": {},
   "outputs": [],
   "source": [
    "# \\n for new line"
   ]
  },
  {
   "cell_type": "code",
   "execution_count": 32,
   "id": "ac67ceec-0d1c-4e79-a260-9af2d790dc6a",
   "metadata": {},
   "outputs": [
    {
     "name": "stdout",
     "output_type": "stream",
     "text": [
      "sıros \n",
      "nbr \n",
      "bn de iim \n",
      "ok  \n",
      "bb\n"
     ]
    }
   ],
   "source": [
    "print(\"sıros \\nnbr \\nbn de iim \\nok  \\nbb\")"
   ]
  },
  {
   "cell_type": "code",
   "execution_count": 17,
   "id": "6eb992b1-9919-4100-b721-1eded42564ae",
   "metadata": {},
   "outputs": [],
   "source": [
    "#slicing bol bol kullanılacak\n",
    "name= \"sıroş tubiş\""
   ]
  },
  {
   "cell_type": "code",
   "execution_count": 18,
   "id": "206502f9-20ee-4bf1-a7af-1bc0306b72fd",
   "metadata": {},
   "outputs": [
    {
     "data": {
      "text/plain": [
       "'sır'"
      ]
     },
     "execution_count": 18,
     "metadata": {},
     "output_type": "execute_result"
    }
   ],
   "source": [
    "name[0:3]"
   ]
  },
  {
   "cell_type": "code",
   "execution_count": 19,
   "id": "974326d4-8fd1-472c-b6fa-a9dd78560413",
   "metadata": {},
   "outputs": [
    {
     "data": {
      "text/plain": [
       "'srştb'"
      ]
     },
     "execution_count": 19,
     "metadata": {},
     "output_type": "execute_result"
    }
   ],
   "source": [
    "name[0:10:2]"
   ]
  },
  {
   "cell_type": "code",
   "execution_count": 20,
   "id": "ece587c6-dbf5-4456-9c5e-8d2629986911",
   "metadata": {},
   "outputs": [
    {
     "data": {
      "text/plain": [
       "6"
      ]
     },
     "execution_count": 20,
     "metadata": {},
     "output_type": "execute_result"
    }
   ],
   "source": [
    "name.index(\"t\")"
   ]
  },
  {
   "cell_type": "code",
   "execution_count": 21,
   "id": "37e116e5-d204-410d-9c5d-4e619774dabd",
   "metadata": {},
   "outputs": [
    {
     "data": {
      "text/plain": [
       "['sıroş', 'tubiş']"
      ]
     },
     "execution_count": 21,
     "metadata": {},
     "output_type": "execute_result"
    }
   ],
   "source": [
    "name.split()"
   ]
  },
  {
   "cell_type": "code",
   "execution_count": 23,
   "id": "c17ef506-aaca-4dda-9901-6ad2962b463f",
   "metadata": {},
   "outputs": [],
   "source": [
    "myList = [1,2,3,4,5]"
   ]
  },
  {
   "cell_type": "code",
   "execution_count": 26,
   "id": "bf8ee7f5-8673-4638-9667-b84f5eeb1767",
   "metadata": {},
   "outputs": [
    {
     "data": {
      "text/plain": [
       "5"
      ]
     },
     "execution_count": 26,
     "metadata": {},
     "output_type": "execute_result"
    }
   ],
   "source": [
    "myList.pop()"
   ]
  },
  {
   "cell_type": "code",
   "execution_count": 27,
   "id": "3c613de8-917a-46ba-88d2-5608ca29bc66",
   "metadata": {},
   "outputs": [],
   "source": [
    "myList.insert(2,5)"
   ]
  },
  {
   "cell_type": "code",
   "execution_count": 32,
   "id": "f3f23dab-f754-48dd-9c9d-dd13d163883a",
   "metadata": {},
   "outputs": [
    {
     "data": {
      "text/plain": [
       "[1, 2, 3, 4, 5, 6]"
      ]
     },
     "execution_count": 32,
     "metadata": {},
     "output_type": "execute_result"
    }
   ],
   "source": [
    "myList"
   ]
  },
  {
   "cell_type": "code",
   "execution_count": 29,
   "id": "d156d928-3002-4f10-a692-63a513ed62f9",
   "metadata": {},
   "outputs": [],
   "source": [
    "myList.append(6)"
   ]
  },
  {
   "cell_type": "code",
   "execution_count": 31,
   "id": "f415b104-5d4a-48de-9fd1-4cd4bc27fb31",
   "metadata": {},
   "outputs": [],
   "source": [
    "myList.sort()"
   ]
  },
  {
   "cell_type": "code",
   "execution_count": 36,
   "id": "a1408062-9ec7-4f82-b88a-d964ec46a3ce",
   "metadata": {},
   "outputs": [
    {
     "name": "stdin",
     "output_type": "stream",
     "text": [
      "x için değer girin:  5\n"
     ]
    }
   ],
   "source": [
    "x = input(\"x için değer girin: \")"
   ]
  },
  {
   "cell_type": "code",
   "execution_count": 35,
   "id": "5c82e756-50d1-4ee7-931d-a1ec94659196",
   "metadata": {},
   "outputs": [
    {
     "data": {
      "text/plain": [
       "str"
      ]
     },
     "execution_count": 35,
     "metadata": {},
     "output_type": "execute_result"
    }
   ],
   "source": [
    "type(x)"
   ]
  },
  {
   "cell_type": "code",
   "execution_count": 38,
   "id": "9d541370-a8a1-4ff4-9b16-03231d33e38d",
   "metadata": {},
   "outputs": [
    {
     "name": "stdin",
     "output_type": "stream",
     "text": [
      "y için değer girin:  10\n"
     ]
    }
   ],
   "source": [
    "y = input(\"y için değer girin: \")"
   ]
  },
  {
   "cell_type": "code",
   "execution_count": 39,
   "id": "c187c318-05b1-43f6-b9a8-ff12bc2a522a",
   "metadata": {},
   "outputs": [
    {
     "name": "stdin",
     "output_type": "stream",
     "text": [
      "z için değer girin:  15\n"
     ]
    }
   ],
   "source": [
    "z = input(\"z için değer girin: \")"
   ]
  },
  {
   "cell_type": "code",
   "execution_count": 41,
   "id": "80b6c220-d9fe-424e-b22f-f519c4851099",
   "metadata": {},
   "outputs": [],
   "source": [
    "myList.append(x)\n",
    "myList.append(y)\n",
    "myList.append(z)"
   ]
  },
  {
   "cell_type": "code",
   "execution_count": 42,
   "id": "1cc3eda0-b4ee-4ffa-8428-1847d14c4733",
   "metadata": {},
   "outputs": [
    {
     "data": {
      "text/plain": [
       "[1, 2, 3, 4, 5, 6, '5', '5', '10', '15']"
      ]
     },
     "execution_count": 42,
     "metadata": {},
     "output_type": "execute_result"
    }
   ],
   "source": [
    "myList"
   ]
  },
  {
   "cell_type": "code",
   "execution_count": 45,
   "id": "48f376d9-2947-4a72-874c-2f5019ac4476",
   "metadata": {},
   "outputs": [
    {
     "data": {
      "text/plain": [
       "18"
      ]
     },
     "execution_count": 45,
     "metadata": {},
     "output_type": "execute_result"
    }
   ],
   "source": [
    "int(myList[2]) * 6"
   ]
  },
  {
   "cell_type": "code",
   "execution_count": 48,
   "id": "00a4f31b-101a-452d-88d1-51df1eb840ca",
   "metadata": {},
   "outputs": [
    {
     "data": {
      "text/plain": [
       "8.5"
      ]
     },
     "execution_count": 48,
     "metadata": {},
     "output_type": "execute_result"
    }
   ],
   "source": [
    "float(myList[6]) * 1.7"
   ]
  },
  {
   "cell_type": "code",
   "execution_count": 49,
   "id": "884e763e-3868-4c92-a3f1-5d74aec0d214",
   "metadata": {},
   "outputs": [],
   "source": [
    "list = [10,30,50,70]"
   ]
  },
  {
   "cell_type": "code",
   "execution_count": 50,
   "id": "dfe1b094-e5a1-4164-9b4c-34725e56c986",
   "metadata": {},
   "outputs": [
    {
     "data": {
      "text/plain": [
       "list"
      ]
     },
     "execution_count": 50,
     "metadata": {},
     "output_type": "execute_result"
    }
   ],
   "source": [
    "type(list)"
   ]
  },
  {
   "cell_type": "code",
   "execution_count": 52,
   "id": "b630be44-4dfc-4a04-a24a-6f457123ad53",
   "metadata": {},
   "outputs": [],
   "source": [
    "myNestedList = [1,2,3, \"sıray\", [5,6,7]]"
   ]
  },
  {
   "cell_type": "code",
   "execution_count": 58,
   "id": "fe083329-996c-4371-bb41-893da422953f",
   "metadata": {},
   "outputs": [
    {
     "data": {
      "text/plain": [
       "6"
      ]
     },
     "execution_count": 58,
     "metadata": {},
     "output_type": "execute_result"
    }
   ],
   "source": [
    "myNestedList[4][1]"
   ]
  },
  {
   "cell_type": "code",
   "execution_count": null,
   "id": "95301b80-cf10-429f-8d54-d7c89d2d3978",
   "metadata": {},
   "outputs": [],
   "source": []
  }
 ],
 "metadata": {
  "kernelspec": {
   "display_name": "Python [conda env:base] *",
   "language": "python",
   "name": "conda-base-py"
  },
  "language_info": {
   "codemirror_mode": {
    "name": "ipython",
    "version": 3
   },
   "file_extension": ".py",
   "mimetype": "text/x-python",
   "name": "python",
   "nbconvert_exporter": "python",
   "pygments_lexer": "ipython3",
   "version": "3.13.5"
  }
 },
 "nbformat": 4,
 "nbformat_minor": 5
}
