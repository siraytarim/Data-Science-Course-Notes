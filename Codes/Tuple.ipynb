{
 "cells": [
  {
   "cell_type": "code",
   "execution_count": 7,
   "id": "98d1f05b-1697-45fa-bd9b-f4a7d57faef1",
   "metadata": {},
   "outputs": [],
   "source": [
    "myTuple = (10,\"s\",5.76)"
   ]
  },
  {
   "cell_type": "code",
   "execution_count": 8,
   "id": "ebfd93b2-927a-4f8c-8236-52a22e8f2308",
   "metadata": {},
   "outputs": [
    {
     "data": {
      "text/plain": [
       "tuple"
      ]
     },
     "execution_count": 8,
     "metadata": {},
     "output_type": "execute_result"
    }
   ],
   "source": [
    "type(myTuple)"
   ]
  },
  {
   "cell_type": "code",
   "execution_count": 11,
   "id": "be06ccaf-93f4-4c1b-aeb1-b3a012eec8f3",
   "metadata": {},
   "outputs": [
    {
     "data": {
      "text/plain": [
       "10"
      ]
     },
     "execution_count": 11,
     "metadata": {},
     "output_type": "execute_result"
    }
   ],
   "source": [
    "# immutable\n",
    "myTuple[0]\n",
    "# myTuple[0] = 5  hata verir"
   ]
  },
  {
   "cell_type": "code",
   "execution_count": 12,
   "id": "1df30413-86b2-48a1-a880-120206f2d392",
   "metadata": {},
   "outputs": [
    {
     "data": {
      "text/plain": [
       "1"
      ]
     },
     "execution_count": 12,
     "metadata": {},
     "output_type": "execute_result"
    }
   ],
   "source": [
    "myTuple.index(\"s\")"
   ]
  },
  {
   "cell_type": "code",
   "execution_count": 14,
   "id": "7df7305f-3632-4327-b763-81ec78b5fa86",
   "metadata": {},
   "outputs": [],
   "source": [
    "myBoolean = True"
   ]
  },
  {
   "cell_type": "code",
   "execution_count": 17,
   "id": "cfe42b56-19b7-4c50-8fc7-c8d0151a4456",
   "metadata": {},
   "outputs": [
    {
     "name": "stdin",
     "output_type": "stream",
     "text": [
      "yaşınızı giriniz: 16\n"
     ]
    },
    {
     "data": {
      "text/plain": [
       "False"
      ]
     },
     "execution_count": 17,
     "metadata": {},
     "output_type": "execute_result"
    }
   ],
   "source": [
    "yas = input(\"yaşınızı giriniz:\")\n",
    "int(yas) > 18"
   ]
  },
  {
   "cell_type": "code",
   "execution_count": null,
   "id": "1a3b7ef6-9876-4991-b2b4-49b29646fc58",
   "metadata": {},
   "outputs": [],
   "source": []
  }
 ],
 "metadata": {
  "kernelspec": {
   "display_name": "Python [conda env:base] *",
   "language": "python",
   "name": "conda-base-py"
  },
  "language_info": {
   "codemirror_mode": {
    "name": "ipython",
    "version": 3
   },
   "file_extension": ".py",
   "mimetype": "text/x-python",
   "name": "python",
   "nbconvert_exporter": "python",
   "pygments_lexer": "ipython3",
   "version": "3.13.5"
  }
 },
 "nbformat": 4,
 "nbformat_minor": 5
}
