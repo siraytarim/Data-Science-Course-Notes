{
 "cells": [
  {
   "cell_type": "code",
   "execution_count": 6,
   "id": "7d7a7a3e-b8e0-45df-a156-df4d35ec31c9",
   "metadata": {},
   "outputs": [],
   "source": [
    "name: str = \"Sıray\"\n",
    "age : int = 22\n",
    "studen : bool = True"
   ]
  },
  {
   "cell_type": "code",
   "execution_count": 9,
   "id": "bbbac030-8ca9-43fc-b6be-d9c567c834f4",
   "metadata": {},
   "outputs": [],
   "source": [
    "def describe(isim: str, yas: int) -> str:\n",
    "    return f\"İsim: {isim}, Yaş: {yas}\""
   ]
  },
  {
   "cell_type": "code",
   "execution_count": 10,
   "id": "0475d035-2209-4253-8083-88af770e93e6",
   "metadata": {},
   "outputs": [
    {
     "data": {
      "text/plain": [
       "'İsim: sıray, Yaş: 22'"
      ]
     },
     "execution_count": 10,
     "metadata": {},
     "output_type": "execute_result"
    }
   ],
   "source": [
    "describe(\"sıray\",22)"
   ]
  },
  {
   "cell_type": "code",
   "execution_count": 11,
   "id": "af3e2081-8d15-472c-a9f0-00c113a52040",
   "metadata": {},
   "outputs": [],
   "source": [
    "def process_value(value: int | str) ->str:\n",
    "    if isinstance(value,int):\n",
    "        return f\"processed integer: {value}\"\n",
    "    else:\n",
    "        return f\"processed string: {value}\"\n",
    "        "
   ]
  },
  {
   "cell_type": "code",
   "execution_count": 13,
   "id": "1c47ef48-9eb6-4552-9014-0673919915ad",
   "metadata": {},
   "outputs": [
    {
     "data": {
      "text/plain": [
       "'proccessed string: tubiş'"
      ]
     },
     "execution_count": 13,
     "metadata": {},
     "output_type": "execute_result"
    }
   ],
   "source": [
    "process_value(\"tubiş\")"
   ]
  },
  {
   "cell_type": "code",
   "execution_count": 20,
   "id": "0145ec52-65b7-4853-a02c-b98d2d0ba47c",
   "metadata": {},
   "outputs": [],
   "source": [
    "from typing import List\n",
    "\n",
    "def sum_list(numbers: List[int]) ->int:\n",
    "    return sum(numbers)"
   ]
  },
  {
   "cell_type": "code",
   "execution_count": 21,
   "id": "a33cb9fc-f1a4-4e3c-a1f1-5a30f3fd01d5",
   "metadata": {},
   "outputs": [],
   "source": [
    "number = [1,2,3,4,5]"
   ]
  },
  {
   "cell_type": "code",
   "execution_count": 23,
   "id": "eac0c5f2-dc74-4a2d-bf1b-b9cd5ac23967",
   "metadata": {},
   "outputs": [
    {
     "data": {
      "text/plain": [
       "15"
      ]
     },
     "execution_count": 23,
     "metadata": {},
     "output_type": "execute_result"
    }
   ],
   "source": [
    "sum_list(number)"
   ]
  },
  {
   "cell_type": "code",
   "execution_count": null,
   "id": "bfcd191e-c792-4e8c-84f3-e8272a46bf35",
   "metadata": {},
   "outputs": [],
   "source": []
  },
  {
   "cell_type": "code",
   "execution_count": null,
   "id": "6118c58f-f077-4496-9a8d-31427c010e71",
   "metadata": {},
   "outputs": [],
   "source": []
  }
 ],
 "metadata": {
  "kernelspec": {
   "display_name": "Python [conda env:base] *",
   "language": "python",
   "name": "conda-base-py"
  },
  "language_info": {
   "codemirror_mode": {
    "name": "ipython",
    "version": 3
   },
   "file_extension": ".py",
   "mimetype": "text/x-python",
   "name": "python",
   "nbconvert_exporter": "python",
   "pygments_lexer": "ipython3",
   "version": "3.13.5"
  }
 },
 "nbformat": 4,
 "nbformat_minor": 5
}
