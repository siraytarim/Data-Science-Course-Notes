{
 "cells": [
  {
   "cell_type": "code",
   "execution_count": null,
   "id": "09fc8817-6582-4c21-9ade-40eadd044989",
   "metadata": {},
   "outputs": [],
   "source": []
  }
 ],
 "metadata": {
  "kernelspec": {
   "display_name": "",
   "name": ""
  },
  "language_info": {
   "name": ""
  }
 },
 "nbformat": 4,
 "nbformat_minor": 5
}
