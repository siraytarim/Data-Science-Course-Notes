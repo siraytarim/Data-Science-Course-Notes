{
 "cells": [
  {
   "cell_type": "code",
   "execution_count": 1,
   "id": "5d826cbf-e99f-4f95-a21a-c6b3359551ff",
   "metadata": {},
   "outputs": [
    {
     "ename": "SyntaxError",
     "evalue": "invalid syntax (4165517240.py, line 29)",
     "output_type": "error",
     "traceback": [
      "\u001b[1;36m  Cell \u001b[1;32mIn[1], line 29\u001b[1;36m\u001b[0m\n\u001b[1;33m    18 ile 30 yaş arasında bir gençsiniz\u001b[0m\n\u001b[1;37m       ^\u001b[0m\n\u001b[1;31mSyntaxError\u001b[0m\u001b[1;31m:\u001b[0m invalid syntax\n"
     ]
    }
   ],
   "source": [
    "\n",
    "# 1) Aşağıdaki kodun çıktısı ne olacaktır?\n",
    "x = 5\n",
    "y = 3\n",
    "z = 6\n",
    "x > y and z > x\n",
    "\n",
    "# cevap \n",
    "True\n",
    "# 2) Aynı değerlerle kod şu şekilde değiştilirse çıktı ne olacaktır?\n",
    "x < y or z > y\n",
    "\n",
    "# cevap\n",
    "True\n",
    "# 3) Aşağıdaki kodun çıktısı ne olacaktır?\n",
    "'''\n",
    "yas = 20\n",
    "\n",
    "if yas < 18:\n",
    "    print(\"18 yaşından küçüksünüz\")\n",
    "elif yas >= 18 and yas < 30:\n",
    "    print(\"18 ile 30 yaş arasında bir gençsiniz\")\n",
    "elif yas >= 30 and yas < 40:\n",
    "    print(\"30 ve 40 arasına gelmişsiniz\")\n",
    "else:\n",
    "    print(\"40 yaşından daha büyüksünüz\")\n",
    "'''\n",
    "'\\nyas = 20\\n\\nif yas < 18:\\n    print(\"18 yaşından küçüksünüz\")\\nelif yas >= 18 and yas < 30:\\n    print(\"18 ile 30 yaş arasında bir gençsiniz\")\\nelif yas >= 30 and yas < 40:\\n    print(\"30 ve 40 arasına gelmişsiniz\")\\nelse:\\n    print(\"40 yaşından daha büyüksünüz\")\\n'\n",
    "# cevap\n",
    "18 ile 30 yaş arasında bir gençsiniz\n",
    "\n",
    "#4) Aşağıdaki sözlükte, değerler içinde c harfinin geçip geçmediğini gösteren bir if koşulu yazınız\n",
    "my_dictionary = {\"k1\":10,\"k2k\":\"a\",\"k32\":30,\"k4\":\"c\"}\n",
    "# cevap \n",
    "x = \"c\"\n",
    "if x in my_dictionary:\n",
    "    print(\"True\")\n",
    "else:\n",
    "    print(\"False\")\n",
    "    # cevap\n",
    "#5) Aşağıdaki sözlükte, anahtarlar içinde a harfinin geçip geçmediğini gösteren bir if koşulu yazınız\n",
    "my_other_dictionary = {\"b\":203,\"c\":\"a\",\"a\":400,\"d\":\"f\"}\n",
    "# cevap\n",
    "if \"a\" in my_other_dictionary.keys():\n",
    "    print(\"True\")\n",
    "# cevap\n",
    "#6) Aşağıdaki listedeki sayılardan sadece çift sayı olanları yazdıran bir kod yazınız.\n",
    "my_numbers = [1,2,3,4,5,6,19,20,32,21,20,1111,23,24]\n",
    "# cevap\n",
    "for num in my_numbers:\n",
    "    if num %2 == 0:\n",
    "        print(num)\n",
    "# cevap\n",
    "# cevap\n",
    "#7) Aşağıdaki listedeki sayılar bir dairenin yarı çapını vermektedir. \n",
    "#Tüm dairelerin çevresini içeren başka yeni bir liste oluşturunuz. (İpucu: 2 * pi * r)  Pi 3.14 alınabilir.\n",
    "r_list = [3,2,5,8,4,6,9,12]\n",
    "# cevap\n",
    "yarıcap_list = [element*2*3.14 for element in r_list]\n",
    "# cevap\n",
    "# cevap\n",
    "#8) Aşağıdaki listede isim - yaş eşleşmelerinin bulunduğu yapılar mevcuttur.\n",
    "# Sadece yaşların olduğu yeni ve ayrı bir liste oluşturunuz.\n",
    "age_name_list = [(\"Ahmet\",30),(\"Ayse\",24),(\"Mehmet\",40),(\"Fatma\",29)]\n",
    "# cevap\n",
    "age_list =[age for age in age_name_list.keys()] \n",
    "# cevap\n",
    "# cevap\n",
    "#9) Aşağıdaki müzik gruplarından birini rastgele yazdıran bir kod yazınız\n",
    "metal_list = [\"Metallica\",\"Iron Maiden\",\"Dream Theater\",\"Megadeth\",\"AC/DC\"]\n",
    "# cevap\n",
    "from random import randint\n",
    "metal_list[randint(0,len(metal_list)-1)]\n",
    "# cevap\n",
    "# cevap\n",
    "#10) Aşağıdaki kodun çıktısı ne olacaktır?\n",
    "number_list = [5,7,18,21,20,10,405,24]\n",
    "[num % 2 == 0 for num in number_list]\n",
    "18,20,10,24\n",
    "# cevap\n",
    "# cevap\n",
    "# cevap\n",
    " "
   ]
  },
  {
   "cell_type": "code",
   "execution_count": 50,
   "id": "9ebeda53-ecda-4bd7-9cbb-b8381b84ea3c",
   "metadata": {},
   "outputs": [
    {
     "data": {
      "text/plain": [
       "'AC/DC'"
      ]
     },
     "execution_count": 50,
     "metadata": {},
     "output_type": "execute_result"
    }
   ],
   "source": [
    "metal_list = [\"Metallica\",\"Iron Maiden\",\"Dream Theater\",\"Megadeth\",\"AC/DC\"]\n",
    "# cevap\n",
    "from random import randint\n",
    "metal_list[randint(0,len(metal_list)-1)]"
   ]
  },
  {
   "cell_type": "code",
   "execution_count": 45,
   "id": "d1e956f4-ae88-4a93-a8c4-4ba8ab0923e0",
   "metadata": {},
   "outputs": [],
   "source": [
    "for (name,age) in age_name_list:\n",
    "    age_list.append(age)\n",
    "    "
   ]
  },
  {
   "cell_type": "code",
   "execution_count": 44,
   "id": "55d7be61-9fbb-4324-9e1d-017eaf2c461c",
   "metadata": {},
   "outputs": [
    {
     "data": {
      "text/plain": [
       "[30, 24, 40, 29]"
      ]
     },
     "execution_count": 44,
     "metadata": {},
     "output_type": "execute_result"
    }
   ],
   "source": [
    "age_list"
   ]
  },
  {
   "cell_type": "code",
   "execution_count": null,
   "id": "4fad24de-83c0-4eaa-ab3e-459b861fdbb0",
   "metadata": {},
   "outputs": [],
   "source": []
  }
 ],
 "metadata": {
  "kernelspec": {
   "display_name": "Python [conda env:base] *",
   "language": "python",
   "name": "conda-base-py"
  },
  "language_info": {
   "codemirror_mode": {
    "name": "ipython",
    "version": 3
   },
   "file_extension": ".py",
   "mimetype": "text/x-python",
   "name": "python",
   "nbconvert_exporter": "python",
   "pygments_lexer": "ipython3",
   "version": "3.13.5"
  }
 },
 "nbformat": 4,
 "nbformat_minor": 5
}
